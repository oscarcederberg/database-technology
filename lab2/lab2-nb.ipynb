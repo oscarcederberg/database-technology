{
 "cells": [
  {
   "cell_type": "markdown",
   "id": "0277f949",
   "metadata": {},
   "source": [
    "<!-- -*- mode: markdown; coding: utf-8; fill-column: 60; ispell-dictionary: \"english\" -*- -->\n",
    "\n",
    "<meta charset=\"utf-8\"/>\n",
    "<meta name=\"viewport\" content=\"width=device-width,initial-scale=1\"/>\n",
    "<link rel=\"stylesheet\" href=\"style.css\">\n",
    "\n",
    "\n",
    "# EDAF75 - lab 2: Testing the database\n",
    "\n",
    "As usual we have to tell Jupyter to allow SQL:"
   ]
  },
  {
   "cell_type": "code",
   "execution_count": 1,
   "id": "364233c2",
   "metadata": {},
   "outputs": [],
   "source": [
    "!sqlite3 movies.sqlite < lab2.sql"
   ]
  },
  {
   "cell_type": "code",
   "execution_count": 2,
   "id": "d68f2f65",
   "metadata": {},
   "outputs": [],
   "source": [
    "%load_ext sql"
   ]
  },
  {
   "cell_type": "markdown",
   "id": "a473a71b",
   "metadata": {},
   "source": [
    "And then we import our movie database"
   ]
  },
  {
   "cell_type": "code",
   "execution_count": 3,
   "id": "062773cc",
   "metadata": {},
   "outputs": [],
   "source": [
    "%sql sqlite:///movies.sqlite"
   ]
  },
  {
   "cell_type": "markdown",
   "id": "7fb8548e",
   "metadata": {},
   "source": [
    "We want to make sure that SQLite3 really checks our foreign\n",
    "key constraints -- to do that, we run:"
   ]
  },
  {
   "cell_type": "code",
   "execution_count": 4,
   "id": "7418d3c9",
   "metadata": {},
   "outputs": [
    {
     "name": "stdout",
     "output_type": "stream",
     "text": [
      " * sqlite:///movies.sqlite\n",
      "Done.\n"
     ]
    },
    {
     "data": {
      "text/plain": [
       "[]"
      ]
     },
     "execution_count": 4,
     "metadata": {},
     "output_type": "execute_result"
    }
   ],
   "source": [
    "%%sql\n",
    "PRAGMA foreign_keys=ON;"
   ]
  },
  {
   "cell_type": "markdown",
   "id": "f36c5cf4",
   "metadata": {},
   "source": [
    "## SQL statements to review at the lab session\n",
    "\n",
    "Write SQL code for the following tasks:\n",
    "\n",
    "+ Show the names of all movies."
   ]
  },
  {
   "cell_type": "code",
   "execution_count": 5,
   "id": "a0497dca",
   "metadata": {},
   "outputs": [
    {
     "name": "stdout",
     "output_type": "stream",
     "text": [
      " * sqlite:///movies.sqlite\n",
      "Done.\n"
     ]
    },
    {
     "data": {
      "text/html": [
       "<table>\n",
       "    <tr>\n",
       "        <th>imdb_id</th>\n",
       "        <th>title</th>\n",
       "        <th>year</th>\n",
       "        <th>time</th>\n",
       "    </tr>\n",
       "    <tr>\n",
       "        <td>dc1234567</td>\n",
       "        <td>Dösjebro Calling</td>\n",
       "        <td>2010</td>\n",
       "        <td>180</td>\n",
       "    </tr>\n",
       "    <tr>\n",
       "        <td>ts0000000</td>\n",
       "        <td>Trainspotting</td>\n",
       "        <td>1980</td>\n",
       "        <td>167</td>\n",
       "    </tr>\n",
       "    <tr>\n",
       "        <td>nn1234567</td>\n",
       "        <td>Någon film</td>\n",
       "        <td>2000</td>\n",
       "        <td>80</td>\n",
       "    </tr>\n",
       "</table>"
      ],
      "text/plain": [
       "[('dc1234567', 'Dösjebro Calling', 2010, 180),\n",
       " ('ts0000000', 'Trainspotting', 1980, 167),\n",
       " ('nn1234567', 'Någon film', 2000, 80)]"
      ]
     },
     "execution_count": 5,
     "metadata": {},
     "output_type": "execute_result"
    }
   ],
   "source": [
    "%%sql\n",
    "SELECT *\n",
    "FROM movies"
   ]
  },
  {
   "cell_type": "markdown",
   "id": "05b2d0c4",
   "metadata": {},
   "source": [
    "+ Show the performance dates for one of the movies."
   ]
  },
  {
   "cell_type": "code",
   "execution_count": 6,
   "id": "ae3a3b9e",
   "metadata": {},
   "outputs": [
    {
     "name": "stdout",
     "output_type": "stream",
     "text": [
      " * sqlite:///movies.sqlite\n",
      "Done.\n"
     ]
    },
    {
     "data": {
      "text/html": [
       "<table>\n",
       "    <tr>\n",
       "        <th>date</th>\n",
       "    </tr>\n",
       "    <tr>\n",
       "        <td>2022-02-08</td>\n",
       "    </tr>\n",
       "    <tr>\n",
       "        <td>2022-02-09</td>\n",
       "    </tr>\n",
       "</table>"
      ],
      "text/plain": [
       "[('2022-02-08',), ('2022-02-09',)]"
      ]
     },
     "execution_count": 6,
     "metadata": {},
     "output_type": "execute_result"
    }
   ],
   "source": [
    "%%sql\n",
    "SELECT DISTINCT date\n",
    "FROM performances\n",
    "WHERE imdb_id in (\n",
    "    SELECT imdb_id\n",
    "    FROM movies\n",
    "    WHERE title = 'Dösjebro Calling'\n",
    ")"
   ]
  },
  {
   "cell_type": "markdown",
   "id": "aacdcb5d",
   "metadata": {},
   "source": [
    "+ Show all data concerning performances at a given theatere\n",
    "  on a given date."
   ]
  },
  {
   "cell_type": "code",
   "execution_count": 7,
   "id": "b3d76fbf",
   "metadata": {},
   "outputs": [
    {
     "name": "stdout",
     "output_type": "stream",
     "text": [
      " * sqlite:///movies.sqlite\n",
      "Done.\n"
     ]
    },
    {
     "data": {
      "text/html": [
       "<table>\n",
       "    <tr>\n",
       "        <th>performance_id</th>\n",
       "        <th>name</th>\n",
       "        <th>imdb_id</th>\n",
       "        <th>date</th>\n",
       "        <th>time</th>\n",
       "    </tr>\n",
       "    <tr>\n",
       "        <td>ca1e0be72bd4e8843a506aae50b4ccea</td>\n",
       "        <td>Filmstaden Eslöv</td>\n",
       "        <td>nn1234567</td>\n",
       "        <td>2022-02-08</td>\n",
       "        <td>12:00</td>\n",
       "    </tr>\n",
       "    <tr>\n",
       "        <td>9289d529d275cc39ac2b1fb91e7e82ca</td>\n",
       "        <td>Filmstaden Eslöv</td>\n",
       "        <td>nn1234567</td>\n",
       "        <td>2022-02-08</td>\n",
       "        <td>14:00</td>\n",
       "    </tr>\n",
       "    <tr>\n",
       "        <td>241ff33e35a0db87e40c3e3e70cc86a6</td>\n",
       "        <td>Filmstaden Eslöv</td>\n",
       "        <td>nn1234567</td>\n",
       "        <td>2022-02-08</td>\n",
       "        <td>16:00</td>\n",
       "    </tr>\n",
       "    <tr>\n",
       "        <td>2e354dd36a28c892f039fbaecf65f01d</td>\n",
       "        <td>Filmstaden Eslöv</td>\n",
       "        <td>nn1234567</td>\n",
       "        <td>2022-02-08</td>\n",
       "        <td>18:00</td>\n",
       "    </tr>\n",
       "</table>"
      ],
      "text/plain": [
       "[('ca1e0be72bd4e8843a506aae50b4ccea', 'Filmstaden Eslöv', 'nn1234567', '2022-02-08', '12:00'),\n",
       " ('9289d529d275cc39ac2b1fb91e7e82ca', 'Filmstaden Eslöv', 'nn1234567', '2022-02-08', '14:00'),\n",
       " ('241ff33e35a0db87e40c3e3e70cc86a6', 'Filmstaden Eslöv', 'nn1234567', '2022-02-08', '16:00'),\n",
       " ('2e354dd36a28c892f039fbaecf65f01d', 'Filmstaden Eslöv', 'nn1234567', '2022-02-08', '18:00')]"
      ]
     },
     "execution_count": 7,
     "metadata": {},
     "output_type": "execute_result"
    }
   ],
   "source": [
    "%%sql\n",
    "SELECT *\n",
    "FROM performances\n",
    "WHERE name = 'Filmstaden Eslöv' AND date = '2022-02-08'"
   ]
  },
  {
   "cell_type": "markdown",
   "id": "397c005e",
   "metadata": {},
   "source": [
    "+ List all customers"
   ]
  },
  {
   "cell_type": "code",
   "execution_count": 8,
   "id": "f1abab71",
   "metadata": {},
   "outputs": [
    {
     "name": "stdout",
     "output_type": "stream",
     "text": [
      " * sqlite:///movies.sqlite\n",
      "Done.\n"
     ]
    },
    {
     "data": {
      "text/html": [
       "<table>\n",
       "    <tr>\n",
       "        <th>username</th>\n",
       "        <th>name</th>\n",
       "        <th>password</th>\n",
       "    </tr>\n",
       "    <tr>\n",
       "        <td>abc</td>\n",
       "        <td>Göran Persson</td>\n",
       "        <td>lösenord1</td>\n",
       "    </tr>\n",
       "    <tr>\n",
       "        <td>def</td>\n",
       "        <td>Klas Petter</td>\n",
       "        <td>lösenord2</td>\n",
       "    </tr>\n",
       "    <tr>\n",
       "        <td>ghi</td>\n",
       "        <td>Tove Styrke</td>\n",
       "        <td>lösenord3</td>\n",
       "    </tr>\n",
       "</table>"
      ],
      "text/plain": [
       "[('abc', 'Göran Persson', 'lösenord1'),\n",
       " ('def', 'Klas Petter', 'lösenord2'),\n",
       " ('ghi', 'Tove Styrke', 'lösenord3')]"
      ]
     },
     "execution_count": 8,
     "metadata": {},
     "output_type": "execute_result"
    }
   ],
   "source": [
    "%%sql\n",
    "SELECT *\n",
    "FROM customers"
   ]
  },
  {
   "cell_type": "markdown",
   "id": "1587f3bc",
   "metadata": {},
   "source": [
    "+ List all tickets"
   ]
  },
  {
   "cell_type": "code",
   "execution_count": 9,
   "id": "f888e4fc",
   "metadata": {},
   "outputs": [
    {
     "name": "stdout",
     "output_type": "stream",
     "text": [
      " * sqlite:///movies.sqlite\n",
      "Done.\n"
     ]
    },
    {
     "data": {
      "text/html": [
       "<table>\n",
       "    <tr>\n",
       "        <th>ticket_id</th>\n",
       "        <th>username</th>\n",
       "        <th>performance_id</th>\n",
       "    </tr>\n",
       "</table>"
      ],
      "text/plain": [
       "[]"
      ]
     },
     "execution_count": 9,
     "metadata": {},
     "output_type": "execute_result"
    }
   ],
   "source": [
    "%%sql\n",
    "SELECT *\n",
    "FROM tickets"
   ]
  },
  {
   "cell_type": "markdown",
   "id": "ca83d079",
   "metadata": {},
   "source": [
    "## Things to try out yourselves (not reviewed at the lab session)\n",
    "\n",
    "During lab 3 you'll write a REST service for the database\n",
    "you just created, and for the server to work properly, the\n",
    "things below should work.\n",
    "\n",
    "If you have any questions about the material below, feel\n",
    "free to ask them at the QA sessions (see Moodle for how to\n",
    "sign up for them).\n",
    "\n",
    "\n",
    "+ Create a new ticket to some performance (i.e., insert a\n",
    "  new row in your table of tickets)."
   ]
  },
  {
   "cell_type": "code",
   "execution_count": 10,
   "id": "dd368375",
   "metadata": {},
   "outputs": [
    {
     "name": "stdout",
     "output_type": "stream",
     "text": [
      " * sqlite:///movies.sqlite\n",
      "1 rows affected.\n"
     ]
    },
    {
     "data": {
      "text/plain": [
       "[]"
      ]
     },
     "execution_count": 10,
     "metadata": {},
     "output_type": "execute_result"
    }
   ],
   "source": [
    "%%sql\n",
    "INSERT \n",
    "INTO tickets\n",
    "VALUES ((lower(hex(randomblob(16)))), 'abc', 'ca1e0be72bd4e8843a506aae50b4ccea')\n"
   ]
  },
  {
   "cell_type": "markdown",
   "id": "2dfddda0",
   "metadata": {},
   "source": [
    "In newer versions of SQLite (since version 3.35, released\n",
    "  in March 2021), and in\n",
    "  [PostgreSQL](https://www.postgresql.org/docs/current/sql-insert.html),\n",
    "  we can get any value generated during an insert using the\n",
    "  `INSERT...-RETURNING` statement:"
   ]
  },
  {
   "cell_type": "markdown",
   "id": "9f0f5b7b",
   "metadata": {},
   "source": [
    "~~~{.sql}\n",
    "INSERT\n",
    "INTO       students\n",
    "VALUES     ('Amy', 3.9, 1200)\n",
    "RETURNING  s_id\n",
    "~~~\n"
   ]
  },
  {
   "cell_type": "markdown",
   "id": "2b3ce6e8",
   "metadata": {},
   "source": [
    "which would return the generated `s_id` for the new\n",
    "  student.\n",
    "\n",
    "  If your SQLite version is older than 3.35, and you can't\n",
    "  upgrade, you can instead use the following idea: each row\n",
    "  in a SQLite3 table has a `rowid` attribute, it is a unique\n",
    "  integer which essentially tells in which order the rows\n",
    "  were inserted, and it's not displayed in queries unless we\n",
    "  ask for it. SQLite3 also have a function,\n",
    "  `last_insert_rowid()`, which returns the `rowid` of the\n",
    "  last inserted row of a table, so we can see the `s_id` of\n",
    "  the most recently inserted student with the following\n",
    "  query:"
   ]
  },
  {
   "cell_type": "markdown",
   "id": "562a51bf",
   "metadata": {},
   "source": [
    "~~~{.sql}\n",
    "SELECT s_id\n",
    "FROM   students\n",
    "WHERE  rowid = last_insert_rowid();\n",
    "~~~\n"
   ]
  },
  {
   "cell_type": "markdown",
   "id": "c6c80ea5",
   "metadata": {},
   "source": [
    "Now, check what ticket number we got for the ticket we\n",
    "  created above (it should be the same as the ticket id,\n",
    "  which should be a `randomblob`):"
   ]
  },
  {
   "cell_type": "code",
   "execution_count": 11,
   "id": "02c41d21",
   "metadata": {},
   "outputs": [
    {
     "name": "stdout",
     "output_type": "stream",
     "text": [
      " * sqlite:///movies.sqlite\n",
      "Done.\n"
     ]
    },
    {
     "data": {
      "text/html": [
       "<table>\n",
       "    <tr>\n",
       "        <th>ticket_id</th>\n",
       "    </tr>\n",
       "    <tr>\n",
       "        <td>58decb965bbc56c49f6841e64ebac235</td>\n",
       "    </tr>\n",
       "</table>"
      ],
      "text/plain": [
       "[('58decb965bbc56c49f6841e64ebac235',)]"
      ]
     },
     "execution_count": 11,
     "metadata": {},
     "output_type": "execute_result"
    }
   ],
   "source": [
    "%%sql\n",
    "SELECT ticket_id\n",
    "FROM tickets\n",
    "WHERE rowid = last_insert_rowid();"
   ]
  },
  {
   "cell_type": "markdown",
   "id": "3455eaf8",
   "metadata": {},
   "source": [
    "+ Try to insert two movie theaters with the same name (this\n",
    "  should fail)."
   ]
  },
  {
   "cell_type": "code",
   "execution_count": 12,
   "id": "18def3a7",
   "metadata": {},
   "outputs": [
    {
     "name": "stdout",
     "output_type": "stream",
     "text": [
      " * sqlite:///movies.sqlite\n",
      "(sqlite3.IntegrityError) UNIQUE constraint failed: theatres.name\n",
      "[SQL: INSERT \n",
      "INTO theatres\n",
      "VALUES ('Filmstaden Lund', 50)]\n",
      "(Background on this error at: http://sqlalche.me/e/gkpj)\n"
     ]
    }
   ],
   "source": [
    "%%sql\n",
    "INSERT \n",
    "INTO theatres\n",
    "VALUES ('Filmstaden Lund', 50)"
   ]
  },
  {
   "cell_type": "markdown",
   "id": "114abab7",
   "metadata": {},
   "source": [
    "+ Try to insert a performance where the theater doesn’t\n",
    "  exist in the database (this should fail)."
   ]
  },
  {
   "cell_type": "code",
   "execution_count": 13,
   "id": "58d28e66",
   "metadata": {},
   "outputs": [
    {
     "name": "stdout",
     "output_type": "stream",
     "text": [
      " * sqlite:///movies.sqlite\n",
      "(sqlite3.IntegrityError) FOREIGN KEY constraint failed\n",
      "[SQL: INSERT\n",
      "INTO performances\n",
      "VALUES (lower(hex(randomblob(16))), 'Filmstaden Helsingborg', 'dc1234567', '2022-02-08', '18:30')]\n",
      "(Background on this error at: http://sqlalche.me/e/gkpj)\n"
     ]
    }
   ],
   "source": [
    "%%sql\n",
    "INSERT\n",
    "INTO performances\n",
    "VALUES (lower(hex(randomblob(16))), 'Filmstaden Helsingborg', 'dc1234567', '2022-02-08', '18:30')"
   ]
  },
  {
   "cell_type": "markdown",
   "id": "ac2823c2",
   "metadata": {},
   "source": [
    "+ Create a ticket where either the user or the performance\n",
    "  doesn’t exist (this should fail)."
   ]
  },
  {
   "cell_type": "code",
   "execution_count": 15,
   "id": "74400b28",
   "metadata": {},
   "outputs": [
    {
     "name": "stdout",
     "output_type": "stream",
     "text": [
      " * sqlite:///movies.sqlite\n",
      "(sqlite3.IntegrityError) FOREIGN KEY constraint failed\n",
      "[SQL: INSERT \n",
      "INTO tickets\n",
      "VALUES ((lower(hex(randomblob(16)))), 'abc', 'ae0da58f56850bedc53b1b2f57801d32')]\n",
      "(Background on this error at: http://sqlalche.me/e/gkpj)\n"
     ]
    }
   ],
   "source": [
    "%%sql\n",
    "INSERT \n",
    "INTO tickets\n",
    "VALUES ((lower(hex(randomblob(16)))), 'abc', 'ae0da58f56850bedc53b1b2f57801d32')"
   ]
  }
 ],
 "metadata": {
  "kernelspec": {
   "display_name": "Python 3",
   "language": "python",
   "name": "python3"
  },
  "language_info": {
   "codemirror_mode": {
    "name": "ipython",
    "version": 3
   },
   "file_extension": ".py",
   "mimetype": "text/x-python",
   "name": "python",
   "nbconvert_exporter": "python",
   "pygments_lexer": "ipython3",
   "version": "3.10.6"
  },
  "vscode": {
   "interpreter": {
    "hash": "916dbcbb3f70747c44a77c7bcd40155683ae19c65e1c03b4aa3499c5328201f1"
   }
  }
 },
 "nbformat": 4,
 "nbformat_minor": 5
}
