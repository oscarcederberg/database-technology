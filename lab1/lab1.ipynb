{
  "cells": [
    {
      "cell_type": "markdown",
      "id": "9aabd399",
      "metadata": {
        "id": "9aabd399"
      },
      "source": [
        "<!-- # -*- mode: markdown; coding: utf-8; fill-column: 60; org-indent-mode: t; column-number-mode: t; flyspell-mode: t; ispell-local-dictionary: \"en\"; eval: (visual-on); -*- -->\n",
        "\n",
        "<meta charset=\"utf-8\"/>\n",
        "<meta name=\"viewport\" content=\"width=device-width,initial-scale=1\"/>\n",
        "<link rel=\"stylesheet\" href=\"style.css\">\n",
        "\n",
        "\n",
        "# EDAF75 - lab 1: SQL\n",
        "\n",
        "This lab is meant to be run as a `jupyter` notebook, you could download it [here](lab1.zip) (the zip-file contains the notebook and the database, and a [.html-file](lab1.html) which you can read in case you have problems reading/running jupyter notebooks).\n",
        "\n",
        "To start your notebook, you can use the following commands (after you've downloaded [the zip file](lab1.zip) -- observe that the `$` is the shell prompt, you shouldn't type it):"
      ]
    },
    {
      "cell_type": "markdown",
      "id": "637b3836",
      "metadata": {
        "id": "637b3836"
      },
      "source": [
        "```sh\n",
        "$ unzip lab1.zip\n",
        "$ jupyter notebook    # or jupyter lab\n",
        "```\n"
      ]
    },
    {
      "cell_type": "markdown",
      "id": "b31f8c24",
      "metadata": {
        "id": "b31f8c24"
      },
      "source": [
        "This should start jupyter in a browser tab, and there you can click \"lab1.ipynb\".\n",
        "\n",
        "\n",
        "# Background\n",
        "\n",
        "We have a database to handle the academic achievements of students at LTH -- in it we have four tables:\n",
        "\n",
        "<hr>\n",
        "<table rules=\"all\">\n",
        " <tr>\n",
        "  <th align=\"left\"><code>students:</code></th>\n",
        "  <th></th>\n",
        " </tr>\n",
        " <tr>\n",
        "  <td><code>ssn</code></td>\n",
        "  <td>social security number</td>\n",
        " </tr>\n",
        " <tr>\n",
        "  <td><code>first_name</code></td>\n",
        "  <td>first name (obviously!)</td>\n",
        " </tr>\n",
        " <tr>\n",
        "  <td><code>last_name</code></td>\n",
        "  <td>last name</td>\n",
        " </tr>\n",
        "</table>\n",
        "\n",
        "<hr>\n",
        "<table rules=\"all\">\n",
        " <tr>\n",
        "  <th align=\"left\"><code>departments:</code></th>\n",
        "  <th></th>\n",
        " </tr>\n",
        " <tr>\n",
        "  <td><code>department_code</code></td>\n",
        "  <td>unique code for each department</td>\n",
        " </tr>\n",
        " <tr>\n",
        "  <td><code>department_name</code></td>\n",
        "  <td>the name of the department, in Swedish</td>\n",
        " </tr>\n",
        "</table>\n",
        "\n",
        "<hr>\n",
        "<table rules=\"all\">\n",
        " <tr>\n",
        "  <th align=\"left\"><code>courses:</code></th>\n",
        "  <th></th>\n",
        " </tr>\n",
        " <tr>\n",
        "  <td><code>course_code</code></td>\n",
        "  <td>course code, like <code>EDAF75</code></td>\n",
        " </tr>\n",
        " <tr>\n",
        "  <td><code>course_name</code></td>\n",
        "  <td>the name of the course, in Swedish (like \"Databasteknik\")</td>\n",
        " </tr>\n",
        " <tr>\n",
        "  <td><code>department_code</code></td>\n",
        "  <td>the department giving the course</td>\n",
        " </tr>\n",
        " <tr>\n",
        "  <td><code>level</code></td>\n",
        "  <td>the course level, like \"G1\", \"G2\", or \"A\"</td>\n",
        " </tr>\n",
        " <tr>\n",
        "  <td><code>credits</code></td>\n",
        "  <td>the number of credits for the course, like 7.5</td>\n",
        " </tr>\n",
        "</table>\n",
        "\n",
        "<hr>\n",
        "<table rules=\"all\">\n",
        " <tr>\n",
        "  <th align=\"left\"><code>taken_courses:</code></th>\n",
        "  <th></th>\n",
        " </tr>\n",
        " <tr>\n",
        "  <td><code>ssn</code></td>\n",
        "  <td>the social security number of a student</td>\n",
        " </tr>\n",
        " <tr>\n",
        "  <td><code>course_code</code></td>\n",
        "  <td>the course code for the course the student has taken</td>\n",
        " </tr>\n",
        " <tr>\n",
        "  <td><code>grade</code></td>\n",
        "  <td>the grade for the student passing the course</td>\n",
        " </tr>\n",
        "</table>\n",
        "\n",
        "<hr>\n",
        "\n",
        "<center>\n",
        "  <img src=\"https://github.com/oscarcederberg/database-technology/blob/main/lab1/lab1-uml.png?raw=1\">\n",
        "</center>\n",
        "\n",
        "Some sample data:"
      ]
    },
    {
      "cell_type": "markdown",
      "id": "62932e0e",
      "metadata": {
        "id": "62932e0e"
      },
      "source": [
        "```text\n",
        "ssn           first_name   last_name\n",
        "---           ----------   ---------\n",
        "861103–2438   Bo           Ek\n",
        "911212–1746   Eva          Alm\n",
        "950829–1848   Anna         Nyström\n",
        "...           ...          ...\n",
        "\n",
        "department_code  department_name\n",
        "---------------  ----------------------------------------\n",
        "eda              Datavetenskap\n",
        "edi              Informationsteori\n",
        "eem              Elektrisk mätteknik\n",
        "eie              Industriell elektroteknik och automation\n",
        "...              ...\n",
        "\n",
        "course_code  course_name                         department_code  level  credits\n",
        "-----------  ----------------------------------  ---------------  -----  -------\n",
        "ETTN05       Adaptiv signalbehandling            eit              A      7.5\n",
        "FMAN10       Algebraiska strukturer              fma              A      7.5\n",
        "ETIN80       Algoritmer i signalprocessorer...   eit              A      7.5\n",
        "EDAF05       Algoritmer, datastrukturer och...   eda              G2     5.0\n",
        "...          ...                                 ...              ...    ...\n",
        "\n",
        "ssn           course_code   grade\n",
        "---           -----------   -----\n",
        "861103–2438   EDA016        4\n",
        "861103–2438   EDAA01        3\n",
        "911212–1746   EDA016        3\n",
        "...           ...           ...\n",
        "```\n"
      ]
    },
    {
      "cell_type": "markdown",
      "id": "94277573",
      "metadata": {
        "id": "94277573"
      },
      "source": [
        "The tables have been created with the following SQL\n",
        "statements:"
      ]
    },
    {
      "cell_type": "markdown",
      "id": "3ce1751a",
      "metadata": {
        "id": "3ce1751a"
      },
      "source": [
        "```sql\n",
        "CREATE TABLE students (\n",
        "  ssn          CHAR(11),\n",
        "  first_name   TEXT NOT NULL,\n",
        "  last_name    TEXT NOT NULL,\n",
        "  PRIMARY KEY  (ssn)\n",
        ");\n",
        "\n",
        "CREATE TABLE departments (\n",
        "  department_code    TEXT,\n",
        "  department_name    TEXT,\n",
        "  PRIMARY KEY (department_code)\n",
        ");\n",
        "\n",
        "CREATE TABLE courses (\n",
        "  course_code      CHAR(6),\n",
        "  course_name      TEXT NOT NULL,\n",
        "  department_code  TEXT,\n",
        "  level            CHAR(2),\n",
        "  credits          DOUBLE NOT NULL CHECK (credits >= 0),\n",
        "  PRIMARY KEY      (course_code),\n",
        "  FOREIGN KEY      (department_code) REFERENCES departments(department_code)\n",
        ");\n",
        "\n",
        "CREATE TABLE taken_courses (\n",
        "  ssn           CHAR(11),\n",
        "  course_code   CHAR(6),\n",
        "  grade         INTEGER NOT NULL CHECK (grade >= 3 AND grade <= 5),\n",
        "  PRIMARY KEY   (ssn, course_code),\n",
        "  FOREIGN KEY   (ssn) REFERENCES students(ssn),\n",
        "  FOREIGN KEY   (course_code) REFERENCES courses(course_code)\n",
        ");\n",
        "```\n"
      ]
    },
    {
      "cell_type": "markdown",
      "id": "e02782e8",
      "metadata": {
        "id": "e02782e8"
      },
      "source": [
        "All courses offered at the \"Computer Science and Engineering\" program at LTH during the academic year 2013/14 are in the table 'courses`. Also, the database has been filled with made up data. SQL statements like the following have been used to insert the data:"
      ]
    },
    {
      "cell_type": "markdown",
      "id": "de71b97f",
      "metadata": {
        "id": "de71b97f"
      },
      "source": [
        "```sql\n",
        "INTO   students(ssn, first_name, last_name)\n",
        "VALUES ('950705-2308', 'Anna', 'Johansson'),\n",
        "       ('930702-3582', 'Anna', 'Johansson'),\n",
        "       ('911212-1746', 'Eva', 'Alm'),\n",
        "       ('910707-3787', 'Eva', 'Nilsson'),\n",
        "       ...\n",
        "```\n"
      ]
    },
    {
      "cell_type": "markdown",
      "id": "2f000365",
      "metadata": {
        "id": "2f000365"
      },
      "source": [
        "The information about which departments gives which courses is somewhat haphazard (some of the departments in the database no longer exist, and some of them may never have existed).\n",
        "Our database assumes each course is given by a single department, in real life, departments can share courses -- if you want to practice what we're talking about in week 2 and week 3, try to come up with a modification of the database design, which allows departments to share courses (you can ask your TA about it during the lab session).\n",
        "\n",
        "\n",
        "# Assignments\n",
        "\n",
        "To pass this lab, you only need to show your solutions to the problems marked REVIEW below -- that's the only ones we'll be looking at during the lab sessions.\n",
        "You can skip the other problems at your own discretion, but I strongly recommend that you try them out, for practice.\n",
        "\n",
        "As said above, this lab is designed to be run as a jupyter notebook (either using =jupyter lab=, or =jupyter notebook=).\n",
        "If you haven't been able to get =jupyter= up and running on your computer, you can run the sql-commands for the problems below interactively inside =sqlite3=, or as a script file with all your commands, or inside some IDE, like [DB Browser for SQLite](https://sqlitebrowser.org/).\n",
        "\n",
        "If you're running the lab as a notebook (and hopefully you are!), evaluate the following cells before you begin:"
      ]
    },
    {
      "cell_type": "code",
      "execution_count": 1,
      "id": "95ce919f",
      "metadata": {
        "id": "95ce919f"
      },
      "outputs": [],
      "source": [
        "%load_ext sql"
      ]
    },
    {
      "cell_type": "code",
      "execution_count": 10,
      "id": "cebd7ab3",
      "metadata": {
        "colab": {
          "base_uri": "https://localhost:8080/",
          "height": 34
        },
        "id": "cebd7ab3",
        "outputId": "b75a5b33-2f52-443e-f435-62be9d0aefab"
      },
      "outputs": [
        {
          "data": {
            "application/vnd.google.colaboratory.intrinsic+json": {
              "type": "string"
            },
            "text/plain": [
              "'Connected: @lab1.sqlite'"
            ]
          },
          "execution_count": 10,
          "metadata": {},
          "output_type": "execute_result"
        }
      ],
      "source": [
        "%sql sqlite:///lab1.sqlite"
      ]
    },
    {
      "cell_type": "markdown",
      "id": "6b818832",
      "metadata": {
        "id": "6b818832"
      },
      "source": [
        "The tables `students`, `departments`, `courses` and `taken_courses` are already in your database, you can see some of their contents by running the cells below:"
      ]
    },
    {
      "cell_type": "code",
      "execution_count": 11,
      "id": "75d64375",
      "metadata": {
        "colab": {
          "base_uri": "https://localhost:8080/",
          "height": 161
        },
        "id": "75d64375",
        "outputId": "b2cc3c45-3e61-443e-cd12-aa31296b570c"
      },
      "outputs": [
        {
          "name": "stdout",
          "output_type": "stream",
          "text": [
            " * sqlite:///lab1.sqlite\n",
            "Done.\n"
          ]
        },
        {
          "data": {
            "text/html": [
              "<table>\n",
              "    <thead>\n",
              "        <tr>\n",
              "            <th>ssn</th>\n",
              "            <th>first_name</th>\n",
              "            <th>last_name</th>\n",
              "        </tr>\n",
              "    </thead>\n",
              "    <tbody>\n",
              "        <tr>\n",
              "            <td>950705-2308</td>\n",
              "            <td>Anna</td>\n",
              "            <td>Johansson</td>\n",
              "        </tr>\n",
              "        <tr>\n",
              "            <td>930702-3582</td>\n",
              "            <td>Anna</td>\n",
              "            <td>Johansson</td>\n",
              "        </tr>\n",
              "        <tr>\n",
              "            <td>911212-1746</td>\n",
              "            <td>Eva</td>\n",
              "            <td>Alm</td>\n",
              "        </tr>\n",
              "        <tr>\n",
              "            <td>910707-3787</td>\n",
              "            <td>Eva</td>\n",
              "            <td>Nilsson</td>\n",
              "        </tr>\n",
              "    </tbody>\n",
              "</table>"
            ],
            "text/plain": [
              "[('950705-2308', 'Anna', 'Johansson'),\n",
              " ('930702-3582', 'Anna', 'Johansson'),\n",
              " ('911212-1746', 'Eva', 'Alm'),\n",
              " ('910707-3787', 'Eva', 'Nilsson')]"
            ]
          },
          "execution_count": 11,
          "metadata": {},
          "output_type": "execute_result"
        }
      ],
      "source": [
        "%%sql\n",
        "SELECT  *\n",
        "FROM    students\n",
        "LIMIT   4"
      ]
    },
    {
      "cell_type": "code",
      "execution_count": null,
      "id": "73f48884",
      "metadata": {
        "id": "73f48884"
      },
      "outputs": [],
      "source": [
        "%%sql\n",
        "SELECT  *\n",
        "FROM    departments\n",
        "LIMIT   4"
      ]
    },
    {
      "cell_type": "code",
      "execution_count": 13,
      "id": "a5451069",
      "metadata": {
        "colab": {
          "base_uri": "https://localhost:8080/",
          "height": 161
        },
        "id": "a5451069",
        "outputId": "4475d231-dd6c-439b-91a0-939c7bad5b39"
      },
      "outputs": [
        {
          "name": "stdout",
          "output_type": "stream",
          "text": [
            " * sqlite:///lab1.sqlite\n",
            "Done.\n"
          ]
        },
        {
          "data": {
            "text/html": [
              "<table>\n",
              "    <thead>\n",
              "        <tr>\n",
              "            <th>course_code</th>\n",
              "            <th>course_name</th>\n",
              "            <th>department_code</th>\n",
              "            <th>level</th>\n",
              "            <th>credits</th>\n",
              "        </tr>\n",
              "    </thead>\n",
              "    <tbody>\n",
              "        <tr>\n",
              "            <td>EDA016</td>\n",
              "            <td>Programmeringsteknik</td>\n",
              "            <td>eda</td>\n",
              "            <td>G1</td>\n",
              "            <td>7.5</td>\n",
              "        </tr>\n",
              "        <tr>\n",
              "            <td>EDA031</td>\n",
              "            <td>C++ - programmering</td>\n",
              "            <td>eda</td>\n",
              "            <td>G2</td>\n",
              "            <td>7.5</td>\n",
              "        </tr>\n",
              "        <tr>\n",
              "            <td>EDA040</td>\n",
              "            <td>Realtidsprogrammering</td>\n",
              "            <td>eda</td>\n",
              "            <td>G2</td>\n",
              "            <td>6.0</td>\n",
              "        </tr>\n",
              "        <tr>\n",
              "            <td>EDA050</td>\n",
              "            <td>Operativsystem</td>\n",
              "            <td>eda</td>\n",
              "            <td>G2</td>\n",
              "            <td>4.5</td>\n",
              "        </tr>\n",
              "    </tbody>\n",
              "</table>"
            ],
            "text/plain": [
              "[('EDA016', 'Programmeringsteknik', 'eda', 'G1', 7.5),\n",
              " ('EDA031', 'C++ - programmering', 'eda', 'G2', 7.5),\n",
              " ('EDA040', 'Realtidsprogrammering', 'eda', 'G2', 6.0),\n",
              " ('EDA050', 'Operativsystem', 'eda', 'G2', 4.5)]"
            ]
          },
          "execution_count": 13,
          "metadata": {},
          "output_type": "execute_result"
        }
      ],
      "source": [
        "%%sql\n",
        "SELECT  *\n",
        "FROM    courses\n",
        "LIMIT   4"
      ]
    },
    {
      "cell_type": "code",
      "execution_count": 14,
      "id": "d7685456",
      "metadata": {
        "colab": {
          "base_uri": "https://localhost:8080/",
          "height": 161
        },
        "id": "d7685456",
        "outputId": "31c6a9c3-f92b-45db-f545-d03a8efbc92d"
      },
      "outputs": [
        {
          "name": "stdout",
          "output_type": "stream",
          "text": [
            " * sqlite:///lab1.sqlite\n",
            "Done.\n"
          ]
        },
        {
          "data": {
            "text/html": [
              "<table>\n",
              "    <thead>\n",
              "        <tr>\n",
              "            <th>ssn</th>\n",
              "            <th>course_code</th>\n",
              "            <th>grade</th>\n",
              "        </tr>\n",
              "    </thead>\n",
              "    <tbody>\n",
              "        <tr>\n",
              "            <td>950705-2308</td>\n",
              "            <td>EITN35</td>\n",
              "            <td>5</td>\n",
              "        </tr>\n",
              "        <tr>\n",
              "            <td>950705-2308</td>\n",
              "            <td>ESS050</td>\n",
              "            <td>3</td>\n",
              "        </tr>\n",
              "        <tr>\n",
              "            <td>950705-2308</td>\n",
              "            <td>ETIN70</td>\n",
              "            <td>4</td>\n",
              "        </tr>\n",
              "        <tr>\n",
              "            <td>950705-2308</td>\n",
              "            <td>FMA140</td>\n",
              "            <td>4</td>\n",
              "        </tr>\n",
              "    </tbody>\n",
              "</table>"
            ],
            "text/plain": [
              "[('950705-2308', 'EITN35', 5),\n",
              " ('950705-2308', 'ESS050', 3),\n",
              " ('950705-2308', 'ETIN70', 4),\n",
              " ('950705-2308', 'FMA140', 4)]"
            ]
          },
          "execution_count": 14,
          "metadata": {},
          "output_type": "execute_result"
        }
      ],
      "source": [
        "%%sql\n",
        "SELECT  *\n",
        "FROM    taken_courses\n",
        "LIMIT   4"
      ]
    },
    {
      "cell_type": "markdown",
      "id": "96cf6661",
      "metadata": {
        "id": "96cf6661"
      },
      "source": [
        "If you inadvertently change the contents of the tables, you can always recreate the them with the following command (it must be run at the command line):"
      ]
    },
    {
      "cell_type": "markdown",
      "id": "ab0aee21",
      "metadata": {
        "id": "ab0aee21"
      },
      "source": [
        "```sh\n",
        "$ sqlite3 lab1.sqlite < lab1-setup.sql\n",
        "```\n"
      ]
    },
    {
      "cell_type": "markdown",
      "id": "f2d57110",
      "metadata": {
        "id": "f2d57110"
      },
      "source": [
        "--------------------------------\n",
        "Jump to [next REVIEW problem](#problem_5)\n",
        "--------------------------------\n",
        "\n",
        "<a id='problem_1'></a>\n",
        "\n",
        "## Problem 1 (practice)\n",
        "\n",
        "What are the names (first name and last name) of all the students?"
      ]
    },
    {
      "cell_type": "code",
      "execution_count": 15,
      "id": "8a03fba9",
      "metadata": {
        "colab": {
          "base_uri": "https://localhost:8080/",
          "height": 1000
        },
        "id": "8a03fba9",
        "outputId": "a06e0a4f-2b9f-4cee-ae42-abe6baccfccb"
      },
      "outputs": [
        {
          "name": "stdout",
          "output_type": "stream",
          "text": [
            " * sqlite:///lab1.sqlite\n",
            "Done.\n"
          ]
        },
        {
          "data": {
            "text/html": [
              "<table>\n",
              "    <thead>\n",
              "        <tr>\n",
              "            <th>name</th>\n",
              "            <th>surname</th>\n",
              "        </tr>\n",
              "    </thead>\n",
              "    <tbody>\n",
              "        <tr>\n",
              "            <td>Anna</td>\n",
              "            <td>Johansson</td>\n",
              "        </tr>\n",
              "        <tr>\n",
              "            <td>Anna</td>\n",
              "            <td>Johansson</td>\n",
              "        </tr>\n",
              "        <tr>\n",
              "            <td>Eva</td>\n",
              "            <td>Alm</td>\n",
              "        </tr>\n",
              "        <tr>\n",
              "            <td>Eva</td>\n",
              "            <td>Nilsson</td>\n",
              "        </tr>\n",
              "        <tr>\n",
              "            <td>Elaine</td>\n",
              "            <td>Robertson</td>\n",
              "        </tr>\n",
              "        <tr>\n",
              "            <td>Maria</td>\n",
              "            <td>Nordman</td>\n",
              "        </tr>\n",
              "        <tr>\n",
              "            <td>Helena</td>\n",
              "            <td>Troberg</td>\n",
              "        </tr>\n",
              "        <tr>\n",
              "            <td>Lotta</td>\n",
              "            <td>Emanuelsson</td>\n",
              "        </tr>\n",
              "        <tr>\n",
              "            <td>Anna</td>\n",
              "            <td>Nyström</td>\n",
              "        </tr>\n",
              "        <tr>\n",
              "            <td>Maria</td>\n",
              "            <td>Andersson</td>\n",
              "        </tr>\n",
              "        <tr>\n",
              "            <td>Marie</td>\n",
              "            <td>Persson</td>\n",
              "        </tr>\n",
              "        <tr>\n",
              "            <td>Märit</td>\n",
              "            <td>Aspegren</td>\n",
              "        </tr>\n",
              "        <tr>\n",
              "            <td>Ylva</td>\n",
              "            <td>Jacobsson</td>\n",
              "        </tr>\n",
              "        <tr>\n",
              "            <td>Frida</td>\n",
              "            <td>Weidel</td>\n",
              "        </tr>\n",
              "        <tr>\n",
              "            <td>Caroline</td>\n",
              "            <td>Olsson</td>\n",
              "        </tr>\n",
              "        <tr>\n",
              "            <td>Karolin</td>\n",
              "            <td>Ek</td>\n",
              "        </tr>\n",
              "        <tr>\n",
              "            <td>Eva</td>\n",
              "            <td>Hjort</td>\n",
              "        </tr>\n",
              "        <tr>\n",
              "            <td>Sofia</td>\n",
              "            <td>Kjellberg</td>\n",
              "        </tr>\n",
              "        <tr>\n",
              "            <td>Tina</td>\n",
              "            <td>Lööf</td>\n",
              "        </tr>\n",
              "        <tr>\n",
              "            <td>Lisa</td>\n",
              "            <td>Berg</td>\n",
              "        </tr>\n",
              "        <tr>\n",
              "            <td>Lotta</td>\n",
              "            <td>Bergman</td>\n",
              "        </tr>\n",
              "        <tr>\n",
              "            <td>Susanne</td>\n",
              "            <td>Dahl</td>\n",
              "        </tr>\n",
              "        <tr>\n",
              "            <td>Birgit</td>\n",
              "            <td>Ewesson</td>\n",
              "        </tr>\n",
              "        <tr>\n",
              "            <td>Ulrika</td>\n",
              "            <td>Jonsson</td>\n",
              "        </tr>\n",
              "        <tr>\n",
              "            <td>Jenny</td>\n",
              "            <td>Lundin</td>\n",
              "        </tr>\n",
              "        <tr>\n",
              "            <td>Karin</td>\n",
              "            <td>Östberg</td>\n",
              "        </tr>\n",
              "        <tr>\n",
              "            <td>Bo</td>\n",
              "            <td>Ek</td>\n",
              "        </tr>\n",
              "        <tr>\n",
              "            <td>Bo</td>\n",
              "            <td>Ek</td>\n",
              "        </tr>\n",
              "        <tr>\n",
              "            <td>Bo</td>\n",
              "            <td>Ek</td>\n",
              "        </tr>\n",
              "        <tr>\n",
              "            <td>Erik</td>\n",
              "            <td>Andersson</td>\n",
              "        </tr>\n",
              "        <tr>\n",
              "            <td>Erik</td>\n",
              "            <td>Andersson</td>\n",
              "        </tr>\n",
              "        <tr>\n",
              "            <td>Filip</td>\n",
              "            <td>Gustavsson</td>\n",
              "        </tr>\n",
              "        <tr>\n",
              "            <td>Niklas</td>\n",
              "            <td>Andersson</td>\n",
              "        </tr>\n",
              "        <tr>\n",
              "            <td>David</td>\n",
              "            <td>Carlsson</td>\n",
              "        </tr>\n",
              "        <tr>\n",
              "            <td>Tobias</td>\n",
              "            <td>Enberg</td>\n",
              "        </tr>\n",
              "        <tr>\n",
              "            <td>Johan</td>\n",
              "            <td>Lind</td>\n",
              "        </tr>\n",
              "        <tr>\n",
              "            <td>Magnus</td>\n",
              "            <td>Pettersson</td>\n",
              "        </tr>\n",
              "        <tr>\n",
              "            <td>Filip</td>\n",
              "            <td>Persson</td>\n",
              "        </tr>\n",
              "        <tr>\n",
              "            <td>Ola</td>\n",
              "            <td>Nilsson</td>\n",
              "        </tr>\n",
              "        <tr>\n",
              "            <td>Jakob</td>\n",
              "            <td>Malmberg</td>\n",
              "        </tr>\n",
              "        <tr>\n",
              "            <td>Henrik</td>\n",
              "            <td>Berg</td>\n",
              "        </tr>\n",
              "        <tr>\n",
              "            <td>John</td>\n",
              "            <td>Lind</td>\n",
              "        </tr>\n",
              "        <tr>\n",
              "            <td>Patrik</td>\n",
              "            <td>Lundh</td>\n",
              "        </tr>\n",
              "        <tr>\n",
              "            <td>Mikael</td>\n",
              "            <td>Nilsson</td>\n",
              "        </tr>\n",
              "        <tr>\n",
              "            <td>Joakim</td>\n",
              "            <td>Nilsson</td>\n",
              "        </tr>\n",
              "        <tr>\n",
              "            <td>Conny</td>\n",
              "            <td>Modig</td>\n",
              "        </tr>\n",
              "        <tr>\n",
              "            <td>Christian</td>\n",
              "            <td>Wallman</td>\n",
              "        </tr>\n",
              "        <tr>\n",
              "            <td>Magnus</td>\n",
              "            <td>Strömgren</td>\n",
              "        </tr>\n",
              "        <tr>\n",
              "            <td>Daniel</td>\n",
              "            <td>Ahlman</td>\n",
              "        </tr>\n",
              "        <tr>\n",
              "            <td>Lars</td>\n",
              "            <td>Molin</td>\n",
              "        </tr>\n",
              "        <tr>\n",
              "            <td>Magnus</td>\n",
              "            <td>Nilsson</td>\n",
              "        </tr>\n",
              "        <tr>\n",
              "            <td>Anders</td>\n",
              "            <td>Olsson</td>\n",
              "        </tr>\n",
              "        <tr>\n",
              "            <td>Martin</td>\n",
              "            <td>Alm</td>\n",
              "        </tr>\n",
              "        <tr>\n",
              "            <td>Håkan</td>\n",
              "            <td>Mossgren</td>\n",
              "        </tr>\n",
              "        <tr>\n",
              "            <td>Fredrik</td>\n",
              "            <td>Ryd</td>\n",
              "        </tr>\n",
              "        <tr>\n",
              "            <td>Mats</td>\n",
              "            <td>Wikström</td>\n",
              "        </tr>\n",
              "        <tr>\n",
              "            <td>Anders</td>\n",
              "            <td>Magnusson</td>\n",
              "        </tr>\n",
              "        <tr>\n",
              "            <td>Andreas</td>\n",
              "            <td>Molin</td>\n",
              "        </tr>\n",
              "        <tr>\n",
              "            <td>Johan</td>\n",
              "            <td>Brattberg</td>\n",
              "        </tr>\n",
              "        <tr>\n",
              "            <td>Johan</td>\n",
              "            <td>Olsson</td>\n",
              "        </tr>\n",
              "        <tr>\n",
              "            <td>Jonathan</td>\n",
              "            <td>Jönsson</td>\n",
              "        </tr>\n",
              "        <tr>\n",
              "            <td>Magnus</td>\n",
              "            <td>Hultgren</td>\n",
              "        </tr>\n",
              "        <tr>\n",
              "            <td>Axel</td>\n",
              "            <td>Nord</td>\n",
              "        </tr>\n",
              "        <tr>\n",
              "            <td>Henrik</td>\n",
              "            <td>Hult</td>\n",
              "        </tr>\n",
              "        <tr>\n",
              "            <td>Joakim</td>\n",
              "            <td>Hall</td>\n",
              "        </tr>\n",
              "        <tr>\n",
              "            <td>Henrik</td>\n",
              "            <td>Gustavsson</td>\n",
              "        </tr>\n",
              "        <tr>\n",
              "            <td>Torbjörn</td>\n",
              "            <td>Modig</td>\n",
              "        </tr>\n",
              "        <tr>\n",
              "            <td>Daniel</td>\n",
              "            <td>Axelsson</td>\n",
              "        </tr>\n",
              "        <tr>\n",
              "            <td>Per-Erik</td>\n",
              "            <td>Pettersson</td>\n",
              "        </tr>\n",
              "        <tr>\n",
              "            <td>Roger</td>\n",
              "            <td>Brorsson</td>\n",
              "        </tr>\n",
              "        <tr>\n",
              "            <td>Patrik</td>\n",
              "            <td>Ohlsson</td>\n",
              "        </tr>\n",
              "        <tr>\n",
              "            <td>Peter</td>\n",
              "            <td>Solberg</td>\n",
              "        </tr>\n",
              "    </tbody>\n",
              "</table>"
            ],
            "text/plain": [
              "[('Anna', 'Johansson'),\n",
              " ('Anna', 'Johansson'),\n",
              " ('Eva', 'Alm'),\n",
              " ('Eva', 'Nilsson'),\n",
              " ('Elaine', 'Robertson'),\n",
              " ('Maria', 'Nordman'),\n",
              " ('Helena', 'Troberg'),\n",
              " ('Lotta', 'Emanuelsson'),\n",
              " ('Anna', 'Nyström'),\n",
              " ('Maria', 'Andersson'),\n",
              " ('Marie', 'Persson'),\n",
              " ('Märit', 'Aspegren'),\n",
              " ('Ylva', 'Jacobsson'),\n",
              " ('Frida', 'Weidel'),\n",
              " ('Caroline', 'Olsson'),\n",
              " ('Karolin', 'Ek'),\n",
              " ('Eva', 'Hjort'),\n",
              " ('Sofia', 'Kjellberg'),\n",
              " ('Tina', 'Lööf'),\n",
              " ('Lisa', 'Berg'),\n",
              " ('Lotta', 'Bergman'),\n",
              " ('Susanne', 'Dahl'),\n",
              " ('Birgit', 'Ewesson'),\n",
              " ('Ulrika', 'Jonsson'),\n",
              " ('Jenny', 'Lundin'),\n",
              " ('Karin', 'Östberg'),\n",
              " ('Bo', 'Ek'),\n",
              " ('Bo', 'Ek'),\n",
              " ('Bo', 'Ek'),\n",
              " ('Erik', 'Andersson'),\n",
              " ('Erik', 'Andersson'),\n",
              " ('Filip', 'Gustavsson'),\n",
              " ('Niklas', 'Andersson'),\n",
              " ('David', 'Carlsson'),\n",
              " ('Tobias', 'Enberg'),\n",
              " ('Johan', 'Lind'),\n",
              " ('Magnus', 'Pettersson'),\n",
              " ('Filip', 'Persson'),\n",
              " ('Ola', 'Nilsson'),\n",
              " ('Jakob', 'Malmberg'),\n",
              " ('Henrik', 'Berg'),\n",
              " ('John', 'Lind'),\n",
              " ('Patrik', 'Lundh'),\n",
              " ('Mikael', 'Nilsson'),\n",
              " ('Joakim', 'Nilsson'),\n",
              " ('Conny', 'Modig'),\n",
              " ('Christian', 'Wallman'),\n",
              " ('Magnus', 'Strömgren'),\n",
              " ('Daniel', 'Ahlman'),\n",
              " ('Lars', 'Molin'),\n",
              " ('Magnus', 'Nilsson'),\n",
              " ('Anders', 'Olsson'),\n",
              " ('Martin', 'Alm'),\n",
              " ('Håkan', 'Mossgren'),\n",
              " ('Fredrik', 'Ryd'),\n",
              " ('Mats', 'Wikström'),\n",
              " ('Anders', 'Magnusson'),\n",
              " ('Andreas', 'Molin'),\n",
              " ('Johan', 'Brattberg'),\n",
              " ('Johan', 'Olsson'),\n",
              " ('Jonathan', 'Jönsson'),\n",
              " ('Magnus', 'Hultgren'),\n",
              " ('Axel', 'Nord'),\n",
              " ('Henrik', 'Hult'),\n",
              " ('Joakim', 'Hall'),\n",
              " ('Henrik', 'Gustavsson'),\n",
              " ('Torbjörn', 'Modig'),\n",
              " ('Daniel', 'Axelsson'),\n",
              " ('Per-Erik', 'Pettersson'),\n",
              " ('Roger', 'Brorsson'),\n",
              " ('Patrik', 'Ohlsson'),\n",
              " ('Peter', 'Solberg')]"
            ]
          },
          "execution_count": 15,
          "metadata": {},
          "output_type": "execute_result"
        }
      ],
      "source": [
        "%%sql\n",
        "SELECT first_name AS name, last_name AS surname\n",
        "FROM students"
      ]
    },
    {
      "cell_type": "markdown",
      "id": "c408eb4a",
      "metadata": {
        "id": "c408eb4a"
      },
      "source": [
        "Now sort the names, first by last name and then by first name:"
      ]
    },
    {
      "cell_type": "code",
      "execution_count": null,
      "id": "5812456c",
      "metadata": {
        "attributes": {
          "classes": [
            "clear"
          ],
          "id": ""
        },
        "colab": {
          "base_uri": "https://localhost:8080/",
          "height": 1000
        },
        "id": "5812456c",
        "outputId": "8c2db545-f93a-4566-dc60-4b12f664261d"
      },
      "outputs": [
        {
          "name": "stdout",
          "output_type": "stream",
          "text": [
            " * sqlite:///lab1.sqlite\n",
            "Done.\n"
          ]
        },
        {
          "data": {
            "text/html": [
              "<table>\n",
              "    <thead>\n",
              "        <tr>\n",
              "            <th>name</th>\n",
              "            <th>surname</th>\n",
              "        </tr>\n",
              "    </thead>\n",
              "    <tbody>\n",
              "        <tr>\n",
              "            <td>Daniel</td>\n",
              "            <td>Ahlman</td>\n",
              "        </tr>\n",
              "        <tr>\n",
              "            <td>Eva</td>\n",
              "            <td>Alm</td>\n",
              "        </tr>\n",
              "        <tr>\n",
              "            <td>Martin</td>\n",
              "            <td>Alm</td>\n",
              "        </tr>\n",
              "        <tr>\n",
              "            <td>Erik</td>\n",
              "            <td>Andersson</td>\n",
              "        </tr>\n",
              "        <tr>\n",
              "            <td>Erik</td>\n",
              "            <td>Andersson</td>\n",
              "        </tr>\n",
              "        <tr>\n",
              "            <td>Maria</td>\n",
              "            <td>Andersson</td>\n",
              "        </tr>\n",
              "        <tr>\n",
              "            <td>Niklas</td>\n",
              "            <td>Andersson</td>\n",
              "        </tr>\n",
              "        <tr>\n",
              "            <td>Märit</td>\n",
              "            <td>Aspegren</td>\n",
              "        </tr>\n",
              "        <tr>\n",
              "            <td>Daniel</td>\n",
              "            <td>Axelsson</td>\n",
              "        </tr>\n",
              "        <tr>\n",
              "            <td>Henrik</td>\n",
              "            <td>Berg</td>\n",
              "        </tr>\n",
              "        <tr>\n",
              "            <td>Lisa</td>\n",
              "            <td>Berg</td>\n",
              "        </tr>\n",
              "        <tr>\n",
              "            <td>Lotta</td>\n",
              "            <td>Bergman</td>\n",
              "        </tr>\n",
              "        <tr>\n",
              "            <td>Johan</td>\n",
              "            <td>Brattberg</td>\n",
              "        </tr>\n",
              "        <tr>\n",
              "            <td>Roger</td>\n",
              "            <td>Brorsson</td>\n",
              "        </tr>\n",
              "        <tr>\n",
              "            <td>David</td>\n",
              "            <td>Carlsson</td>\n",
              "        </tr>\n",
              "        <tr>\n",
              "            <td>Susanne</td>\n",
              "            <td>Dahl</td>\n",
              "        </tr>\n",
              "        <tr>\n",
              "            <td>Bo</td>\n",
              "            <td>Ek</td>\n",
              "        </tr>\n",
              "        <tr>\n",
              "            <td>Bo</td>\n",
              "            <td>Ek</td>\n",
              "        </tr>\n",
              "        <tr>\n",
              "            <td>Bo</td>\n",
              "            <td>Ek</td>\n",
              "        </tr>\n",
              "        <tr>\n",
              "            <td>Karolin</td>\n",
              "            <td>Ek</td>\n",
              "        </tr>\n",
              "        <tr>\n",
              "            <td>Lotta</td>\n",
              "            <td>Emanuelsson</td>\n",
              "        </tr>\n",
              "        <tr>\n",
              "            <td>Tobias</td>\n",
              "            <td>Enberg</td>\n",
              "        </tr>\n",
              "        <tr>\n",
              "            <td>Birgit</td>\n",
              "            <td>Ewesson</td>\n",
              "        </tr>\n",
              "        <tr>\n",
              "            <td>Filip</td>\n",
              "            <td>Gustavsson</td>\n",
              "        </tr>\n",
              "        <tr>\n",
              "            <td>Henrik</td>\n",
              "            <td>Gustavsson</td>\n",
              "        </tr>\n",
              "        <tr>\n",
              "            <td>Joakim</td>\n",
              "            <td>Hall</td>\n",
              "        </tr>\n",
              "        <tr>\n",
              "            <td>Eva</td>\n",
              "            <td>Hjort</td>\n",
              "        </tr>\n",
              "        <tr>\n",
              "            <td>Henrik</td>\n",
              "            <td>Hult</td>\n",
              "        </tr>\n",
              "        <tr>\n",
              "            <td>Magnus</td>\n",
              "            <td>Hultgren</td>\n",
              "        </tr>\n",
              "        <tr>\n",
              "            <td>Ylva</td>\n",
              "            <td>Jacobsson</td>\n",
              "        </tr>\n",
              "        <tr>\n",
              "            <td>Anna</td>\n",
              "            <td>Johansson</td>\n",
              "        </tr>\n",
              "        <tr>\n",
              "            <td>Anna</td>\n",
              "            <td>Johansson</td>\n",
              "        </tr>\n",
              "        <tr>\n",
              "            <td>Ulrika</td>\n",
              "            <td>Jonsson</td>\n",
              "        </tr>\n",
              "        <tr>\n",
              "            <td>Jonathan</td>\n",
              "            <td>Jönsson</td>\n",
              "        </tr>\n",
              "        <tr>\n",
              "            <td>Sofia</td>\n",
              "            <td>Kjellberg</td>\n",
              "        </tr>\n",
              "        <tr>\n",
              "            <td>Johan</td>\n",
              "            <td>Lind</td>\n",
              "        </tr>\n",
              "        <tr>\n",
              "            <td>John</td>\n",
              "            <td>Lind</td>\n",
              "        </tr>\n",
              "        <tr>\n",
              "            <td>Patrik</td>\n",
              "            <td>Lundh</td>\n",
              "        </tr>\n",
              "        <tr>\n",
              "            <td>Jenny</td>\n",
              "            <td>Lundin</td>\n",
              "        </tr>\n",
              "        <tr>\n",
              "            <td>Tina</td>\n",
              "            <td>Lööf</td>\n",
              "        </tr>\n",
              "        <tr>\n",
              "            <td>Anders</td>\n",
              "            <td>Magnusson</td>\n",
              "        </tr>\n",
              "        <tr>\n",
              "            <td>Jakob</td>\n",
              "            <td>Malmberg</td>\n",
              "        </tr>\n",
              "        <tr>\n",
              "            <td>Conny</td>\n",
              "            <td>Modig</td>\n",
              "        </tr>\n",
              "        <tr>\n",
              "            <td>Torbjörn</td>\n",
              "            <td>Modig</td>\n",
              "        </tr>\n",
              "        <tr>\n",
              "            <td>Andreas</td>\n",
              "            <td>Molin</td>\n",
              "        </tr>\n",
              "        <tr>\n",
              "            <td>Lars</td>\n",
              "            <td>Molin</td>\n",
              "        </tr>\n",
              "        <tr>\n",
              "            <td>Håkan</td>\n",
              "            <td>Mossgren</td>\n",
              "        </tr>\n",
              "        <tr>\n",
              "            <td>Eva</td>\n",
              "            <td>Nilsson</td>\n",
              "        </tr>\n",
              "        <tr>\n",
              "            <td>Joakim</td>\n",
              "            <td>Nilsson</td>\n",
              "        </tr>\n",
              "        <tr>\n",
              "            <td>Magnus</td>\n",
              "            <td>Nilsson</td>\n",
              "        </tr>\n",
              "        <tr>\n",
              "            <td>Mikael</td>\n",
              "            <td>Nilsson</td>\n",
              "        </tr>\n",
              "        <tr>\n",
              "            <td>Ola</td>\n",
              "            <td>Nilsson</td>\n",
              "        </tr>\n",
              "        <tr>\n",
              "            <td>Axel</td>\n",
              "            <td>Nord</td>\n",
              "        </tr>\n",
              "        <tr>\n",
              "            <td>Maria</td>\n",
              "            <td>Nordman</td>\n",
              "        </tr>\n",
              "        <tr>\n",
              "            <td>Anna</td>\n",
              "            <td>Nyström</td>\n",
              "        </tr>\n",
              "        <tr>\n",
              "            <td>Patrik</td>\n",
              "            <td>Ohlsson</td>\n",
              "        </tr>\n",
              "        <tr>\n",
              "            <td>Anders</td>\n",
              "            <td>Olsson</td>\n",
              "        </tr>\n",
              "        <tr>\n",
              "            <td>Caroline</td>\n",
              "            <td>Olsson</td>\n",
              "        </tr>\n",
              "        <tr>\n",
              "            <td>Johan</td>\n",
              "            <td>Olsson</td>\n",
              "        </tr>\n",
              "        <tr>\n",
              "            <td>Filip</td>\n",
              "            <td>Persson</td>\n",
              "        </tr>\n",
              "        <tr>\n",
              "            <td>Marie</td>\n",
              "            <td>Persson</td>\n",
              "        </tr>\n",
              "        <tr>\n",
              "            <td>Magnus</td>\n",
              "            <td>Pettersson</td>\n",
              "        </tr>\n",
              "        <tr>\n",
              "            <td>Per-Erik</td>\n",
              "            <td>Pettersson</td>\n",
              "        </tr>\n",
              "        <tr>\n",
              "            <td>Elaine</td>\n",
              "            <td>Robertson</td>\n",
              "        </tr>\n",
              "        <tr>\n",
              "            <td>Fredrik</td>\n",
              "            <td>Ryd</td>\n",
              "        </tr>\n",
              "        <tr>\n",
              "            <td>Peter</td>\n",
              "            <td>Solberg</td>\n",
              "        </tr>\n",
              "        <tr>\n",
              "            <td>Magnus</td>\n",
              "            <td>Strömgren</td>\n",
              "        </tr>\n",
              "        <tr>\n",
              "            <td>Helena</td>\n",
              "            <td>Troberg</td>\n",
              "        </tr>\n",
              "        <tr>\n",
              "            <td>Christian</td>\n",
              "            <td>Wallman</td>\n",
              "        </tr>\n",
              "        <tr>\n",
              "            <td>Frida</td>\n",
              "            <td>Weidel</td>\n",
              "        </tr>\n",
              "        <tr>\n",
              "            <td>Mats</td>\n",
              "            <td>Wikström</td>\n",
              "        </tr>\n",
              "        <tr>\n",
              "            <td>Karin</td>\n",
              "            <td>Östberg</td>\n",
              "        </tr>\n",
              "    </tbody>\n",
              "</table>"
            ],
            "text/plain": [
              "[('Daniel', 'Ahlman'),\n",
              " ('Eva', 'Alm'),\n",
              " ('Martin', 'Alm'),\n",
              " ('Erik', 'Andersson'),\n",
              " ('Erik', 'Andersson'),\n",
              " ('Maria', 'Andersson'),\n",
              " ('Niklas', 'Andersson'),\n",
              " ('Märit', 'Aspegren'),\n",
              " ('Daniel', 'Axelsson'),\n",
              " ('Henrik', 'Berg'),\n",
              " ('Lisa', 'Berg'),\n",
              " ('Lotta', 'Bergman'),\n",
              " ('Johan', 'Brattberg'),\n",
              " ('Roger', 'Brorsson'),\n",
              " ('David', 'Carlsson'),\n",
              " ('Susanne', 'Dahl'),\n",
              " ('Bo', 'Ek'),\n",
              " ('Bo', 'Ek'),\n",
              " ('Bo', 'Ek'),\n",
              " ('Karolin', 'Ek'),\n",
              " ('Lotta', 'Emanuelsson'),\n",
              " ('Tobias', 'Enberg'),\n",
              " ('Birgit', 'Ewesson'),\n",
              " ('Filip', 'Gustavsson'),\n",
              " ('Henrik', 'Gustavsson'),\n",
              " ('Joakim', 'Hall'),\n",
              " ('Eva', 'Hjort'),\n",
              " ('Henrik', 'Hult'),\n",
              " ('Magnus', 'Hultgren'),\n",
              " ('Ylva', 'Jacobsson'),\n",
              " ('Anna', 'Johansson'),\n",
              " ('Anna', 'Johansson'),\n",
              " ('Ulrika', 'Jonsson'),\n",
              " ('Jonathan', 'Jönsson'),\n",
              " ('Sofia', 'Kjellberg'),\n",
              " ('Johan', 'Lind'),\n",
              " ('John', 'Lind'),\n",
              " ('Patrik', 'Lundh'),\n",
              " ('Jenny', 'Lundin'),\n",
              " ('Tina', 'Lööf'),\n",
              " ('Anders', 'Magnusson'),\n",
              " ('Jakob', 'Malmberg'),\n",
              " ('Conny', 'Modig'),\n",
              " ('Torbjörn', 'Modig'),\n",
              " ('Andreas', 'Molin'),\n",
              " ('Lars', 'Molin'),\n",
              " ('Håkan', 'Mossgren'),\n",
              " ('Eva', 'Nilsson'),\n",
              " ('Joakim', 'Nilsson'),\n",
              " ('Magnus', 'Nilsson'),\n",
              " ('Mikael', 'Nilsson'),\n",
              " ('Ola', 'Nilsson'),\n",
              " ('Axel', 'Nord'),\n",
              " ('Maria', 'Nordman'),\n",
              " ('Anna', 'Nyström'),\n",
              " ('Patrik', 'Ohlsson'),\n",
              " ('Anders', 'Olsson'),\n",
              " ('Caroline', 'Olsson'),\n",
              " ('Johan', 'Olsson'),\n",
              " ('Filip', 'Persson'),\n",
              " ('Marie', 'Persson'),\n",
              " ('Magnus', 'Pettersson'),\n",
              " ('Per-Erik', 'Pettersson'),\n",
              " ('Elaine', 'Robertson'),\n",
              " ('Fredrik', 'Ryd'),\n",
              " ('Peter', 'Solberg'),\n",
              " ('Magnus', 'Strömgren'),\n",
              " ('Helena', 'Troberg'),\n",
              " ('Christian', 'Wallman'),\n",
              " ('Frida', 'Weidel'),\n",
              " ('Mats', 'Wikström'),\n",
              " ('Karin', 'Östberg')]"
            ]
          },
          "execution_count": 8,
          "metadata": {},
          "output_type": "execute_result"
        }
      ],
      "source": [
        "%%sql\n",
        "SELECT first_name AS name, last_name AS surname\n",
        "FROM students\n",
        "ORDER BY last_name, first_name"
      ]
    },
    {
      "cell_type": "markdown",
      "id": "29c7ee70",
      "metadata": {
        "id": "29c7ee70"
      },
      "source": [
        "When you get it to work, experiment by listing only the 10 first students (alphabetically), then try to list only students 11-20, etc.:"
      ]
    },
    {
      "cell_type": "code",
      "execution_count": null,
      "id": "0aa202a1",
      "metadata": {
        "attributes": {
          "classes": [
            "clear"
          ],
          "id": ""
        },
        "colab": {
          "base_uri": "https://localhost:8080/",
          "height": 289
        },
        "id": "0aa202a1",
        "outputId": "0d40b889-2db4-4985-afd8-2a3016536530"
      },
      "outputs": [
        {
          "name": "stdout",
          "output_type": "stream",
          "text": [
            " * sqlite:///lab1.sqlite\n",
            "Done.\n"
          ]
        },
        {
          "data": {
            "text/html": [
              "<table>\n",
              "    <thead>\n",
              "        <tr>\n",
              "            <th>name</th>\n",
              "            <th>surname</th>\n",
              "        </tr>\n",
              "    </thead>\n",
              "    <tbody>\n",
              "        <tr>\n",
              "            <td>Lisa</td>\n",
              "            <td>Berg</td>\n",
              "        </tr>\n",
              "        <tr>\n",
              "            <td>Lotta</td>\n",
              "            <td>Bergman</td>\n",
              "        </tr>\n",
              "        <tr>\n",
              "            <td>Johan</td>\n",
              "            <td>Brattberg</td>\n",
              "        </tr>\n",
              "        <tr>\n",
              "            <td>Roger</td>\n",
              "            <td>Brorsson</td>\n",
              "        </tr>\n",
              "        <tr>\n",
              "            <td>David</td>\n",
              "            <td>Carlsson</td>\n",
              "        </tr>\n",
              "        <tr>\n",
              "            <td>Susanne</td>\n",
              "            <td>Dahl</td>\n",
              "        </tr>\n",
              "        <tr>\n",
              "            <td>Bo</td>\n",
              "            <td>Ek</td>\n",
              "        </tr>\n",
              "        <tr>\n",
              "            <td>Bo</td>\n",
              "            <td>Ek</td>\n",
              "        </tr>\n",
              "        <tr>\n",
              "            <td>Bo</td>\n",
              "            <td>Ek</td>\n",
              "        </tr>\n",
              "        <tr>\n",
              "            <td>Karolin</td>\n",
              "            <td>Ek</td>\n",
              "        </tr>\n",
              "    </tbody>\n",
              "</table>"
            ],
            "text/plain": [
              "[('Lisa', 'Berg'),\n",
              " ('Lotta', 'Bergman'),\n",
              " ('Johan', 'Brattberg'),\n",
              " ('Roger', 'Brorsson'),\n",
              " ('David', 'Carlsson'),\n",
              " ('Susanne', 'Dahl'),\n",
              " ('Bo', 'Ek'),\n",
              " ('Bo', 'Ek'),\n",
              " ('Bo', 'Ek'),\n",
              " ('Karolin', 'Ek')]"
            ]
          },
          "execution_count": 9,
          "metadata": {},
          "output_type": "execute_result"
        }
      ],
      "source": [
        "%%sql\n",
        "SELECT    first_name AS name, last_name AS surname\n",
        "FROM      students\n",
        "ORDER BY  last_name, first_name\n",
        "LIMIT     10\n",
        "OFFSET    10"
      ]
    },
    {
      "cell_type": "markdown",
      "id": "b591b9b9",
      "metadata": {
        "id": "b591b9b9"
      },
      "source": [
        "<a id='problem_2'></a>\n",
        "\n",
        "## Problem 2 (practice)\n",
        "\n",
        "What are the names of the students who were born in 1985?"
      ]
    },
    {
      "cell_type": "code",
      "execution_count": null,
      "id": "68ae4a32",
      "metadata": {
        "attributes": {
          "classes": [
            "clear"
          ],
          "id": ""
        },
        "colab": {
          "base_uri": "https://localhost:8080/",
          "height": 161
        },
        "id": "68ae4a32",
        "outputId": "b07d8a1b-bd0e-46d6-c215-97458104acff"
      },
      "outputs": [
        {
          "name": "stdout",
          "output_type": "stream",
          "text": [
            " * sqlite:///lab1.sqlite\n",
            "Done.\n"
          ]
        },
        {
          "data": {
            "text/html": [
              "<table>\n",
              "    <thead>\n",
              "        <tr>\n",
              "            <th>name</th>\n",
              "            <th>surname</th>\n",
              "        </tr>\n",
              "    </thead>\n",
              "    <tbody>\n",
              "        <tr>\n",
              "            <td>Henrik</td>\n",
              "            <td>Berg</td>\n",
              "        </tr>\n",
              "        <tr>\n",
              "            <td>Bo</td>\n",
              "            <td>Ek</td>\n",
              "        </tr>\n",
              "        <tr>\n",
              "            <td>Ulrika</td>\n",
              "            <td>Jonsson</td>\n",
              "        </tr>\n",
              "        <tr>\n",
              "            <td>Filip</td>\n",
              "            <td>Persson</td>\n",
              "        </tr>\n",
              "    </tbody>\n",
              "</table>"
            ],
            "text/plain": [
              "[('Henrik', 'Berg'), ('Bo', 'Ek'), ('Ulrika', 'Jonsson'), ('Filip', 'Persson')]"
            ]
          },
          "execution_count": 10,
          "metadata": {},
          "output_type": "execute_result"
        }
      ],
      "source": [
        "%%sql\n",
        "SELECT    first_name AS name, last_name AS surname\n",
        "FROM      students\n",
        "WHERE     substr(ssn, 1, 2) = '85'\n",
        "ORDER     BY last_name, first_name"
      ]
    },
    {
      "cell_type": "markdown",
      "id": "878aa427",
      "metadata": {
        "id": "878aa427"
      },
      "source": [
        "Hint: the `substr` function can be useful (it also goes by the name `substring`).\n",
        "\n",
        "\n",
        "<a id='problem_3'></a>\n",
        "\n",
        "## Problem 3 (practice)\n",
        "\n",
        "The penultimate digit in the social security number is even for females, and odd for males.\n",
        "List the first names of all female students in our database alphabetically."
      ]
    },
    {
      "cell_type": "code",
      "execution_count": 16,
      "id": "8191d501",
      "metadata": {
        "attributes": {
          "classes": [
            "clear"
          ],
          "id": ""
        },
        "colab": {
          "base_uri": "https://localhost:8080/",
          "height": 631
        },
        "id": "8191d501",
        "outputId": "07624407-7074-4ba4-ae9c-99fb0b84db1d"
      },
      "outputs": [
        {
          "name": "stdout",
          "output_type": "stream",
          "text": [
            " * sqlite:///lab1.sqlite\n",
            "Done.\n"
          ]
        },
        {
          "data": {
            "text/html": [
              "<table>\n",
              "    <thead>\n",
              "        <tr>\n",
              "            <th>name</th>\n",
              "        </tr>\n",
              "    </thead>\n",
              "    <tbody>\n",
              "        <tr>\n",
              "            <td>Anna</td>\n",
              "        </tr>\n",
              "        <tr>\n",
              "            <td>Anna</td>\n",
              "        </tr>\n",
              "        <tr>\n",
              "            <td>Anna</td>\n",
              "        </tr>\n",
              "        <tr>\n",
              "            <td>Birgit</td>\n",
              "        </tr>\n",
              "        <tr>\n",
              "            <td>Caroline</td>\n",
              "        </tr>\n",
              "        <tr>\n",
              "            <td>Elaine</td>\n",
              "        </tr>\n",
              "        <tr>\n",
              "            <td>Eva</td>\n",
              "        </tr>\n",
              "        <tr>\n",
              "            <td>Eva</td>\n",
              "        </tr>\n",
              "        <tr>\n",
              "            <td>Eva</td>\n",
              "        </tr>\n",
              "        <tr>\n",
              "            <td>Frida</td>\n",
              "        </tr>\n",
              "        <tr>\n",
              "            <td>Helena</td>\n",
              "        </tr>\n",
              "        <tr>\n",
              "            <td>Jenny</td>\n",
              "        </tr>\n",
              "        <tr>\n",
              "            <td>Karin</td>\n",
              "        </tr>\n",
              "        <tr>\n",
              "            <td>Karolin</td>\n",
              "        </tr>\n",
              "        <tr>\n",
              "            <td>Lisa</td>\n",
              "        </tr>\n",
              "        <tr>\n",
              "            <td>Lotta</td>\n",
              "        </tr>\n",
              "        <tr>\n",
              "            <td>Lotta</td>\n",
              "        </tr>\n",
              "        <tr>\n",
              "            <td>Maria</td>\n",
              "        </tr>\n",
              "        <tr>\n",
              "            <td>Maria</td>\n",
              "        </tr>\n",
              "        <tr>\n",
              "            <td>Marie</td>\n",
              "        </tr>\n",
              "        <tr>\n",
              "            <td>Märit</td>\n",
              "        </tr>\n",
              "        <tr>\n",
              "            <td>Sofia</td>\n",
              "        </tr>\n",
              "        <tr>\n",
              "            <td>Susanne</td>\n",
              "        </tr>\n",
              "        <tr>\n",
              "            <td>Tina</td>\n",
              "        </tr>\n",
              "        <tr>\n",
              "            <td>Ulrika</td>\n",
              "        </tr>\n",
              "        <tr>\n",
              "            <td>Ylva</td>\n",
              "        </tr>\n",
              "    </tbody>\n",
              "</table>"
            ],
            "text/plain": [
              "[('Anna',),\n",
              " ('Anna',),\n",
              " ('Anna',),\n",
              " ('Birgit',),\n",
              " ('Caroline',),\n",
              " ('Elaine',),\n",
              " ('Eva',),\n",
              " ('Eva',),\n",
              " ('Eva',),\n",
              " ('Frida',),\n",
              " ('Helena',),\n",
              " ('Jenny',),\n",
              " ('Karin',),\n",
              " ('Karolin',),\n",
              " ('Lisa',),\n",
              " ('Lotta',),\n",
              " ('Lotta',),\n",
              " ('Maria',),\n",
              " ('Maria',),\n",
              " ('Marie',),\n",
              " ('Märit',),\n",
              " ('Sofia',),\n",
              " ('Susanne',),\n",
              " ('Tina',),\n",
              " ('Ulrika',),\n",
              " ('Ylva',)]"
            ]
          },
          "execution_count": 16,
          "metadata": {},
          "output_type": "execute_result"
        }
      ],
      "source": [
        "%%sql\n",
        "SELECT    first_name AS name\n",
        "FROM      students\n",
        "WHERE     substr(ssn, 10, 1) % 2 = 0\n",
        "ORDER     BY first_name"
      ]
    },
    {
      "cell_type": "markdown",
      "id": "f6268349",
      "metadata": {
        "id": "f6268349"
      },
      "source": [
        "Now try to output each name only once (so, no duplicates)."
      ]
    },
    {
      "cell_type": "code",
      "execution_count": 17,
      "id": "2fced45c",
      "metadata": {
        "attributes": {
          "classes": [
            "clear"
          ],
          "id": ""
        },
        "colab": {
          "base_uri": "https://localhost:8080/",
          "height": 502
        },
        "id": "2fced45c",
        "outputId": "04db966c-1db3-490d-fdb5-a764a7f86406"
      },
      "outputs": [
        {
          "name": "stdout",
          "output_type": "stream",
          "text": [
            " * sqlite:///lab1.sqlite\n",
            "Done.\n"
          ]
        },
        {
          "data": {
            "text/html": [
              "<table>\n",
              "    <thead>\n",
              "        <tr>\n",
              "            <th>name</th>\n",
              "        </tr>\n",
              "    </thead>\n",
              "    <tbody>\n",
              "        <tr>\n",
              "            <td>Anna</td>\n",
              "        </tr>\n",
              "        <tr>\n",
              "            <td>Birgit</td>\n",
              "        </tr>\n",
              "        <tr>\n",
              "            <td>Caroline</td>\n",
              "        </tr>\n",
              "        <tr>\n",
              "            <td>Elaine</td>\n",
              "        </tr>\n",
              "        <tr>\n",
              "            <td>Eva</td>\n",
              "        </tr>\n",
              "        <tr>\n",
              "            <td>Frida</td>\n",
              "        </tr>\n",
              "        <tr>\n",
              "            <td>Helena</td>\n",
              "        </tr>\n",
              "        <tr>\n",
              "            <td>Jenny</td>\n",
              "        </tr>\n",
              "        <tr>\n",
              "            <td>Karin</td>\n",
              "        </tr>\n",
              "        <tr>\n",
              "            <td>Karolin</td>\n",
              "        </tr>\n",
              "        <tr>\n",
              "            <td>Lisa</td>\n",
              "        </tr>\n",
              "        <tr>\n",
              "            <td>Lotta</td>\n",
              "        </tr>\n",
              "        <tr>\n",
              "            <td>Maria</td>\n",
              "        </tr>\n",
              "        <tr>\n",
              "            <td>Marie</td>\n",
              "        </tr>\n",
              "        <tr>\n",
              "            <td>Märit</td>\n",
              "        </tr>\n",
              "        <tr>\n",
              "            <td>Sofia</td>\n",
              "        </tr>\n",
              "        <tr>\n",
              "            <td>Susanne</td>\n",
              "        </tr>\n",
              "        <tr>\n",
              "            <td>Tina</td>\n",
              "        </tr>\n",
              "        <tr>\n",
              "            <td>Ulrika</td>\n",
              "        </tr>\n",
              "        <tr>\n",
              "            <td>Ylva</td>\n",
              "        </tr>\n",
              "    </tbody>\n",
              "</table>"
            ],
            "text/plain": [
              "[('Anna',),\n",
              " ('Birgit',),\n",
              " ('Caroline',),\n",
              " ('Elaine',),\n",
              " ('Eva',),\n",
              " ('Frida',),\n",
              " ('Helena',),\n",
              " ('Jenny',),\n",
              " ('Karin',),\n",
              " ('Karolin',),\n",
              " ('Lisa',),\n",
              " ('Lotta',),\n",
              " ('Maria',),\n",
              " ('Marie',),\n",
              " ('Märit',),\n",
              " ('Sofia',),\n",
              " ('Susanne',),\n",
              " ('Tina',),\n",
              " ('Ulrika',),\n",
              " ('Ylva',)]"
            ]
          },
          "execution_count": 17,
          "metadata": {},
          "output_type": "execute_result"
        }
      ],
      "source": [
        "%%sql\n",
        "SELECT    DISTINCT first_name AS name\n",
        "FROM      students\n",
        "WHERE     substr(ssn, 10, 1) % 2 = 0\n",
        "ORDER     BY first_name"
      ]
    },
    {
      "cell_type": "markdown",
      "id": "f436b716",
      "metadata": {
        "id": "f436b716"
      },
      "source": [
        "<a id='problem_4'></a>\n",
        "\n",
        "## Problem 4 (practice)\n",
        "\n",
        "How many students are registered in the database?"
      ]
    },
    {
      "cell_type": "code",
      "execution_count": 18,
      "id": "cf7af790",
      "metadata": {
        "attributes": {
          "classes": [
            "clear"
          ],
          "id": ""
        },
        "colab": {
          "base_uri": "https://localhost:8080/",
          "height": 96
        },
        "id": "cf7af790",
        "outputId": "82fcee12-e8f2-4b5e-f8eb-15da2091676b"
      },
      "outputs": [
        {
          "name": "stdout",
          "output_type": "stream",
          "text": [
            " * sqlite:///lab1.sqlite\n",
            "Done.\n"
          ]
        },
        {
          "data": {
            "text/html": [
              "<table>\n",
              "    <thead>\n",
              "        <tr>\n",
              "            <th>count()</th>\n",
              "        </tr>\n",
              "    </thead>\n",
              "    <tbody>\n",
              "        <tr>\n",
              "            <td>72</td>\n",
              "        </tr>\n",
              "    </tbody>\n",
              "</table>"
            ],
            "text/plain": [
              "[(72,)]"
            ]
          },
          "execution_count": 18,
          "metadata": {},
          "output_type": "execute_result"
        }
      ],
      "source": [
        "%%sql\n",
        "SELECT    count()\n",
        "FROM      students"
      ]
    },
    {
      "cell_type": "markdown",
      "id": "01169d61",
      "metadata": {
        "id": "01169d61"
      },
      "source": [
        "How many male students are there?"
      ]
    },
    {
      "cell_type": "code",
      "execution_count": 19,
      "id": "4b683c32",
      "metadata": {
        "attributes": {
          "classes": [
            "clear"
          ],
          "id": ""
        },
        "colab": {
          "base_uri": "https://localhost:8080/",
          "height": 96
        },
        "id": "4b683c32",
        "outputId": "0095caf6-73d5-4db8-cc8a-8a8e0ea06020"
      },
      "outputs": [
        {
          "name": "stdout",
          "output_type": "stream",
          "text": [
            " * sqlite:///lab1.sqlite\n",
            "Done.\n"
          ]
        },
        {
          "data": {
            "text/html": [
              "<table>\n",
              "    <thead>\n",
              "        <tr>\n",
              "            <th>count()</th>\n",
              "        </tr>\n",
              "    </thead>\n",
              "    <tbody>\n",
              "        <tr>\n",
              "            <td>46</td>\n",
              "        </tr>\n",
              "    </tbody>\n",
              "</table>"
            ],
            "text/plain": [
              "[(46,)]"
            ]
          },
          "execution_count": 19,
          "metadata": {},
          "output_type": "execute_result"
        }
      ],
      "source": [
        "%%sql\n",
        "SELECT    count()\n",
        "FROM      students\n",
        "WHERE     substr(ssn, 10, 1) % 2 != 0"
      ]
    },
    {
      "cell_type": "markdown",
      "id": "6709cc20",
      "metadata": {
        "id": "6709cc20"
      },
      "source": [
        "Now try to output the number of distinct names in the listing of female students above, using `count`.\n",
        "It turns out that this is a bit tricky, we need to make sure we use the word `DISTINCT` in the right place (look carefully in the [documentation](https://sqlite.org/lang_aggfunc.html))."
      ]
    },
    {
      "cell_type": "code",
      "execution_count": null,
      "id": "4e313e1e",
      "metadata": {
        "attributes": {
          "classes": [
            "clear"
          ],
          "id": ""
        },
        "colab": {
          "base_uri": "https://localhost:8080/",
          "height": 96
        },
        "id": "4e313e1e",
        "outputId": "3dd23bba-695e-494d-9f55-e2ab6aa127e2"
      },
      "outputs": [
        {
          "name": "stdout",
          "output_type": "stream",
          "text": [
            " * sqlite:///lab1.sqlite\n",
            "Done.\n"
          ]
        },
        {
          "data": {
            "text/html": [
              "<table>\n",
              "    <thead>\n",
              "        <tr>\n",
              "            <th>count</th>\n",
              "        </tr>\n",
              "    </thead>\n",
              "    <tbody>\n",
              "        <tr>\n",
              "            <td>20</td>\n",
              "        </tr>\n",
              "    </tbody>\n",
              "</table>"
            ],
            "text/plain": [
              "[(20,)]"
            ]
          },
          "execution_count": 15,
          "metadata": {},
          "output_type": "execute_result"
        }
      ],
      "source": [
        "%%sql\n",
        "SELECT    count(DISTINCT first_name) as count\n",
        "FROM      students\n",
        "WHERE     substr(ssn, 10, 1) % 2 = 0"
      ]
    },
    {
      "cell_type": "markdown",
      "id": "30e3df12",
      "metadata": {
        "id": "30e3df12"
      },
      "source": [
        "<a id='problem_5'></a>\n",
        "\n",
        "## Problem 5 -- REVIEW\n",
        "\n",
        "How many courses are there for each level (`G1`, `G2`, and `A`)?"
      ]
    },
    {
      "cell_type": "code",
      "execution_count": null,
      "id": "895d03ec",
      "metadata": {
        "attributes": {
          "classes": [
            "clear"
          ],
          "id": ""
        },
        "colab": {
          "base_uri": "https://localhost:8080/",
          "height": 139
        },
        "id": "895d03ec",
        "outputId": "1fca2996-9649-48d5-9e44-c7411bb8d289"
      },
      "outputs": [
        {
          "name": "stdout",
          "output_type": "stream",
          "text": [
            " * sqlite:///lab1.sqlite\n",
            "Done.\n"
          ]
        },
        {
          "data": {
            "text/html": [
              "<table>\n",
              "    <thead>\n",
              "        <tr>\n",
              "            <th>level</th>\n",
              "            <th>count()</th>\n",
              "        </tr>\n",
              "    </thead>\n",
              "    <tbody>\n",
              "        <tr>\n",
              "            <td>A</td>\n",
              "            <td>87</td>\n",
              "        </tr>\n",
              "        <tr>\n",
              "            <td>G1</td>\n",
              "            <td>31</td>\n",
              "        </tr>\n",
              "        <tr>\n",
              "            <td>G2</td>\n",
              "            <td>60</td>\n",
              "        </tr>\n",
              "    </tbody>\n",
              "</table>"
            ],
            "text/plain": [
              "[('A', 87), ('G1', 31), ('G2', 60)]"
            ]
          },
          "execution_count": 16,
          "metadata": {},
          "output_type": "execute_result"
        }
      ],
      "source": [
        "%%sql\n",
        "SELECT level, count()\n",
        "FROM courses\n",
        "GROUP BY level"
      ]
    },
    {
      "cell_type": "markdown",
      "id": "70eef6a5",
      "metadata": {
        "id": "70eef6a5"
      },
      "source": [
        "For each level, how many courses give more than 7.5 HP?"
      ]
    },
    {
      "cell_type": "code",
      "execution_count": 20,
      "id": "ee41f6d9",
      "metadata": {
        "attributes": {
          "classes": [
            "clear"
          ],
          "id": ""
        },
        "colab": {
          "base_uri": "https://localhost:8080/",
          "height": 139
        },
        "id": "ee41f6d9",
        "outputId": "213111c7-55bd-4319-adfc-510d4a282dcc"
      },
      "outputs": [
        {
          "name": "stdout",
          "output_type": "stream",
          "text": [
            " * sqlite:///lab1.sqlite\n",
            "Done.\n"
          ]
        },
        {
          "data": {
            "text/html": [
              "<table>\n",
              "    <thead>\n",
              "        <tr>\n",
              "            <th>level</th>\n",
              "            <th>count()</th>\n",
              "        </tr>\n",
              "    </thead>\n",
              "    <tbody>\n",
              "        <tr>\n",
              "            <td>A</td>\n",
              "            <td>3</td>\n",
              "        </tr>\n",
              "        <tr>\n",
              "            <td>G1</td>\n",
              "            <td>6</td>\n",
              "        </tr>\n",
              "        <tr>\n",
              "            <td>G2</td>\n",
              "            <td>7</td>\n",
              "        </tr>\n",
              "    </tbody>\n",
              "</table>"
            ],
            "text/plain": [
              "[('A', 3), ('G1', 6), ('G2', 7)]"
            ]
          },
          "execution_count": 20,
          "metadata": {},
          "output_type": "execute_result"
        }
      ],
      "source": [
        "%%sql\n",
        "SELECT level, count()\n",
        "FROM courses\n",
        "WHERE credits > 7.5\n",
        "GROUP BY level"
      ]
    },
    {
      "cell_type": "markdown",
      "id": "b5a9c133",
      "metadata": {
        "id": "b5a9c133"
      },
      "source": [
        "Jump to [next REVIEW problem](#problem_7)\n",
        "\n",
        "<a id='problem_6'></a>\n",
        "\n",
        "## Problem 6 (practice)\n",
        "\n",
        "In the next few queries, we'll look at the results of the student with the social security number 910101-1234 -- to make things _a lot_ easier, start by creating a `VIEW` with all his results."
      ]
    },
    {
      "cell_type": "code",
      "execution_count": 22,
      "id": "1bc219a5",
      "metadata": {
        "attributes": {
          "classes": [
            "clear"
          ],
          "id": ""
        },
        "colab": {
          "base_uri": "https://localhost:8080/"
        },
        "id": "1bc219a5",
        "outputId": "d04fe283-d588-477d-95d5-dfb9d5b3d996"
      },
      "outputs": [
        {
          "name": "stdout",
          "output_type": "stream",
          "text": [
            " * sqlite:///lab1.sqlite\n",
            "Done.\n",
            "Done.\n"
          ]
        },
        {
          "data": {
            "text/plain": [
              "[]"
            ]
          },
          "execution_count": 22,
          "metadata": {},
          "output_type": "execute_result"
        }
      ],
      "source": [
        "%%sql\n",
        "DROP VIEW IF EXISTS a_student;\n",
        "CREATE VIEW a_student AS\n",
        "  SELECT course_code, grade, credits\n",
        "  FROM taken_courses\n",
        "  JOIN courses USING (course_code)\n",
        "  WHERE ssn = '910101-1234'"
      ]
    },
    {
      "cell_type": "markdown",
      "id": "1c9c38f9",
      "metadata": {
        "id": "1c9c38f9"
      },
      "source": [
        "Make sure the view contains all data pertinent to the student in question (it will make the following queries very simple).\n",
        "\n",
        "Which courses (course codes only) have been taken by the student?"
      ]
    },
    {
      "cell_type": "code",
      "execution_count": 23,
      "id": "40a62f94",
      "metadata": {
        "attributes": {
          "classes": [
            "clear"
          ],
          "id": ""
        },
        "colab": {
          "base_uri": "https://localhost:8080/",
          "height": 823
        },
        "id": "40a62f94",
        "outputId": "697249b6-c6b1-44b6-8bab-814eee9da87f"
      },
      "outputs": [
        {
          "name": "stdout",
          "output_type": "stream",
          "text": [
            " * sqlite:///lab1.sqlite\n",
            "Done.\n"
          ]
        },
        {
          "data": {
            "text/html": [
              "<table>\n",
              "    <thead>\n",
              "        <tr>\n",
              "            <th>course_code</th>\n",
              "        </tr>\n",
              "    </thead>\n",
              "    <tbody>\n",
              "        <tr>\n",
              "            <td>EDA070</td>\n",
              "        </tr>\n",
              "        <tr>\n",
              "            <td>EDA385</td>\n",
              "        </tr>\n",
              "        <tr>\n",
              "            <td>EDAA25</td>\n",
              "        </tr>\n",
              "        <tr>\n",
              "            <td>EDAF05</td>\n",
              "        </tr>\n",
              "        <tr>\n",
              "            <td>EEMN10</td>\n",
              "        </tr>\n",
              "        <tr>\n",
              "            <td>EIT020</td>\n",
              "        </tr>\n",
              "        <tr>\n",
              "            <td>EIT060</td>\n",
              "        </tr>\n",
              "        <tr>\n",
              "            <td>EITF40</td>\n",
              "        </tr>\n",
              "        <tr>\n",
              "            <td>EITN40</td>\n",
              "        </tr>\n",
              "        <tr>\n",
              "            <td>EITN50</td>\n",
              "        </tr>\n",
              "        <tr>\n",
              "            <td>ESS050</td>\n",
              "        </tr>\n",
              "        <tr>\n",
              "            <td>ETIF10</td>\n",
              "        </tr>\n",
              "        <tr>\n",
              "            <td>ETIF15</td>\n",
              "        </tr>\n",
              "        <tr>\n",
              "            <td>ETIN35</td>\n",
              "        </tr>\n",
              "        <tr>\n",
              "            <td>ETS052</td>\n",
              "        </tr>\n",
              "        <tr>\n",
              "            <td>ETS075</td>\n",
              "        </tr>\n",
              "        <tr>\n",
              "            <td>ETS200</td>\n",
              "        </tr>\n",
              "        <tr>\n",
              "            <td>ETSA01</td>\n",
              "        </tr>\n",
              "        <tr>\n",
              "            <td>EXTA10</td>\n",
              "        </tr>\n",
              "        <tr>\n",
              "            <td>EXTA35</td>\n",
              "        </tr>\n",
              "        <tr>\n",
              "            <td>FAFF20</td>\n",
              "        </tr>\n",
              "        <tr>\n",
              "            <td>FAFF25</td>\n",
              "        </tr>\n",
              "        <tr>\n",
              "            <td>FMA145</td>\n",
              "        </tr>\n",
              "        <tr>\n",
              "            <td>FMA420</td>\n",
              "        </tr>\n",
              "        <tr>\n",
              "            <td>FMAA01</td>\n",
              "        </tr>\n",
              "        <tr>\n",
              "            <td>FMAF05</td>\n",
              "        </tr>\n",
              "        <tr>\n",
              "            <td>FMS012</td>\n",
              "        </tr>\n",
              "        <tr>\n",
              "            <td>FMSF15</td>\n",
              "        </tr>\n",
              "        <tr>\n",
              "            <td>FMSN30</td>\n",
              "        </tr>\n",
              "        <tr>\n",
              "            <td>FMSN35</td>\n",
              "        </tr>\n",
              "        <tr>\n",
              "            <td>FRTN10</td>\n",
              "        </tr>\n",
              "        <tr>\n",
              "            <td>GEMA45</td>\n",
              "        </tr>\n",
              "        <tr>\n",
              "            <td>GEMA70</td>\n",
              "        </tr>\n",
              "        <tr>\n",
              "            <td>MAMF15</td>\n",
              "        </tr>\n",
              "        <tr>\n",
              "            <td>TEK210</td>\n",
              "        </tr>\n",
              "    </tbody>\n",
              "</table>"
            ],
            "text/plain": [
              "[('EDA070',),\n",
              " ('EDA385',),\n",
              " ('EDAA25',),\n",
              " ('EDAF05',),\n",
              " ('EEMN10',),\n",
              " ('EIT020',),\n",
              " ('EIT060',),\n",
              " ('EITF40',),\n",
              " ('EITN40',),\n",
              " ('EITN50',),\n",
              " ('ESS050',),\n",
              " ('ETIF10',),\n",
              " ('ETIF15',),\n",
              " ('ETIN35',),\n",
              " ('ETS052',),\n",
              " ('ETS075',),\n",
              " ('ETS200',),\n",
              " ('ETSA01',),\n",
              " ('EXTA10',),\n",
              " ('EXTA35',),\n",
              " ('FAFF20',),\n",
              " ('FAFF25',),\n",
              " ('FMA145',),\n",
              " ('FMA420',),\n",
              " ('FMAA01',),\n",
              " ('FMAF05',),\n",
              " ('FMS012',),\n",
              " ('FMSF15',),\n",
              " ('FMSN30',),\n",
              " ('FMSN35',),\n",
              " ('FRTN10',),\n",
              " ('GEMA45',),\n",
              " ('GEMA70',),\n",
              " ('MAMF15',),\n",
              " ('TEK210',)]"
            ]
          },
          "execution_count": 23,
          "metadata": {},
          "output_type": "execute_result"
        }
      ],
      "source": [
        "%%sql\n",
        "SELECT course_code\n",
        "FROM a_student"
      ]
    },
    {
      "cell_type": "markdown",
      "id": "edc29d0e",
      "metadata": {
        "id": "edc29d0e"
      },
      "source": [
        "What are the names of these courses, and how many credits do they give?"
      ]
    },
    {
      "cell_type": "code",
      "execution_count": null,
      "id": "14925aa5",
      "metadata": {
        "attributes": {
          "classes": [
            "clear"
          ],
          "id": ""
        },
        "colab": {
          "base_uri": "https://localhost:8080/",
          "height": 823
        },
        "id": "14925aa5",
        "outputId": "29a88698-ed14-411d-8091-63a2f613f1e0"
      },
      "outputs": [
        {
          "name": "stdout",
          "output_type": "stream",
          "text": [
            " * sqlite:///lab1.sqlite\n",
            "Done.\n"
          ]
        },
        {
          "data": {
            "text/html": [
              "<table>\n",
              "    <thead>\n",
              "        <tr>\n",
              "            <th>course_name</th>\n",
              "            <th>credits</th>\n",
              "        </tr>\n",
              "    </thead>\n",
              "    <tbody>\n",
              "        <tr>\n",
              "            <td>Datorer och datoranvändning</td>\n",
              "            <td>3.0</td>\n",
              "        </tr>\n",
              "        <tr>\n",
              "            <td>Konstruktion av inbyggda system, fördjupningskurs</td>\n",
              "            <td>7.5</td>\n",
              "        </tr>\n",
              "        <tr>\n",
              "            <td>C-programmering</td>\n",
              "            <td>3.0</td>\n",
              "        </tr>\n",
              "        <tr>\n",
              "            <td>Algoritmer, datastrukturer och komplexitet</td>\n",
              "            <td>5.0</td>\n",
              "        </tr>\n",
              "        <tr>\n",
              "            <td>Datorbaserade mätsystem</td>\n",
              "            <td>7.5</td>\n",
              "        </tr>\n",
              "        <tr>\n",
              "            <td>Digitalteknik</td>\n",
              "            <td>9.0</td>\n",
              "        </tr>\n",
              "        <tr>\n",
              "            <td>Datasäkerhet</td>\n",
              "            <td>7.5</td>\n",
              "        </tr>\n",
              "        <tr>\n",
              "            <td>Digitala och analoga projekt</td>\n",
              "            <td>7.5</td>\n",
              "        </tr>\n",
              "        <tr>\n",
              "            <td>Avancerad webbsäkerhet</td>\n",
              "            <td>4.0</td>\n",
              "        </tr>\n",
              "        <tr>\n",
              "            <td>Avancerad datasäkerhet</td>\n",
              "            <td>7.5</td>\n",
              "        </tr>\n",
              "        <tr>\n",
              "            <td>Elektromagnetisk fältteori</td>\n",
              "            <td>9.0</td>\n",
              "        </tr>\n",
              "        <tr>\n",
              "            <td>Signalbehandling - design och implementering</td>\n",
              "            <td>7.5</td>\n",
              "        </tr>\n",
              "        <tr>\n",
              "            <td>Medicinsk signalbehandling</td>\n",
              "            <td>7.5</td>\n",
              "        </tr>\n",
              "        <tr>\n",
              "            <td>IC-projekt 1</td>\n",
              "            <td>7.5</td>\n",
              "        </tr>\n",
              "        <tr>\n",
              "            <td>Datorkommunikation</td>\n",
              "            <td>4.5</td>\n",
              "        </tr>\n",
              "        <tr>\n",
              "            <td>Kösystem</td>\n",
              "            <td>4.5</td>\n",
              "        </tr>\n",
              "        <tr>\n",
              "            <td>Programvarutestning</td>\n",
              "            <td>7.5</td>\n",
              "        </tr>\n",
              "        <tr>\n",
              "            <td>Ingenjörsprocessen för programvaruutveckling - metodik</td>\n",
              "            <td>5.0</td>\n",
              "        </tr>\n",
              "        <tr>\n",
              "            <td>Introduktion till Kinas samhällsliv, kultur och språk</td>\n",
              "            <td>3.0</td>\n",
              "        </tr>\n",
              "        <tr>\n",
              "            <td>Introduktionskurs i kinesiska för civilingenjörer</td>\n",
              "            <td>15.0</td>\n",
              "        </tr>\n",
              "        <tr>\n",
              "            <td>Multispektral avbildning</td>\n",
              "            <td>7.5</td>\n",
              "        </tr>\n",
              "        <tr>\n",
              "            <td>Fysik</td>\n",
              "            <td>11.0</td>\n",
              "        </tr>\n",
              "        <tr>\n",
              "            <td>Olinjära dynamiska system, projektdel</td>\n",
              "            <td>3.0</td>\n",
              "        </tr>\n",
              "        <tr>\n",
              "            <td>Linjär algebra</td>\n",
              "            <td>6.0</td>\n",
              "        </tr>\n",
              "        <tr>\n",
              "            <td>Endimensionell analys</td>\n",
              "            <td>15.0</td>\n",
              "        </tr>\n",
              "        <tr>\n",
              "            <td>Matematik - System och transformer</td>\n",
              "            <td>7.0</td>\n",
              "        </tr>\n",
              "        <tr>\n",
              "            <td>Matematisk statistik, allmän kurs</td>\n",
              "            <td>9.0</td>\n",
              "        </tr>\n",
              "        <tr>\n",
              "            <td>Markovprocesser</td>\n",
              "            <td>7.5</td>\n",
              "        </tr>\n",
              "        <tr>\n",
              "            <td>Linjär och logistisk regression</td>\n",
              "            <td>7.5</td>\n",
              "        </tr>\n",
              "        <tr>\n",
              "            <td>Stationär och icke-stationär spektralanalys</td>\n",
              "            <td>7.5</td>\n",
              "        </tr>\n",
              "        <tr>\n",
              "            <td>Flervariabel reglering</td>\n",
              "            <td>7.5</td>\n",
              "        </tr>\n",
              "        <tr>\n",
              "            <td>Förståelse och lärande</td>\n",
              "            <td>3.0</td>\n",
              "        </tr>\n",
              "        <tr>\n",
              "            <td>Japanska för tekniker</td>\n",
              "            <td>15.0</td>\n",
              "        </tr>\n",
              "        <tr>\n",
              "            <td>Arbetsorganisation och ledarskap</td>\n",
              "            <td>6.0</td>\n",
              "        </tr>\n",
              "        <tr>\n",
              "            <td>Kognition</td>\n",
              "            <td>4.5</td>\n",
              "        </tr>\n",
              "    </tbody>\n",
              "</table>"
            ],
            "text/plain": [
              "[('Datorer och datoranvändning', 3.0),\n",
              " ('Konstruktion av inbyggda system, fördjupningskurs', 7.5),\n",
              " ('C-programmering', 3.0),\n",
              " ('Algoritmer, datastrukturer och komplexitet', 5.0),\n",
              " ('Datorbaserade mätsystem', 7.5),\n",
              " ('Digitalteknik', 9.0),\n",
              " ('Datasäkerhet', 7.5),\n",
              " ('Digitala och analoga projekt', 7.5),\n",
              " ('Avancerad webbsäkerhet', 4.0),\n",
              " ('Avancerad datasäkerhet', 7.5),\n",
              " ('Elektromagnetisk fältteori', 9.0),\n",
              " ('Signalbehandling - design och implementering', 7.5),\n",
              " ('Medicinsk signalbehandling', 7.5),\n",
              " ('IC-projekt 1', 7.5),\n",
              " ('Datorkommunikation', 4.5),\n",
              " ('Kösystem', 4.5),\n",
              " ('Programvarutestning', 7.5),\n",
              " ('Ingenjörsprocessen för programvaruutveckling - metodik', 5.0),\n",
              " ('Introduktion till Kinas samhällsliv, kultur och språk', 3.0),\n",
              " ('Introduktionskurs i kinesiska för civilingenjörer', 15.0),\n",
              " ('Multispektral avbildning', 7.5),\n",
              " ('Fysik', 11.0),\n",
              " ('Olinjära dynamiska system, projektdel', 3.0),\n",
              " ('Linjär algebra', 6.0),\n",
              " ('Endimensionell analys', 15.0),\n",
              " ('Matematik - System och transformer', 7.0),\n",
              " ('Matematisk statistik, allmän kurs', 9.0),\n",
              " ('Markovprocesser', 7.5),\n",
              " ('Linjär och logistisk regression', 7.5),\n",
              " ('Stationär och icke-stationär spektralanalys', 7.5),\n",
              " ('Flervariabel reglering', 7.5),\n",
              " ('Förståelse och lärande', 3.0),\n",
              " ('Japanska för tekniker', 15.0),\n",
              " ('Arbetsorganisation och ledarskap', 6.0),\n",
              " ('Kognition', 4.5)]"
            ]
          },
          "execution_count": 20,
          "metadata": {},
          "output_type": "execute_result"
        }
      ],
      "source": [
        "%%sql\n",
        "SELECT course_name, credits\n",
        "FROM courses\n",
        "WHERE course_code IN (\n",
        "  SELECT course_code\n",
        "  FROM a_student\n",
        ")"
      ]
    },
    {
      "cell_type": "markdown",
      "id": "7b74b0be",
      "metadata": {
        "id": "7b74b0be"
      },
      "source": [
        "How many credits has the student taken?"
      ]
    },
    {
      "cell_type": "code",
      "execution_count": 24,
      "id": "516b50af",
      "metadata": {
        "attributes": {
          "classes": [
            "clear"
          ],
          "id": ""
        },
        "colab": {
          "base_uri": "https://localhost:8080/",
          "height": 96
        },
        "id": "516b50af",
        "outputId": "6df86f75-4f9a-4911-87c2-84099499f038"
      },
      "outputs": [
        {
          "name": "stdout",
          "output_type": "stream",
          "text": [
            " * sqlite:///lab1.sqlite\n",
            "Done.\n"
          ]
        },
        {
          "data": {
            "text/html": [
              "<table>\n",
              "    <thead>\n",
              "        <tr>\n",
              "            <th>credits</th>\n",
              "        </tr>\n",
              "    </thead>\n",
              "    <tbody>\n",
              "        <tr>\n",
              "            <td>249.5</td>\n",
              "        </tr>\n",
              "    </tbody>\n",
              "</table>"
            ],
            "text/plain": [
              "[(249.5,)]"
            ]
          },
          "execution_count": 24,
          "metadata": {},
          "output_type": "execute_result"
        }
      ],
      "source": [
        "%%sql\n",
        "SELECT sum(credits) as credits\n",
        "FROM a_student"
      ]
    },
    {
      "cell_type": "markdown",
      "id": "e9d36b66",
      "metadata": {
        "id": "e9d36b66"
      },
      "source": [
        "What is the student’s grade average?\n",
        "It turns out that there are actually (at least) two different averages at play here:\n",
        "\n",
        "+ the unweighted average, i.e., just the average of all the students grades (no matter how many credits each course gives), and\n",
        "\n",
        "+ the [weighted average](https://en.wikipedia.org/wiki/Weighted_arithmetic_mean), where we use the credits for a course as a weight.\n",
        "\n",
        "First the unweighted average:"
      ]
    },
    {
      "cell_type": "code",
      "execution_count": 25,
      "id": "f27d33ac",
      "metadata": {
        "attributes": {
          "classes": [
            "clear"
          ],
          "id": ""
        },
        "colab": {
          "base_uri": "https://localhost:8080/",
          "height": 96
        },
        "id": "f27d33ac",
        "outputId": "027f50eb-0995-4e89-a918-9827ae951b34"
      },
      "outputs": [
        {
          "name": "stdout",
          "output_type": "stream",
          "text": [
            " * sqlite:///lab1.sqlite\n",
            "Done.\n"
          ]
        },
        {
          "data": {
            "text/html": [
              "<table>\n",
              "    <thead>\n",
              "        <tr>\n",
              "            <th>average grade</th>\n",
              "        </tr>\n",
              "    </thead>\n",
              "    <tbody>\n",
              "        <tr>\n",
              "            <td>4.0285714285714285</td>\n",
              "        </tr>\n",
              "    </tbody>\n",
              "</table>"
            ],
            "text/plain": [
              "[(4.0285714285714285,)]"
            ]
          },
          "execution_count": 25,
          "metadata": {},
          "output_type": "execute_result"
        }
      ],
      "source": [
        "%%sql\n",
        "SELECT avg(grade) AS 'average grade'\n",
        "FROM a_student"
      ]
    },
    {
      "cell_type": "markdown",
      "id": "1181c2de",
      "metadata": {
        "id": "1181c2de"
      },
      "source": [
        "And then the weighted average (feel free to ask me about this during QA sessions, if you get stuck):"
      ]
    },
    {
      "cell_type": "code",
      "execution_count": null,
      "id": "436f410f",
      "metadata": {
        "attributes": {
          "classes": [
            "clear"
          ],
          "id": ""
        },
        "colab": {
          "base_uri": "https://localhost:8080/",
          "height": 96
        },
        "id": "436f410f",
        "outputId": "ce7051ad-82a6-4f1c-bc38-1078293da121"
      },
      "outputs": [
        {
          "name": "stdout",
          "output_type": "stream",
          "text": [
            " * sqlite:///lab1.sqlite\n",
            "Done.\n"
          ]
        },
        {
          "data": {
            "text/html": [
              "<table>\n",
              "    <thead>\n",
              "        <tr>\n",
              "            <th>average grade</th>\n",
              "        </tr>\n",
              "    </thead>\n",
              "    <tbody>\n",
              "        <tr>\n",
              "            <td>4.138276553106213</td>\n",
              "        </tr>\n",
              "    </tbody>\n",
              "</table>"
            ],
            "text/plain": [
              "[(4.138276553106213,)]"
            ]
          },
          "execution_count": 23,
          "metadata": {},
          "output_type": "execute_result"
        }
      ],
      "source": [
        "%%sql\n",
        "SELECT sum(grade * credits) / sum(credits) AS 'average grade'\n",
        "FROM a_student"
      ]
    },
    {
      "cell_type": "markdown",
      "id": "bac9e254",
      "metadata": {
        "id": "bac9e254"
      },
      "source": [
        "Hint: If you've created a proper view above, we'll get a 'table' with one row for each course the student has passed, and each row will contain information about grades and credits for the passed course.\n",
        "If we use arithmetic operations in a select statement, and then use an aggregate function around that operation, we'll apply the aggregate function to each value the operation returns (so, e.g., a `sum` over a product will be a scalar product).\n",
        "\n",
        "Now drop the view:"
      ]
    },
    {
      "cell_type": "code",
      "execution_count": 26,
      "id": "a5b36243",
      "metadata": {
        "attributes": {
          "classes": [
            "clear"
          ],
          "id": ""
        },
        "colab": {
          "base_uri": "https://localhost:8080/"
        },
        "id": "a5b36243",
        "outputId": "d5fc11a6-d7f6-4737-b9f9-82626bf0787a"
      },
      "outputs": [
        {
          "name": "stdout",
          "output_type": "stream",
          "text": [
            " * sqlite:///lab1.sqlite\n",
            "Done.\n"
          ]
        },
        {
          "data": {
            "text/plain": [
              "[]"
            ]
          },
          "execution_count": 26,
          "metadata": {},
          "output_type": "execute_result"
        }
      ],
      "source": [
        "%%sql\n",
        "DROP VIEW a_student"
      ]
    },
    {
      "cell_type": "markdown",
      "id": "e7491b60",
      "metadata": {
        "id": "e7491b60"
      },
      "source": [
        "<a id='problem_7'></a>\n",
        "\n",
        "## Problem 7 - REVIEW\n",
        "\n",
        "For the five departments which offers the most total credits (for its courses in this database) -- output the name of the department, and the total number of offered credits:"
      ]
    },
    {
      "cell_type": "code",
      "execution_count": 27,
      "id": "378b6e87",
      "metadata": {
        "attributes": {
          "classes": [
            "clear"
          ],
          "id": ""
        },
        "colab": {
          "base_uri": "https://localhost:8080/",
          "height": 182
        },
        "id": "378b6e87",
        "outputId": "bb84e818-a9f3-4282-ee91-b56ce4c1cb24"
      },
      "outputs": [
        {
          "name": "stdout",
          "output_type": "stream",
          "text": [
            " * sqlite:///lab1.sqlite\n",
            "Done.\n"
          ]
        },
        {
          "data": {
            "text/html": [
              "<table>\n",
              "    <thead>\n",
              "        <tr>\n",
              "            <th>department_name</th>\n",
              "            <th>SUM(credits)</th>\n",
              "        </tr>\n",
              "    </thead>\n",
              "    <tbody>\n",
              "        <tr>\n",
              "            <td>Elektro- och informationsteknik</td>\n",
              "            <td>332.0</td>\n",
              "        </tr>\n",
              "        <tr>\n",
              "            <td>Datavetenskap</td>\n",
              "            <td>216.0</td>\n",
              "        </tr>\n",
              "        <tr>\n",
              "            <td>Matematik</td>\n",
              "            <td>160.0</td>\n",
              "        </tr>\n",
              "        <tr>\n",
              "            <td>Språk och litteraturcentrum</td>\n",
              "            <td>106.5</td>\n",
              "        </tr>\n",
              "        <tr>\n",
              "            <td>Matematisk statistik</td>\n",
              "            <td>84.0</td>\n",
              "        </tr>\n",
              "    </tbody>\n",
              "</table>"
            ],
            "text/plain": [
              "[('Elektro- och informationsteknik', 332.0),\n",
              " ('Datavetenskap', 216.0),\n",
              " ('Matematik', 160.0),\n",
              " ('Språk och litteraturcentrum', 106.5),\n",
              " ('Matematisk statistik', 84.0)]"
            ]
          },
          "execution_count": 27,
          "metadata": {},
          "output_type": "execute_result"
        }
      ],
      "source": [
        "%%sql\n",
        "SELECT department_name, SUM(credits)\n",
        "FROM courses\n",
        "JOIN departments\n",
        "USING (department_code)\n",
        "GROUP BY department_name\n",
        "ORDER BY SUM(credits) DESC\n",
        "LIMIT 5"
      ]
    },
    {
      "cell_type": "markdown",
      "id": "658d7555",
      "metadata": {
        "id": "658d7555"
      },
      "source": [
        "Jump to [next REVIEW problem](#problem_8)\n",
        "\n",
        "<a id='problem_8'></a>\n",
        "\n",
        "## Problem 8 - REVIEW\n",
        "\n",
        "Which students (`ssn` and full name) have taken 0 credits? This problem can be solved in several ways, first do it with an outer join:"
      ]
    },
    {
      "cell_type": "code",
      "execution_count": 31,
      "id": "af7d527c",
      "metadata": {
        "attributes": {
          "classes": [
            "clear"
          ],
          "id": ""
        },
        "colab": {
          "base_uri": "https://localhost:8080/",
          "height": 310
        },
        "id": "af7d527c",
        "outputId": "27782b9b-94cb-4b58-e987-529be249d6cc"
      },
      "outputs": [
        {
          "name": "stdout",
          "output_type": "stream",
          "text": [
            " * sqlite:///lab1.sqlite\n",
            "Done.\n"
          ]
        },
        {
          "data": {
            "text/html": [
              "<table>\n",
              "    <thead>\n",
              "        <tr>\n",
              "            <th>ssn</th>\n",
              "            <th>first_name</th>\n",
              "            <th>last_name</th>\n",
              "        </tr>\n",
              "    </thead>\n",
              "    <tbody>\n",
              "        <tr>\n",
              "            <td>950829-1848</td>\n",
              "            <td>Anna</td>\n",
              "            <td>Nyström</td>\n",
              "        </tr>\n",
              "        <tr>\n",
              "            <td>870909-3367</td>\n",
              "            <td>Caroline</td>\n",
              "            <td>Olsson</td>\n",
              "        </tr>\n",
              "        <tr>\n",
              "            <td>931225-3158</td>\n",
              "            <td>Bo</td>\n",
              "            <td>Ek</td>\n",
              "        </tr>\n",
              "        <tr>\n",
              "            <td>891220-1393</td>\n",
              "            <td>Erik</td>\n",
              "            <td>Andersson</td>\n",
              "        </tr>\n",
              "        <tr>\n",
              "            <td>900313-2257</td>\n",
              "            <td>Erik</td>\n",
              "            <td>Andersson</td>\n",
              "        </tr>\n",
              "        <tr>\n",
              "            <td>891007-3091</td>\n",
              "            <td>Johan</td>\n",
              "            <td>Lind</td>\n",
              "        </tr>\n",
              "        <tr>\n",
              "            <td>850517-2597</td>\n",
              "            <td>Filip</td>\n",
              "            <td>Persson</td>\n",
              "        </tr>\n",
              "        <tr>\n",
              "            <td>911015-3758</td>\n",
              "            <td>Jonathan</td>\n",
              "            <td>Jönsson</td>\n",
              "        </tr>\n",
              "        <tr>\n",
              "            <td>950125-1153</td>\n",
              "            <td>Magnus</td>\n",
              "            <td>Hultgren</td>\n",
              "        </tr>\n",
              "        <tr>\n",
              "            <td>880206-1915</td>\n",
              "            <td>Joakim</td>\n",
              "            <td>Hall</td>\n",
              "        </tr>\n",
              "        <tr>\n",
              "            <td>900129-3374</td>\n",
              "            <td>Henrik</td>\n",
              "            <td>Gustavsson</td>\n",
              "        </tr>\n",
              "    </tbody>\n",
              "</table>"
            ],
            "text/plain": [
              "[('950829-1848', 'Anna', 'Nyström'),\n",
              " ('870909-3367', 'Caroline', 'Olsson'),\n",
              " ('931225-3158', 'Bo', 'Ek'),\n",
              " ('891220-1393', 'Erik', 'Andersson'),\n",
              " ('900313-2257', 'Erik', 'Andersson'),\n",
              " ('891007-3091', 'Johan', 'Lind'),\n",
              " ('850517-2597', 'Filip', 'Persson'),\n",
              " ('911015-3758', 'Jonathan', 'Jönsson'),\n",
              " ('950125-1153', 'Magnus', 'Hultgren'),\n",
              " ('880206-1915', 'Joakim', 'Hall'),\n",
              " ('900129-3374', 'Henrik', 'Gustavsson')]"
            ]
          },
          "execution_count": 31,
          "metadata": {},
          "output_type": "execute_result"
        }
      ],
      "source": [
        "%%sql\n",
        "SELECT students.ssn, first_name, last_name\n",
        "FROM students LEFT OUTER JOIN taken_courses\n",
        "ON students.ssn = taken_courses.ssn\n",
        "WHERE grade IS NULL"
      ]
    },
    {
      "cell_type": "markdown",
      "id": "24d2049d",
      "metadata": {
        "id": "24d2049d"
      },
      "source": [
        "Now do the same thing using a subquery:"
      ]
    },
    {
      "cell_type": "code",
      "execution_count": null,
      "id": "38dc0b6a",
      "metadata": {
        "attributes": {
          "classes": [
            "clear"
          ],
          "id": ""
        },
        "colab": {
          "base_uri": "https://localhost:8080/",
          "height": 310
        },
        "id": "38dc0b6a",
        "outputId": "bedad29b-2da4-4edb-81a2-2880a338a194"
      },
      "outputs": [
        {
          "name": "stdout",
          "output_type": "stream",
          "text": [
            " * sqlite:///lab1.sqlite\n",
            "Done.\n"
          ]
        },
        {
          "data": {
            "text/html": [
              "<table>\n",
              "    <thead>\n",
              "        <tr>\n",
              "            <th>ssn</th>\n",
              "            <th>first_name</th>\n",
              "            <th>last_name</th>\n",
              "        </tr>\n",
              "    </thead>\n",
              "    <tbody>\n",
              "        <tr>\n",
              "            <td>950829-1848</td>\n",
              "            <td>Anna</td>\n",
              "            <td>Nyström</td>\n",
              "        </tr>\n",
              "        <tr>\n",
              "            <td>870909-3367</td>\n",
              "            <td>Caroline</td>\n",
              "            <td>Olsson</td>\n",
              "        </tr>\n",
              "        <tr>\n",
              "            <td>931225-3158</td>\n",
              "            <td>Bo</td>\n",
              "            <td>Ek</td>\n",
              "        </tr>\n",
              "        <tr>\n",
              "            <td>891220-1393</td>\n",
              "            <td>Erik</td>\n",
              "            <td>Andersson</td>\n",
              "        </tr>\n",
              "        <tr>\n",
              "            <td>900313-2257</td>\n",
              "            <td>Erik</td>\n",
              "            <td>Andersson</td>\n",
              "        </tr>\n",
              "        <tr>\n",
              "            <td>891007-3091</td>\n",
              "            <td>Johan</td>\n",
              "            <td>Lind</td>\n",
              "        </tr>\n",
              "        <tr>\n",
              "            <td>850517-2597</td>\n",
              "            <td>Filip</td>\n",
              "            <td>Persson</td>\n",
              "        </tr>\n",
              "        <tr>\n",
              "            <td>911015-3758</td>\n",
              "            <td>Jonathan</td>\n",
              "            <td>Jönsson</td>\n",
              "        </tr>\n",
              "        <tr>\n",
              "            <td>950125-1153</td>\n",
              "            <td>Magnus</td>\n",
              "            <td>Hultgren</td>\n",
              "        </tr>\n",
              "        <tr>\n",
              "            <td>880206-1915</td>\n",
              "            <td>Joakim</td>\n",
              "            <td>Hall</td>\n",
              "        </tr>\n",
              "        <tr>\n",
              "            <td>900129-3374</td>\n",
              "            <td>Henrik</td>\n",
              "            <td>Gustavsson</td>\n",
              "        </tr>\n",
              "    </tbody>\n",
              "</table>"
            ],
            "text/plain": [
              "[('950829-1848', 'Anna', 'Nyström'),\n",
              " ('870909-3367', 'Caroline', 'Olsson'),\n",
              " ('931225-3158', 'Bo', 'Ek'),\n",
              " ('891220-1393', 'Erik', 'Andersson'),\n",
              " ('900313-2257', 'Erik', 'Andersson'),\n",
              " ('891007-3091', 'Johan', 'Lind'),\n",
              " ('850517-2597', 'Filip', 'Persson'),\n",
              " ('911015-3758', 'Jonathan', 'Jönsson'),\n",
              " ('950125-1153', 'Magnus', 'Hultgren'),\n",
              " ('880206-1915', 'Joakim', 'Hall'),\n",
              " ('900129-3374', 'Henrik', 'Gustavsson')]"
            ]
          },
          "execution_count": 47,
          "metadata": {},
          "output_type": "execute_result"
        }
      ],
      "source": [
        "%%sql\n",
        "SELECT ssn, first_name, last_name\n",
        "FROM students\n",
        "WHERE ssn NOT IN (\n",
        "  SELECT ssn\n",
        "  FROM taken_courses\n",
        "  GROUP BY ssn\n",
        ")"
      ]
    },
    {
      "cell_type": "markdown",
      "id": "7edc8b31",
      "metadata": {
        "id": "7edc8b31"
      },
      "source": [
        "Jump to [next REVIEW problem](#problem_9)\n",
        "\n",
        "<a id='problem_9'></a>\n",
        "\n",
        "## Problem 9 - REVIEW\n",
        "\n",
        "List the names and average grades of the 10 students with the highest grade average? You can use the unweighted average."
      ]
    },
    {
      "cell_type": "code",
      "execution_count": 41,
      "id": "71c32c87",
      "metadata": {
        "attributes": {
          "classes": [
            "clear"
          ],
          "id": ""
        },
        "colab": {
          "base_uri": "https://localhost:8080/",
          "height": 289
        },
        "id": "71c32c87",
        "outputId": "e5486782-740a-405e-8afb-d99f84f5b9a4"
      },
      "outputs": [
        {
          "name": "stdout",
          "output_type": "stream",
          "text": [
            " * sqlite:///lab1.sqlite\n",
            "Done.\n"
          ]
        },
        {
          "data": {
            "text/html": [
              "<table>\n",
              "    <thead>\n",
              "        <tr>\n",
              "            <th>first_name</th>\n",
              "            <th>last_name</th>\n",
              "            <th>avg(grade)</th>\n",
              "        </tr>\n",
              "    </thead>\n",
              "    <tbody>\n",
              "        <tr>\n",
              "            <td>Bo</td>\n",
              "            <td>Ek</td>\n",
              "            <td>4.35</td>\n",
              "        </tr>\n",
              "        <tr>\n",
              "            <td>Helena</td>\n",
              "            <td>Troberg</td>\n",
              "            <td>4.3076923076923075</td>\n",
              "        </tr>\n",
              "        <tr>\n",
              "            <td>Elaine</td>\n",
              "            <td>Robertson</td>\n",
              "            <td>4.235294117647059</td>\n",
              "        </tr>\n",
              "        <tr>\n",
              "            <td>Anna</td>\n",
              "            <td>Johansson</td>\n",
              "            <td>4.230769230769231</td>\n",
              "        </tr>\n",
              "        <tr>\n",
              "            <td>Ylva</td>\n",
              "            <td>Jacobsson</td>\n",
              "            <td>4.21875</td>\n",
              "        </tr>\n",
              "        <tr>\n",
              "            <td>Anna</td>\n",
              "            <td>Johansson</td>\n",
              "            <td>4.2</td>\n",
              "        </tr>\n",
              "        <tr>\n",
              "            <td>Mikael</td>\n",
              "            <td>Nilsson</td>\n",
              "            <td>4.173913043478261</td>\n",
              "        </tr>\n",
              "        <tr>\n",
              "            <td>Jakob</td>\n",
              "            <td>Malmberg</td>\n",
              "            <td>4.166666666666667</td>\n",
              "        </tr>\n",
              "        <tr>\n",
              "            <td>Maria</td>\n",
              "            <td>Andersson</td>\n",
              "            <td>4.157894736842105</td>\n",
              "        </tr>\n",
              "        <tr>\n",
              "            <td>Per-Erik</td>\n",
              "            <td>Pettersson</td>\n",
              "            <td>4.153846153846154</td>\n",
              "        </tr>\n",
              "    </tbody>\n",
              "</table>"
            ],
            "text/plain": [
              "[('Bo', 'Ek', 4.35),\n",
              " ('Helena', 'Troberg', 4.3076923076923075),\n",
              " ('Elaine', 'Robertson', 4.235294117647059),\n",
              " ('Anna', 'Johansson', 4.230769230769231),\n",
              " ('Ylva', 'Jacobsson', 4.21875),\n",
              " ('Anna', 'Johansson', 4.2),\n",
              " ('Mikael', 'Nilsson', 4.173913043478261),\n",
              " ('Jakob', 'Malmberg', 4.166666666666667),\n",
              " ('Maria', 'Andersson', 4.157894736842105),\n",
              " ('Per-Erik', 'Pettersson', 4.153846153846154)]"
            ]
          },
          "execution_count": 41,
          "metadata": {},
          "output_type": "execute_result"
        }
      ],
      "source": [
        "%%sql\n",
        "SELECT first_name, last_name, avg(grade)\n",
        "FROM students INNER JOIN taken_courses\n",
        "ON students.ssn = taken_courses.ssn\n",
        "GROUP BY students.ssn\n",
        "ORDER BY avg(grade) DESC\n",
        "LIMIT 10"
      ]
    },
    {
      "cell_type": "markdown",
      "id": "819b300e",
      "metadata": {
        "id": "819b300e"
      },
      "source": [
        "Jump to [next REVIEW problem](#problem_10)\n",
        "\n",
        "<a id='problem_10'></a>\n",
        "\n",
        "## Problem 10 - REVIEW\n",
        "\n",
        "List the social security number and total number of credits for all students -- order by total credits, descending. Students with no credits should be included in the listing, with 0 credits (not `NULL`).\n",
        "\n",
        "Use an outer `JOIN` to solve the problem -- you might want to use the function `coalesce(v1, v2, ...)`; it returns the first value which is not `NULL`, so `coalesce(avg(grade), 0)` would give 0 if the were no grades (i.e., if `grade` were `NULL`), you can also try the `ifnull` function."
      ]
    },
    {
      "cell_type": "code",
      "execution_count": 44,
      "id": "985a412b",
      "metadata": {
        "attributes": {
          "classes": [
            "clear"
          ],
          "id": ""
        },
        "colab": {
          "base_uri": "https://localhost:8080/",
          "height": 1000
        },
        "id": "985a412b",
        "outputId": "1d587dd8-4a22-4c70-fa05-e584e62a97bc"
      },
      "outputs": [
        {
          "name": "stdout",
          "output_type": "stream",
          "text": [
            " * sqlite:///lab1.sqlite\n",
            "Done.\n"
          ]
        },
        {
          "data": {
            "text/html": [
              "<table>\n",
              "    <thead>\n",
              "        <tr>\n",
              "            <th>ssn</th>\n",
              "            <th>coalesce(sum(credits), 0)</th>\n",
              "        </tr>\n",
              "    </thead>\n",
              "    <tbody>\n",
              "        <tr>\n",
              "            <td>951004-2346</td>\n",
              "            <td>350.0</td>\n",
              "        </tr>\n",
              "        <tr>\n",
              "            <td>880620-2564</td>\n",
              "            <td>348.5</td>\n",
              "        </tr>\n",
              "        <tr>\n",
              "            <td>910915-2068</td>\n",
              "            <td>338.0</td>\n",
              "        </tr>\n",
              "        <tr>\n",
              "            <td>920623-3258</td>\n",
              "            <td>334.0</td>\n",
              "        </tr>\n",
              "        <tr>\n",
              "            <td>921222-2113</td>\n",
              "            <td>332.0</td>\n",
              "        </tr>\n",
              "        <tr>\n",
              "            <td>890621-3057</td>\n",
              "            <td>295.5</td>\n",
              "        </tr>\n",
              "        <tr>\n",
              "            <td>920308-3854</td>\n",
              "            <td>289.0</td>\n",
              "        </tr>\n",
              "        <tr>\n",
              "            <td>930702-3582</td>\n",
              "            <td>288.5</td>\n",
              "        </tr>\n",
              "        <tr>\n",
              "            <td>921029-1995</td>\n",
              "            <td>268.5</td>\n",
              "        </tr>\n",
              "        <tr>\n",
              "            <td>920921-2499</td>\n",
              "            <td>267.5</td>\n",
              "        </tr>\n",
              "        <tr>\n",
              "            <td>891021-1287</td>\n",
              "            <td>267.0</td>\n",
              "        </tr>\n",
              "        <tr>\n",
              "            <td>900227-2369</td>\n",
              "            <td>262.5</td>\n",
              "        </tr>\n",
              "        <tr>\n",
              "            <td>870915-2742</td>\n",
              "            <td>254.0</td>\n",
              "        </tr>\n",
              "        <tr>\n",
              "            <td>880322-3951</td>\n",
              "            <td>250.5</td>\n",
              "        </tr>\n",
              "        <tr>\n",
              "            <td>910101-1234</td>\n",
              "            <td>249.5</td>\n",
              "        </tr>\n",
              "        <tr>\n",
              "            <td>911020-3538</td>\n",
              "            <td>241.5</td>\n",
              "        </tr>\n",
              "        <tr>\n",
              "            <td>931208-3605</td>\n",
              "            <td>229.5</td>\n",
              "        </tr>\n",
              "        <tr>\n",
              "            <td>940318-2373</td>\n",
              "            <td>223.0</td>\n",
              "        </tr>\n",
              "        <tr>\n",
              "            <td>900918-3999</td>\n",
              "            <td>216.0</td>\n",
              "        </tr>\n",
              "        <tr>\n",
              "            <td>890622-1928</td>\n",
              "            <td>205.0</td>\n",
              "        </tr>\n",
              "        <tr>\n",
              "            <td>901030-1895</td>\n",
              "            <td>192.0</td>\n",
              "        </tr>\n",
              "        <tr>\n",
              "            <td>930502-2040</td>\n",
              "            <td>189.0</td>\n",
              "        </tr>\n",
              "        <tr>\n",
              "            <td>911212-1746</td>\n",
              "            <td>181.0</td>\n",
              "        </tr>\n",
              "        <tr>\n",
              "            <td>920906-3371</td>\n",
              "            <td>174.0</td>\n",
              "        </tr>\n",
              "        <tr>\n",
              "            <td>950830-2637</td>\n",
              "            <td>174.0</td>\n",
              "        </tr>\n",
              "        <tr>\n",
              "            <td>931128-1333</td>\n",
              "            <td>171.5</td>\n",
              "        </tr>\n",
              "        <tr>\n",
              "            <td>890820-2496</td>\n",
              "            <td>170.0</td>\n",
              "        </tr>\n",
              "        <tr>\n",
              "            <td>850208-1213</td>\n",
              "            <td>166.5</td>\n",
              "        </tr>\n",
              "        <tr>\n",
              "            <td>940801-2971</td>\n",
              "            <td>161.5</td>\n",
              "        </tr>\n",
              "        <tr>\n",
              "            <td>881110-1272</td>\n",
              "            <td>154.5</td>\n",
              "        </tr>\n",
              "        <tr>\n",
              "            <td>861103-2438</td>\n",
              "            <td>153.0</td>\n",
              "        </tr>\n",
              "        <tr>\n",
              "            <td>860206-1065</td>\n",
              "            <td>151.0</td>\n",
              "        </tr>\n",
              "        <tr>\n",
              "            <td>930804-3050</td>\n",
              "            <td>148.0</td>\n",
              "        </tr>\n",
              "        <tr>\n",
              "            <td>860819-2864</td>\n",
              "            <td>140.5</td>\n",
              "        </tr>\n",
              "        <tr>\n",
              "            <td>900206-3735</td>\n",
              "            <td>139.0</td>\n",
              "        </tr>\n",
              "        <tr>\n",
              "            <td>881030-2772</td>\n",
              "            <td>133.0</td>\n",
              "        </tr>\n",
              "        <tr>\n",
              "            <td>940802-3861</td>\n",
              "            <td>123.0</td>\n",
              "        </tr>\n",
              "        <tr>\n",
              "            <td>940825-1934</td>\n",
              "            <td>117.5</td>\n",
              "        </tr>\n",
              "        <tr>\n",
              "            <td>931213-2824</td>\n",
              "            <td>111.0</td>\n",
              "        </tr>\n",
              "        <tr>\n",
              "            <td>951122-1048</td>\n",
              "            <td>110.0</td>\n",
              "        </tr>\n",
              "        <tr>\n",
              "            <td>910308-1826</td>\n",
              "            <td>83.0</td>\n",
              "        </tr>\n",
              "        <tr>\n",
              "            <td>850819-2139</td>\n",
              "            <td>76.5</td>\n",
              "        </tr>\n",
              "        <tr>\n",
              "            <td>891231-2554</td>\n",
              "            <td>76.0</td>\n",
              "        </tr>\n",
              "        <tr>\n",
              "            <td>860323-1071</td>\n",
              "            <td>70.5</td>\n",
              "        </tr>\n",
              "        <tr>\n",
              "            <td>900528-1540</td>\n",
              "            <td>64.5</td>\n",
              "        </tr>\n",
              "        <tr>\n",
              "            <td>910226-3409</td>\n",
              "            <td>63.0</td>\n",
              "        </tr>\n",
              "        <tr>\n",
              "            <td>891106-1277</td>\n",
              "            <td>60.5</td>\n",
              "        </tr>\n",
              "        <tr>\n",
              "            <td>930716-3933</td>\n",
              "            <td>60.0</td>\n",
              "        </tr>\n",
              "        <tr>\n",
              "            <td>890103-1256</td>\n",
              "            <td>52.5</td>\n",
              "        </tr>\n",
              "        <tr>\n",
              "            <td>941003-1225</td>\n",
              "            <td>52.5</td>\n",
              "        </tr>\n",
              "        <tr>\n",
              "            <td>950317-3520</td>\n",
              "            <td>43.5</td>\n",
              "        </tr>\n",
              "        <tr>\n",
              "            <td>950705-2308</td>\n",
              "            <td>37.5</td>\n",
              "        </tr>\n",
              "        <tr>\n",
              "            <td>920812-1857</td>\n",
              "            <td>37.0</td>\n",
              "        </tr>\n",
              "        <tr>\n",
              "            <td>950714-2190</td>\n",
              "            <td>32.5</td>\n",
              "        </tr>\n",
              "        <tr>\n",
              "            <td>900526-1450</td>\n",
              "            <td>31.0</td>\n",
              "        </tr>\n",
              "        <tr>\n",
              "            <td>850706-2762</td>\n",
              "            <td>30.0</td>\n",
              "        </tr>\n",
              "        <tr>\n",
              "            <td>910707-3787</td>\n",
              "            <td>28.5</td>\n",
              "        </tr>\n",
              "        <tr>\n",
              "            <td>931015-1271</td>\n",
              "            <td>22.5</td>\n",
              "        </tr>\n",
              "        <tr>\n",
              "            <td>920514-3433</td>\n",
              "            <td>22.0</td>\n",
              "        </tr>\n",
              "        <tr>\n",
              "            <td>950715-2090</td>\n",
              "            <td>7.5</td>\n",
              "        </tr>\n",
              "        <tr>\n",
              "            <td>930420-2833</td>\n",
              "            <td>4.0</td>\n",
              "        </tr>\n",
              "        <tr>\n",
              "            <td>850517-2597</td>\n",
              "            <td>0</td>\n",
              "        </tr>\n",
              "        <tr>\n",
              "            <td>870909-3367</td>\n",
              "            <td>0</td>\n",
              "        </tr>\n",
              "        <tr>\n",
              "            <td>880206-1915</td>\n",
              "            <td>0</td>\n",
              "        </tr>\n",
              "        <tr>\n",
              "            <td>891007-3091</td>\n",
              "            <td>0</td>\n",
              "        </tr>\n",
              "        <tr>\n",
              "            <td>891220-1393</td>\n",
              "            <td>0</td>\n",
              "        </tr>\n",
              "        <tr>\n",
              "            <td>900129-3374</td>\n",
              "            <td>0</td>\n",
              "        </tr>\n",
              "        <tr>\n",
              "            <td>900313-2257</td>\n",
              "            <td>0</td>\n",
              "        </tr>\n",
              "        <tr>\n",
              "            <td>911015-3758</td>\n",
              "            <td>0</td>\n",
              "        </tr>\n",
              "        <tr>\n",
              "            <td>931225-3158</td>\n",
              "            <td>0</td>\n",
              "        </tr>\n",
              "        <tr>\n",
              "            <td>950125-1153</td>\n",
              "            <td>0</td>\n",
              "        </tr>\n",
              "        <tr>\n",
              "            <td>950829-1848</td>\n",
              "            <td>0</td>\n",
              "        </tr>\n",
              "    </tbody>\n",
              "</table>"
            ],
            "text/plain": [
              "[('951004-2346', 350.0),\n",
              " ('880620-2564', 348.5),\n",
              " ('910915-2068', 338.0),\n",
              " ('920623-3258', 334.0),\n",
              " ('921222-2113', 332.0),\n",
              " ('890621-3057', 295.5),\n",
              " ('920308-3854', 289.0),\n",
              " ('930702-3582', 288.5),\n",
              " ('921029-1995', 268.5),\n",
              " ('920921-2499', 267.5),\n",
              " ('891021-1287', 267.0),\n",
              " ('900227-2369', 262.5),\n",
              " ('870915-2742', 254.0),\n",
              " ('880322-3951', 250.5),\n",
              " ('910101-1234', 249.5),\n",
              " ('911020-3538', 241.5),\n",
              " ('931208-3605', 229.5),\n",
              " ('940318-2373', 223.0),\n",
              " ('900918-3999', 216.0),\n",
              " ('890622-1928', 205.0),\n",
              " ('901030-1895', 192.0),\n",
              " ('930502-2040', 189.0),\n",
              " ('911212-1746', 181.0),\n",
              " ('920906-3371', 174.0),\n",
              " ('950830-2637', 174.0),\n",
              " ('931128-1333', 171.5),\n",
              " ('890820-2496', 170.0),\n",
              " ('850208-1213', 166.5),\n",
              " ('940801-2971', 161.5),\n",
              " ('881110-1272', 154.5),\n",
              " ('861103-2438', 153.0),\n",
              " ('860206-1065', 151.0),\n",
              " ('930804-3050', 148.0),\n",
              " ('860819-2864', 140.5),\n",
              " ('900206-3735', 139.0),\n",
              " ('881030-2772', 133.0),\n",
              " ('940802-3861', 123.0),\n",
              " ('940825-1934', 117.5),\n",
              " ('931213-2824', 111.0),\n",
              " ('951122-1048', 110.0),\n",
              " ('910308-1826', 83.0),\n",
              " ('850819-2139', 76.5),\n",
              " ('891231-2554', 76.0),\n",
              " ('860323-1071', 70.5),\n",
              " ('900528-1540', 64.5),\n",
              " ('910226-3409', 63.0),\n",
              " ('891106-1277', 60.5),\n",
              " ('930716-3933', 60.0),\n",
              " ('890103-1256', 52.5),\n",
              " ('941003-1225', 52.5),\n",
              " ('950317-3520', 43.5),\n",
              " ('950705-2308', 37.5),\n",
              " ('920812-1857', 37.0),\n",
              " ('950714-2190', 32.5),\n",
              " ('900526-1450', 31.0),\n",
              " ('850706-2762', 30.0),\n",
              " ('910707-3787', 28.5),\n",
              " ('931015-1271', 22.5),\n",
              " ('920514-3433', 22.0),\n",
              " ('950715-2090', 7.5),\n",
              " ('930420-2833', 4.0),\n",
              " ('850517-2597', 0),\n",
              " ('870909-3367', 0),\n",
              " ('880206-1915', 0),\n",
              " ('891007-3091', 0),\n",
              " ('891220-1393', 0),\n",
              " ('900129-3374', 0),\n",
              " ('900313-2257', 0),\n",
              " ('911015-3758', 0),\n",
              " ('931225-3158', 0),\n",
              " ('950125-1153', 0),\n",
              " ('950829-1848', 0)]"
            ]
          },
          "execution_count": 44,
          "metadata": {},
          "output_type": "execute_result"
        }
      ],
      "source": [
        "%%sql\n",
        "SELECT ssn, coalesce(sum(credits), 0)\n",
        "FROM students \n",
        "LEFT OUTER JOIN taken_courses USING (ssn)\n",
        "LEFT OUTER JOIN courses USING (course_code)\n",
        "GROUP BY ssn\n",
        "ORDER BY coalesce(sum(credits), 0) DESC"
      ]
    },
    {
      "cell_type": "markdown",
      "id": "b6deb92e",
      "metadata": {
        "id": "b6deb92e"
      },
      "source": [
        "Jump to [next REVIEW problem](#problem_11)\n",
        "\n",
        "<a id='problem_11'></a>\n",
        "\n",
        "## Problem 11 - REVIEW\n",
        "\n",
        "Do all students have unique names (first name _and_ last name)? If not, show the full name and social security number for all students who have a namesake.\n",
        "\n",
        "As usual there are several ways of solving this, solve it using a `WITH`-statement where you create a 'table' with all duplicate names, and then:\n",
        "\n",
        "Use a `JOIN`:"
      ]
    },
    {
      "cell_type": "code",
      "execution_count": 62,
      "id": "1d804c69",
      "metadata": {
        "attributes": {
          "classes": [
            "clear"
          ],
          "id": ""
        },
        "colab": {
          "base_uri": "https://localhost:8080/",
          "height": 225
        },
        "id": "1d804c69",
        "outputId": "af482385-e268-43e5-e8b2-f2c8ddcbdca2"
      },
      "outputs": [
        {
          "name": "stdout",
          "output_type": "stream",
          "text": [
            " * sqlite:///lab1.sqlite\n",
            "Done.\n"
          ]
        },
        {
          "data": {
            "text/html": [
              "<table>\n",
              "    <thead>\n",
              "        <tr>\n",
              "            <th>name</th>\n",
              "            <th>ssn</th>\n",
              "        </tr>\n",
              "    </thead>\n",
              "    <tbody>\n",
              "        <tr>\n",
              "            <td>Anna Johansson</td>\n",
              "            <td>950705-2308</td>\n",
              "        </tr>\n",
              "        <tr>\n",
              "            <td>Anna Johansson</td>\n",
              "            <td>930702-3582</td>\n",
              "        </tr>\n",
              "        <tr>\n",
              "            <td>Bo Ek</td>\n",
              "            <td>861103-2438</td>\n",
              "        </tr>\n",
              "        <tr>\n",
              "            <td>Bo Ek</td>\n",
              "            <td>931225-3158</td>\n",
              "        </tr>\n",
              "        <tr>\n",
              "            <td>Bo Ek</td>\n",
              "            <td>850819-2139</td>\n",
              "        </tr>\n",
              "        <tr>\n",
              "            <td>Erik Andersson</td>\n",
              "            <td>891220-1393</td>\n",
              "        </tr>\n",
              "        <tr>\n",
              "            <td>Erik Andersson</td>\n",
              "            <td>900313-2257</td>\n",
              "        </tr>\n",
              "    </tbody>\n",
              "</table>"
            ],
            "text/plain": [
              "[('Anna Johansson', '950705-2308'),\n",
              " ('Anna Johansson', '930702-3582'),\n",
              " ('Bo Ek', '861103-2438'),\n",
              " ('Bo Ek', '931225-3158'),\n",
              " ('Bo Ek', '850819-2139'),\n",
              " ('Erik Andersson', '891220-1393'),\n",
              " ('Erik Andersson', '900313-2257')]"
            ]
          },
          "execution_count": 62,
          "metadata": {},
          "output_type": "execute_result"
        }
      ],
      "source": [
        "%%sql\n",
        "WITH duplicate_names(name) AS (\n",
        "  SELECT first_name ||' '|| last_name AS name\n",
        "  FROM students\n",
        "  GROUP BY name\n",
        "  HAVING count() > 1\n",
        ")\n",
        "SELECT name, ssn\n",
        "FROM students JOIN duplicate_names\n",
        "ON first_name ||' '|| last_name = name"
      ]
    },
    {
      "cell_type": "markdown",
      "id": "276c58da",
      "metadata": {
        "id": "276c58da"
      },
      "source": [
        "Use a subquery:"
      ]
    },
    {
      "cell_type": "code",
      "execution_count": 55,
      "id": "UcWSXJonaqfZ",
      "metadata": {
        "colab": {
          "base_uri": "https://localhost:8080/",
          "height": 225
        },
        "id": "UcWSXJonaqfZ",
        "outputId": "168d6c48-8d99-4817-9367-3255cae70b12"
      },
      "outputs": [
        {
          "name": "stdout",
          "output_type": "stream",
          "text": [
            " * sqlite:///lab1.sqlite\n",
            "Done.\n"
          ]
        },
        {
          "data": {
            "text/html": [
              "<table>\n",
              "    <thead>\n",
              "        <tr>\n",
              "            <th>name</th>\n",
              "            <th>ssn</th>\n",
              "        </tr>\n",
              "    </thead>\n",
              "    <tbody>\n",
              "        <tr>\n",
              "            <td>Anna Johansson</td>\n",
              "            <td>950705-2308</td>\n",
              "        </tr>\n",
              "        <tr>\n",
              "            <td>Anna Johansson</td>\n",
              "            <td>930702-3582</td>\n",
              "        </tr>\n",
              "        <tr>\n",
              "            <td>Bo Ek</td>\n",
              "            <td>861103-2438</td>\n",
              "        </tr>\n",
              "        <tr>\n",
              "            <td>Bo Ek</td>\n",
              "            <td>931225-3158</td>\n",
              "        </tr>\n",
              "        <tr>\n",
              "            <td>Bo Ek</td>\n",
              "            <td>850819-2139</td>\n",
              "        </tr>\n",
              "        <tr>\n",
              "            <td>Erik Andersson</td>\n",
              "            <td>891220-1393</td>\n",
              "        </tr>\n",
              "        <tr>\n",
              "            <td>Erik Andersson</td>\n",
              "            <td>900313-2257</td>\n",
              "        </tr>\n",
              "    </tbody>\n",
              "</table>"
            ],
            "text/plain": [
              "[('Anna Johansson', '950705-2308'),\n",
              " ('Anna Johansson', '930702-3582'),\n",
              " ('Bo Ek', '861103-2438'),\n",
              " ('Bo Ek', '931225-3158'),\n",
              " ('Bo Ek', '850819-2139'),\n",
              " ('Erik Andersson', '891220-1393'),\n",
              " ('Erik Andersson', '900313-2257')]"
            ]
          },
          "execution_count": 55,
          "metadata": {},
          "output_type": "execute_result"
        }
      ],
      "source": [
        "%%sql\n",
        "WITH duplicate_names(name) AS (\n",
        "  SELECT first_name ||' '|| last_name AS name\n",
        "  FROM students\n",
        "  GROUP BY name\n",
        "  HAVING count() > 1\n",
        ")\n",
        "SELECT first_name ||' '|| last_name AS name, ssn\n",
        "FROM students\n",
        "WHERE name IN duplicate_names"
      ]
    },
    {
      "cell_type": "code",
      "execution_count": 45,
      "id": "1e02f4e5",
      "metadata": {
        "attributes": {
          "classes": [
            "clear"
          ],
          "id": ""
        },
        "colab": {
          "base_uri": "https://localhost:8080/",
          "height": 139
        },
        "id": "1e02f4e5",
        "outputId": "7eb0f954-7925-4deb-b14a-7f2916ed74c5"
      },
      "outputs": [
        {
          "name": "stdout",
          "output_type": "stream",
          "text": [
            " * sqlite:///lab1.sqlite\n",
            "Done.\n"
          ]
        },
        {
          "data": {
            "text/html": [
              "<table>\n",
              "    <thead>\n",
              "        <tr>\n",
              "            <th>name</th>\n",
              "            <th>ssn</th>\n",
              "        </tr>\n",
              "    </thead>\n",
              "    <tbody>\n",
              "        <tr>\n",
              "            <td>Anna Johansson</td>\n",
              "            <td>950705-2308, 930702-3582</td>\n",
              "        </tr>\n",
              "        <tr>\n",
              "            <td>Bo Ek</td>\n",
              "            <td>861103-2438, 931225-3158, 850819-2139</td>\n",
              "        </tr>\n",
              "        <tr>\n",
              "            <td>Erik Andersson</td>\n",
              "            <td>891220-1393, 900313-2257</td>\n",
              "        </tr>\n",
              "    </tbody>\n",
              "</table>"
            ],
            "text/plain": [
              "[('Anna Johansson', '950705-2308, 930702-3582'),\n",
              " ('Bo Ek', '861103-2438, 931225-3158, 850819-2139'),\n",
              " ('Erik Andersson', '891220-1393, 900313-2257')]"
            ]
          },
          "execution_count": 45,
          "metadata": {},
          "output_type": "execute_result"
        }
      ],
      "source": [
        "%%sql\n",
        "SELECT first_name ||' '|| last_name AS name, group_concat(ssn, \", \") AS ssn\n",
        "FROM students\n",
        "GROUP BY name\n",
        "HAVING count() > 1"
      ]
    }
  ],
  "metadata": {
    "colab": {
      "provenance": []
    },
    "gpuClass": "standard",
    "kernelspec": {
      "display_name": "Python 3",
      "language": "python",
      "name": "python3"
    },
    "language_info": {
      "name": "python",
      "version": "3.10.6"
    },
    "vscode": {
      "interpreter": {
        "hash": "916dbcbb3f70747c44a77c7bcd40155683ae19c65e1c03b4aa3499c5328201f1"
      }
    }
  },
  "nbformat": 4,
  "nbformat_minor": 5
}
