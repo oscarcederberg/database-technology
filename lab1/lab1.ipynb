{
 "cells": [
  {
   "cell_type": "markdown",
   "id": "9aabd399",
   "metadata": {},
   "source": [
    "<!-- # -*- mode: markdown; coding: utf-8; fill-column: 60; org-indent-mode: t; column-number-mode: t; flyspell-mode: t; ispell-local-dictionary: \"en\"; eval: (visual-on); -*- -->\n",
    "\n",
    "<meta charset=\"utf-8\"/>\n",
    "<meta name=\"viewport\" content=\"width=device-width,initial-scale=1\"/>\n",
    "<link rel=\"stylesheet\" href=\"style.css\">\n",
    "\n",
    "\n",
    "# EDAF75 - lab 1: SQL\n",
    "\n",
    "This lab is meant to be run as a `jupyter` notebook, you could download it [here](lab1.zip) (the zip-file contains the notebook and the database, and a [.html-file](lab1.html) which you can read in case you have problems reading/running jupyter notebooks).\n",
    "\n",
    "To start your notebook, you can use the following commands (after you've downloaded [the zip file](lab1.zip) -- observe that the `$` is the shell prompt, you shouldn't type it):"
   ]
  },
  {
   "cell_type": "markdown",
   "id": "637b3836",
   "metadata": {},
   "source": [
    "```sh\n",
    "$ unzip lab1.zip\n",
    "$ jupyter notebook    # or jupyter lab\n",
    "```\n"
   ]
  },
  {
   "cell_type": "markdown",
   "id": "b31f8c24",
   "metadata": {},
   "source": [
    "This should start jupyter in a browser tab, and there you can click \"lab1.ipynb\".\n",
    "\n",
    "\n",
    "# Background\n",
    "\n",
    "We have a database to handle the academic achievements of students at LTH -- in it we have four tables:\n",
    "\n",
    "<hr>\n",
    "<table rules=\"all\">\n",
    " <tr>\n",
    "  <th align=\"left\"><code>students:</code></th>\n",
    "  <th></th>\n",
    " </tr>\n",
    " <tr>\n",
    "  <td><code>ssn</code></td>\n",
    "  <td>social security number</td>\n",
    " </tr>\n",
    " <tr>\n",
    "  <td><code>first_name</code></td>\n",
    "  <td>first name (obviously!)</td>\n",
    " </tr>\n",
    " <tr>\n",
    "  <td><code>last_name</code></td>\n",
    "  <td>last name</td>\n",
    " </tr>\n",
    "</table>\n",
    "\n",
    "<hr>\n",
    "<table rules=\"all\">\n",
    " <tr>\n",
    "  <th align=\"left\"><code>departments:</code></th>\n",
    "  <th></th>\n",
    " </tr>\n",
    " <tr>\n",
    "  <td><code>department_code</code></td>\n",
    "  <td>unique code for each department</td>\n",
    " </tr>\n",
    " <tr>\n",
    "  <td><code>department_name</code></td>\n",
    "  <td>the name of the department, in Swedish</td>\n",
    " </tr>\n",
    "</table>\n",
    "\n",
    "<hr>\n",
    "<table rules=\"all\">\n",
    " <tr>\n",
    "  <th align=\"left\"><code>courses:</code></th>\n",
    "  <th></th>\n",
    " </tr>\n",
    " <tr>\n",
    "  <td><code>course_code</code></td>\n",
    "  <td>course code, like <code>EDAF75</code></td>\n",
    " </tr>\n",
    " <tr>\n",
    "  <td><code>course_name</code></td>\n",
    "  <td>the name of the course, in Swedish (like \"Databasteknik\")</td>\n",
    " </tr>\n",
    " <tr>\n",
    "  <td><code>department_code</code></td>\n",
    "  <td>the department giving the course</td>\n",
    " </tr>\n",
    " <tr>\n",
    "  <td><code>level</code></td>\n",
    "  <td>the course level, like \"G1\", \"G2\", or \"A\"</td>\n",
    " </tr>\n",
    " <tr>\n",
    "  <td><code>credits</code></td>\n",
    "  <td>the number of credits for the course, like 7.5</td>\n",
    " </tr>\n",
    "</table>\n",
    "\n",
    "<hr>\n",
    "<table rules=\"all\">\n",
    " <tr>\n",
    "  <th align=\"left\"><code>taken_courses:</code></th>\n",
    "  <th></th>\n",
    " </tr>\n",
    " <tr>\n",
    "  <td><code>ssn</code></td>\n",
    "  <td>the social security number of a student</td>\n",
    " </tr>\n",
    " <tr>\n",
    "  <td><code>course_code</code></td>\n",
    "  <td>the course code for the course the student has taken</td>\n",
    " </tr>\n",
    " <tr>\n",
    "  <td><code>grade</code></td>\n",
    "  <td>the grade for the student passing the course</td>\n",
    " </tr>\n",
    "</table>\n",
    "\n",
    "<hr>\n",
    "\n",
    "<center>\n",
    "  <img src=\"lab1-uml.png\">\n",
    "</center>\n",
    "\n",
    "Some sample data:"
   ]
  },
  {
   "cell_type": "markdown",
   "id": "62932e0e",
   "metadata": {},
   "source": [
    "```text\n",
    "ssn           first_name   last_name\n",
    "---           ----------   ---------\n",
    "861103–2438   Bo           Ek\n",
    "911212–1746   Eva          Alm\n",
    "950829–1848   Anna         Nyström\n",
    "...           ...          ...\n",
    "\n",
    "department_code  department_name\n",
    "---------------  ----------------------------------------\n",
    "eda              Datavetenskap\n",
    "edi              Informationsteori\n",
    "eem              Elektrisk mätteknik\n",
    "eie              Industriell elektroteknik och automation\n",
    "...              ...\n",
    "\n",
    "course_code  course_name                         department_code  level  credits\n",
    "-----------  ----------------------------------  ---------------  -----  -------\n",
    "ETTN05       Adaptiv signalbehandling            eit              A      7.5\n",
    "FMAN10       Algebraiska strukturer              fma              A      7.5\n",
    "ETIN80       Algoritmer i signalprocessorer...   eit              A      7.5\n",
    "EDAF05       Algoritmer, datastrukturer och...   eda              G2     5.0\n",
    "...          ...                                 ...              ...    ...\n",
    "\n",
    "ssn           course_code   grade\n",
    "---           -----------   -----\n",
    "861103–2438   EDA016        4\n",
    "861103–2438   EDAA01        3\n",
    "911212–1746   EDA016        3\n",
    "...           ...           ...\n",
    "```\n"
   ]
  },
  {
   "cell_type": "markdown",
   "id": "94277573",
   "metadata": {},
   "source": [
    "The tables have been created with the following SQL\n",
    "statements:"
   ]
  },
  {
   "cell_type": "markdown",
   "id": "3ce1751a",
   "metadata": {},
   "source": [
    "```sql\n",
    "CREATE TABLE students (\n",
    "  ssn          CHAR(11),\n",
    "  first_name   TEXT NOT NULL,\n",
    "  last_name    TEXT NOT NULL,\n",
    "  PRIMARY KEY  (ssn)\n",
    ");\n",
    "\n",
    "CREATE TABLE departments (\n",
    "  department_code    TEXT,\n",
    "  department_name    TEXT,\n",
    "  PRIMARY KEY (department_code)\n",
    ");\n",
    "\n",
    "CREATE TABLE courses (\n",
    "  course_code      CHAR(6),\n",
    "  course_name      TEXT NOT NULL,\n",
    "  department_code  TEXT,\n",
    "  level            CHAR(2),\n",
    "  credits          DOUBLE NOT NULL CHECK (credits >= 0),\n",
    "  PRIMARY KEY      (course_code),\n",
    "  FOREIGN KEY      (department_code) REFERENCES departments(department_code)\n",
    ");\n",
    "\n",
    "CREATE TABLE taken_courses (\n",
    "  ssn           CHAR(11),\n",
    "  course_code   CHAR(6),\n",
    "  grade         INTEGER NOT NULL CHECK (grade >= 3 AND grade <= 5),\n",
    "  PRIMARY KEY   (ssn, course_code),\n",
    "  FOREIGN KEY   (ssn) REFERENCES students(ssn),\n",
    "  FOREIGN KEY   (course_code) REFERENCES courses(course_code)\n",
    ");\n",
    "```\n"
   ]
  },
  {
   "cell_type": "markdown",
   "id": "e02782e8",
   "metadata": {},
   "source": [
    "All courses offered at the \"Computer Science and Engineering\" program at LTH during the academic year 2013/14 are in the table 'courses`. Also, the database has been filled with made up data. SQL statements like the following have been used to insert the data:"
   ]
  },
  {
   "cell_type": "markdown",
   "id": "de71b97f",
   "metadata": {},
   "source": [
    "```sql\n",
    "INTO   students(ssn, first_name, last_name)\n",
    "VALUES ('950705-2308', 'Anna', 'Johansson'),\n",
    "       ('930702-3582', 'Anna', 'Johansson'),\n",
    "       ('911212-1746', 'Eva', 'Alm'),\n",
    "       ('910707-3787', 'Eva', 'Nilsson'),\n",
    "       ...\n",
    "```\n"
   ]
  },
  {
   "cell_type": "markdown",
   "id": "2f000365",
   "metadata": {},
   "source": [
    "The information about which departments gives which courses is somewhat haphazard (some of the departments in the database no longer exist, and some of them may never have existed).\n",
    "Our database assumes each course is given by a single department, in real life, departments can share courses -- if you want to practice what we're talking about in week 2 and week 3, try to come up with a modification of the database design, which allows departments to share courses (you can ask your TA about it during the lab session).\n",
    "\n",
    "\n",
    "# Assignments\n",
    "\n",
    "To pass this lab, you only need to show your solutions to the problems marked REVIEW below -- that's the only ones we'll be looking at during the lab sessions.\n",
    "You can skip the other problems at your own discretion, but I strongly recommend that you try them out, for practice.\n",
    "\n",
    "As said above, this lab is designed to be run as a jupyter notebook (either using =jupyter lab=, or =jupyter notebook=).\n",
    "If you haven't been able to get =jupyter= up and running on your computer, you can run the sql-commands for the problems below interactively inside =sqlite3=, or as a script file with all your commands, or inside some IDE, like [DB Browser for SQLite](https://sqlitebrowser.org/).\n",
    "\n",
    "If you're running the lab as a notebook (and hopefully you are!), evaluate the following cells before you begin:"
   ]
  },
  {
   "cell_type": "code",
   "execution_count": null,
   "id": "95ce919f",
   "metadata": {},
   "outputs": [],
   "source": [
    "%load_ext sql"
   ]
  },
  {
   "cell_type": "code",
   "execution_count": null,
   "id": "cebd7ab3",
   "metadata": {},
   "outputs": [],
   "source": [
    "%sql sqlite:///lab1.sqlite"
   ]
  },
  {
   "cell_type": "markdown",
   "id": "6b818832",
   "metadata": {},
   "source": [
    "The tables `students`, `departments`, `courses` and `taken_courses` are already in your database, you can see some of their contents by running the cells below:"
   ]
  },
  {
   "cell_type": "code",
   "execution_count": null,
   "id": "75d64375",
   "metadata": {},
   "outputs": [],
   "source": [
    "%%sql\n",
    "SELECT  *\n",
    "FROM    students\n",
    "LIMIT   4"
   ]
  },
  {
   "cell_type": "code",
   "execution_count": null,
   "id": "73f48884",
   "metadata": {},
   "outputs": [],
   "source": [
    "%%sql\n",
    "SELECT  *\n",
    "FROM    departments\n",
    "LIMIT   4"
   ]
  },
  {
   "cell_type": "code",
   "execution_count": null,
   "id": "a5451069",
   "metadata": {},
   "outputs": [],
   "source": [
    "%%sql\n",
    "SELECT  *\n",
    "FROM    courses\n",
    "LIMIT   4"
   ]
  },
  {
   "cell_type": "code",
   "execution_count": null,
   "id": "d7685456",
   "metadata": {},
   "outputs": [],
   "source": [
    "%%sql\n",
    "SELECT  *\n",
    "FROM    taken_courses\n",
    "LIMIT   4"
   ]
  },
  {
   "cell_type": "markdown",
   "id": "96cf6661",
   "metadata": {},
   "source": [
    "If you inadvertently change the contents of the tables, you can always recreate the them with the following command (it must be run at the command line):"
   ]
  },
  {
   "cell_type": "markdown",
   "id": "ab0aee21",
   "metadata": {},
   "source": [
    "```sh\n",
    "$ sqlite3 lab1.sqlite < lab1-setup.sql\n",
    "```\n"
   ]
  },
  {
   "cell_type": "markdown",
   "id": "f2d57110",
   "metadata": {},
   "source": [
    "--------------------------------\n",
    "Jump to [next REVIEW problem](#problem_5)\n",
    "--------------------------------\n",
    "\n",
    "<a id='problem_1'></a>\n",
    "\n",
    "## Problem 1 (practice)\n",
    "\n",
    "What are the names (first name and last name) of all the students?"
   ]
  },
  {
   "cell_type": "code",
   "execution_count": null,
   "id": "8a03fba9",
   "metadata": {},
   "outputs": [],
   "source": [
    "%%sql\n"
   ]
  },
  {
   "cell_type": "markdown",
   "id": "c408eb4a",
   "metadata": {},
   "source": [
    "Now sort the names, first by last name and then by first name:"
   ]
  },
  {
   "cell_type": "code",
   "execution_count": null,
   "id": "5812456c",
   "metadata": {
    "attributes": {
     "classes": [
      "clear"
     ],
     "id": ""
    }
   },
   "outputs": [],
   "source": [
    "%%sql\n"
   ]
  },
  {
   "cell_type": "markdown",
   "id": "29c7ee70",
   "metadata": {},
   "source": [
    "When you get it to work, experiment by listing only the 10 first students (alphabetically), then try to list only students 11-20, etc.:"
   ]
  },
  {
   "cell_type": "code",
   "execution_count": null,
   "id": "0aa202a1",
   "metadata": {
    "attributes": {
     "classes": [
      "clear"
     ],
     "id": ""
    }
   },
   "outputs": [],
   "source": [
    "%%sql\n"
   ]
  },
  {
   "cell_type": "markdown",
   "id": "b591b9b9",
   "metadata": {},
   "source": [
    "<a id='problem_2'></a>\n",
    "\n",
    "## Problem 2 (practice)\n",
    "\n",
    "What are the names of the students who were born in 1985?"
   ]
  },
  {
   "cell_type": "code",
   "execution_count": null,
   "id": "68ae4a32",
   "metadata": {
    "attributes": {
     "classes": [
      "clear"
     ],
     "id": ""
    }
   },
   "outputs": [],
   "source": [
    "%%sql\n"
   ]
  },
  {
   "cell_type": "markdown",
   "id": "878aa427",
   "metadata": {},
   "source": [
    "Hint: the `substr` function can be useful (it also goes by the name `substring`).\n",
    "\n",
    "\n",
    "<a id='problem_3'></a>\n",
    "\n",
    "## Problem 3 (practice)\n",
    "\n",
    "The penultimate digit in the social security number is even for females, and odd for males.\n",
    "List the first names of all female students in our database alphabetically."
   ]
  },
  {
   "cell_type": "code",
   "execution_count": null,
   "id": "8191d501",
   "metadata": {
    "attributes": {
     "classes": [
      "clear"
     ],
     "id": ""
    }
   },
   "outputs": [],
   "source": [
    "%%sql\n"
   ]
  },
  {
   "cell_type": "markdown",
   "id": "f6268349",
   "metadata": {},
   "source": [
    "Now try to output each name only once (so, no duplicates)."
   ]
  },
  {
   "cell_type": "code",
   "execution_count": null,
   "id": "2fced45c",
   "metadata": {
    "attributes": {
     "classes": [
      "clear"
     ],
     "id": ""
    }
   },
   "outputs": [],
   "source": [
    "%%sql\n"
   ]
  },
  {
   "cell_type": "markdown",
   "id": "f436b716",
   "metadata": {},
   "source": [
    "<a id='problem_4'></a>\n",
    "\n",
    "## Problem 4 (practice)\n",
    "\n",
    "How many students are registered in the database?"
   ]
  },
  {
   "cell_type": "code",
   "execution_count": null,
   "id": "cf7af790",
   "metadata": {
    "attributes": {
     "classes": [
      "clear"
     ],
     "id": ""
    }
   },
   "outputs": [],
   "source": [
    "%%sql\n"
   ]
  },
  {
   "cell_type": "markdown",
   "id": "01169d61",
   "metadata": {},
   "source": [
    "How many male students are there?"
   ]
  },
  {
   "cell_type": "code",
   "execution_count": null,
   "id": "4b683c32",
   "metadata": {
    "attributes": {
     "classes": [
      "clear"
     ],
     "id": ""
    }
   },
   "outputs": [],
   "source": [
    "%%sql\n"
   ]
  },
  {
   "cell_type": "markdown",
   "id": "6709cc20",
   "metadata": {},
   "source": [
    "Now try to output the number of distinct names in the listing of female students above, using `count`.\n",
    "It turns out that this is a bit tricky, we need to make sure we use the word `DISTINCT` in the right place (look carefully in the [documentation](https://sqlite.org/lang_aggfunc.html))."
   ]
  },
  {
   "cell_type": "code",
   "execution_count": null,
   "id": "4e313e1e",
   "metadata": {
    "attributes": {
     "classes": [
      "clear"
     ],
     "id": ""
    }
   },
   "outputs": [],
   "source": [
    "%%sql\n"
   ]
  },
  {
   "cell_type": "markdown",
   "id": "30e3df12",
   "metadata": {},
   "source": [
    "<a id='problem_5'></a>\n",
    "\n",
    "## Problem 5 -- REVIEW\n",
    "\n",
    "How many courses are there for each level (`G1`, `G2`, and `A`)?"
   ]
  },
  {
   "cell_type": "code",
   "execution_count": null,
   "id": "895d03ec",
   "metadata": {
    "attributes": {
     "classes": [
      "clear"
     ],
     "id": ""
    }
   },
   "outputs": [],
   "source": [
    "%%sql\n"
   ]
  },
  {
   "cell_type": "markdown",
   "id": "70eef6a5",
   "metadata": {},
   "source": [
    "For each level, how many courses give more than 7.5 HP?"
   ]
  },
  {
   "cell_type": "code",
   "execution_count": null,
   "id": "ee41f6d9",
   "metadata": {
    "attributes": {
     "classes": [
      "clear"
     ],
     "id": ""
    }
   },
   "outputs": [],
   "source": [
    "%%sql\n"
   ]
  },
  {
   "cell_type": "markdown",
   "id": "b5a9c133",
   "metadata": {},
   "source": [
    "Jump to [next REVIEW problem](#problem_7)\n",
    "\n",
    "<a id='problem_6'></a>\n",
    "\n",
    "## Problem 6 (practice)\n",
    "\n",
    "In the next few queries, we'll look at the results of the student with the social security number 910101-1234 -- to make things _a lot_ easier, start by creating a `VIEW` with all his results."
   ]
  },
  {
   "cell_type": "code",
   "execution_count": null,
   "id": "1bc219a5",
   "metadata": {
    "attributes": {
     "classes": [
      "clear"
     ],
     "id": ""
    }
   },
   "outputs": [],
   "source": [
    "%%sql\n",
    "DROP VIEW IF EXISTS ...;\n",
    "CREATE VIEW ... AS"
   ]
  },
  {
   "cell_type": "markdown",
   "id": "1c9c38f9",
   "metadata": {},
   "source": [
    "Make sure the view contains all data pertinent to the student in question (it will make the following queries very simple).\n",
    "\n",
    "Which courses (course codes only) have been taken by the student?"
   ]
  },
  {
   "cell_type": "code",
   "execution_count": null,
   "id": "40a62f94",
   "metadata": {
    "attributes": {
     "classes": [
      "clear"
     ],
     "id": ""
    }
   },
   "outputs": [],
   "source": [
    "%%sql\n"
   ]
  },
  {
   "cell_type": "markdown",
   "id": "edc29d0e",
   "metadata": {},
   "source": [
    "What are the names of these courses, and how many credits do they give?"
   ]
  },
  {
   "cell_type": "code",
   "execution_count": null,
   "id": "14925aa5",
   "metadata": {
    "attributes": {
     "classes": [
      "clear"
     ],
     "id": ""
    }
   },
   "outputs": [],
   "source": [
    "%%sql\n"
   ]
  },
  {
   "cell_type": "markdown",
   "id": "7b74b0be",
   "metadata": {},
   "source": [
    "How many credits has the student taken?"
   ]
  },
  {
   "cell_type": "code",
   "execution_count": null,
   "id": "516b50af",
   "metadata": {
    "attributes": {
     "classes": [
      "clear"
     ],
     "id": ""
    }
   },
   "outputs": [],
   "source": [
    "%%sql\n"
   ]
  },
  {
   "cell_type": "markdown",
   "id": "e9d36b66",
   "metadata": {},
   "source": [
    "What is the student’s grade average?\n",
    "It turns out that there are actually (at least) two different averages at play here:\n",
    "\n",
    "+ the unweighted average, i.e., just the average of all the students grades (no matter how many credits each course gives), and\n",
    "\n",
    "+ the [weighted average](https://en.wikipedia.org/wiki/Weighted_arithmetic_mean), where we use the credits for a course as a weight.\n",
    "\n",
    "First the unweighted average:"
   ]
  },
  {
   "cell_type": "code",
   "execution_count": null,
   "id": "f27d33ac",
   "metadata": {
    "attributes": {
     "classes": [
      "clear"
     ],
     "id": ""
    }
   },
   "outputs": [],
   "source": [
    "%%sql\n"
   ]
  },
  {
   "cell_type": "markdown",
   "id": "1181c2de",
   "metadata": {},
   "source": [
    "And then the weighted average (feel free to ask me about this during QA sessions, if you get stuck):"
   ]
  },
  {
   "cell_type": "code",
   "execution_count": null,
   "id": "436f410f",
   "metadata": {
    "attributes": {
     "classes": [
      "clear"
     ],
     "id": ""
    }
   },
   "outputs": [],
   "source": [
    "%%sql\n"
   ]
  },
  {
   "cell_type": "markdown",
   "id": "bac9e254",
   "metadata": {},
   "source": [
    "Hint: If you've created a proper view above, we'll get a 'table' with one row for each course the student has passed, and each row will contain information about grades and credits for the passed course.\n",
    "If we use arithmetic operations in a select statement, and then use an aggregate function around that operation, we'll apply the aggregate function to each value the operation returns (so, e.g., a `sum` over a product will be a scalar product).\n",
    "\n",
    "Now drop the view:"
   ]
  },
  {
   "cell_type": "code",
   "execution_count": null,
   "id": "a5b36243",
   "metadata": {
    "attributes": {
     "classes": [
      "clear"
     ],
     "id": ""
    }
   },
   "outputs": [],
   "source": [
    "%%sql\n"
   ]
  },
  {
   "cell_type": "markdown",
   "id": "e7491b60",
   "metadata": {},
   "source": [
    "<a id='problem_7'></a>\n",
    "\n",
    "## Problem 7 - REVIEW\n",
    "\n",
    "For the five departments which offers the most total credits (for its courses in this database) -- output the name of the department, and the total number of offered credits:"
   ]
  },
  {
   "cell_type": "code",
   "execution_count": null,
   "id": "378b6e87",
   "metadata": {
    "attributes": {
     "classes": [
      "clear"
     ],
     "id": ""
    }
   },
   "outputs": [],
   "source": [
    "%%sql\n"
   ]
  },
  {
   "cell_type": "markdown",
   "id": "658d7555",
   "metadata": {},
   "source": [
    "Jump to [next REVIEW problem](#problem_8)\n",
    "\n",
    "<a id='problem_8'></a>\n",
    "\n",
    "## Problem 8 - REVIEW\n",
    "\n",
    "Which students (`ssn` and full name) have taken 0 credits? This problem can be solved in several ways, first do it with an outer join:"
   ]
  },
  {
   "cell_type": "code",
   "execution_count": null,
   "id": "af7d527c",
   "metadata": {
    "attributes": {
     "classes": [
      "clear"
     ],
     "id": ""
    }
   },
   "outputs": [],
   "source": [
    "%%sql\n"
   ]
  },
  {
   "cell_type": "markdown",
   "id": "24d2049d",
   "metadata": {},
   "source": [
    "Now do the same thing using a subquery:"
   ]
  },
  {
   "cell_type": "code",
   "execution_count": null,
   "id": "38dc0b6a",
   "metadata": {
    "attributes": {
     "classes": [
      "clear"
     ],
     "id": ""
    }
   },
   "outputs": [],
   "source": [
    "%%sql\n"
   ]
  },
  {
   "cell_type": "markdown",
   "id": "7edc8b31",
   "metadata": {},
   "source": [
    "Jump to [next REVIEW problem](#problem_9)\n",
    "\n",
    "<a id='problem_9'></a>\n",
    "\n",
    "## Problem 9 - REVIEW\n",
    "\n",
    "List the names and average grades of the 10 students with the highest grade average? You can use the unweighted average."
   ]
  },
  {
   "cell_type": "code",
   "execution_count": null,
   "id": "71c32c87",
   "metadata": {
    "attributes": {
     "classes": [
      "clear"
     ],
     "id": ""
    }
   },
   "outputs": [],
   "source": [
    "%%sql\n"
   ]
  },
  {
   "cell_type": "markdown",
   "id": "819b300e",
   "metadata": {},
   "source": [
    "Jump to [next REVIEW problem](#problem_10)\n",
    "\n",
    "<a id='problem_10'></a>\n",
    "\n",
    "## Problem 10 - REVIEW\n",
    "\n",
    "List the social security number and total number of credits for all students -- order by total credits, descending. Students with no credits should be included in the listing, with 0 credits (not `NULL`).\n",
    "\n",
    "Use an outer `JOIN` to solve the problem -- you might want to use the function `coalesce(v1, v2, ...)`; it returns the first value which is not `NULL`, so `coalesce(avg(grade), 0)` would give 0 if the were no grades (i.e., if `grade` were `NULL`), you can also try the `ifnull` function."
   ]
  },
  {
   "cell_type": "code",
   "execution_count": null,
   "id": "985a412b",
   "metadata": {
    "attributes": {
     "classes": [
      "clear"
     ],
     "id": ""
    }
   },
   "outputs": [],
   "source": [
    "%%sql\n"
   ]
  },
  {
   "cell_type": "markdown",
   "id": "b6deb92e",
   "metadata": {},
   "source": [
    "Jump to [next REVIEW problem](#problem_11)\n",
    "\n",
    "<a id='problem_11'></a>\n",
    "\n",
    "## Problem 11 - REVIEW\n",
    "\n",
    "Do all students have unique names (first name _and_ last name)? If not, show the full name and social security number for all students who have a namesake.\n",
    "\n",
    "As usual there are several ways of solving this, solve it using a `WITH`-statement where you create a 'table' with all duplicate names, and then:\n",
    "\n",
    "Use a `JOIN`:"
   ]
  },
  {
   "cell_type": "code",
   "execution_count": null,
   "id": "1d804c69",
   "metadata": {
    "attributes": {
     "classes": [
      "clear"
     ],
     "id": ""
    }
   },
   "outputs": [],
   "source": [
    "%%sql\n"
   ]
  },
  {
   "cell_type": "markdown",
   "id": "276c58da",
   "metadata": {},
   "source": [
    "Use a subquery:"
   ]
  },
  {
   "cell_type": "code",
   "execution_count": null,
   "id": "1e02f4e5",
   "metadata": {
    "attributes": {
     "classes": [
      "clear"
     ],
     "id": ""
    }
   },
   "outputs": [],
   "source": [
    "%%sql\n"
   ]
  }
 ],
 "metadata": {},
 "nbformat": 4,
 "nbformat_minor": 5
}
