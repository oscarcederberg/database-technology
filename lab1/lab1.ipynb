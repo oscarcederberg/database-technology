{
  "cells": [
    {
      "cell_type": "markdown",
      "id": "9aabd399",
      "metadata": {
        "id": "9aabd399"
      },
      "source": [
        "<!-- # -*- mode: markdown; coding: utf-8; fill-column: 60; org-indent-mode: t; column-number-mode: t; flyspell-mode: t; ispell-local-dictionary: \"en\"; eval: (visual-on); -*- -->\n",
        "\n",
        "<meta charset=\"utf-8\"/>\n",
        "<meta name=\"viewport\" content=\"width=device-width,initial-scale=1\"/>\n",
        "<link rel=\"stylesheet\" href=\"style.css\">\n",
        "\n",
        "\n",
        "# EDAF75 - lab 1: SQL\n",
        "\n",
        "This lab is meant to be run as a `jupyter` notebook, you could download it [here](lab1.zip) (the zip-file contains the notebook and the database, and a [.html-file](lab1.html) which you can read in case you have problems reading/running jupyter notebooks).\n",
        "\n",
        "To start your notebook, you can use the following commands (after you've downloaded [the zip file](lab1.zip) -- observe that the `$` is the shell prompt, you shouldn't type it):"
      ]
    },
    {
      "cell_type": "markdown",
      "id": "637b3836",
      "metadata": {
        "id": "637b3836"
      },
      "source": [
        "```sh\n",
        "$ unzip lab1.zip\n",
        "$ jupyter notebook    # or jupyter lab\n",
        "```\n"
      ]
    },
    {
      "cell_type": "markdown",
      "id": "b31f8c24",
      "metadata": {
        "id": "b31f8c24"
      },
      "source": [
        "This should start jupyter in a browser tab, and there you can click \"lab1.ipynb\".\n",
        "\n",
        "\n",
        "# Background\n",
        "\n",
        "We have a database to handle the academic achievements of students at LTH -- in it we have four tables:\n",
        "\n",
        "<hr>\n",
        "<table rules=\"all\">\n",
        " <tr>\n",
        "  <th align=\"left\"><code>students:</code></th>\n",
        "  <th></th>\n",
        " </tr>\n",
        " <tr>\n",
        "  <td><code>ssn</code></td>\n",
        "  <td>social security number</td>\n",
        " </tr>\n",
        " <tr>\n",
        "  <td><code>first_name</code></td>\n",
        "  <td>first name (obviously!)</td>\n",
        " </tr>\n",
        " <tr>\n",
        "  <td><code>last_name</code></td>\n",
        "  <td>last name</td>\n",
        " </tr>\n",
        "</table>\n",
        "\n",
        "<hr>\n",
        "<table rules=\"all\">\n",
        " <tr>\n",
        "  <th align=\"left\"><code>departments:</code></th>\n",
        "  <th></th>\n",
        " </tr>\n",
        " <tr>\n",
        "  <td><code>department_code</code></td>\n",
        "  <td>unique code for each department</td>\n",
        " </tr>\n",
        " <tr>\n",
        "  <td><code>department_name</code></td>\n",
        "  <td>the name of the department, in Swedish</td>\n",
        " </tr>\n",
        "</table>\n",
        "\n",
        "<hr>\n",
        "<table rules=\"all\">\n",
        " <tr>\n",
        "  <th align=\"left\"><code>courses:</code></th>\n",
        "  <th></th>\n",
        " </tr>\n",
        " <tr>\n",
        "  <td><code>course_code</code></td>\n",
        "  <td>course code, like <code>EDAF75</code></td>\n",
        " </tr>\n",
        " <tr>\n",
        "  <td><code>course_name</code></td>\n",
        "  <td>the name of the course, in Swedish (like \"Databasteknik\")</td>\n",
        " </tr>\n",
        " <tr>\n",
        "  <td><code>department_code</code></td>\n",
        "  <td>the department giving the course</td>\n",
        " </tr>\n",
        " <tr>\n",
        "  <td><code>level</code></td>\n",
        "  <td>the course level, like \"G1\", \"G2\", or \"A\"</td>\n",
        " </tr>\n",
        " <tr>\n",
        "  <td><code>credits</code></td>\n",
        "  <td>the number of credits for the course, like 7.5</td>\n",
        " </tr>\n",
        "</table>\n",
        "\n",
        "<hr>\n",
        "<table rules=\"all\">\n",
        " <tr>\n",
        "  <th align=\"left\"><code>taken_courses:</code></th>\n",
        "  <th></th>\n",
        " </tr>\n",
        " <tr>\n",
        "  <td><code>ssn</code></td>\n",
        "  <td>the social security number of a student</td>\n",
        " </tr>\n",
        " <tr>\n",
        "  <td><code>course_code</code></td>\n",
        "  <td>the course code for the course the student has taken</td>\n",
        " </tr>\n",
        " <tr>\n",
        "  <td><code>grade</code></td>\n",
        "  <td>the grade for the student passing the course</td>\n",
        " </tr>\n",
        "</table>\n",
        "\n",
        "<hr>\n",
        "\n",
        "<center>\n",
        "  <img src=\"https://github.com/oscarcederberg/database-technology/blob/main/lab1/lab1-uml.png?raw=1\">\n",
        "</center>\n",
        "\n",
        "Some sample data:"
      ]
    },
    {
      "cell_type": "markdown",
      "id": "62932e0e",
      "metadata": {
        "id": "62932e0e"
      },
      "source": [
        "```text\n",
        "ssn           first_name   last_name\n",
        "---           ----------   ---------\n",
        "861103–2438   Bo           Ek\n",
        "911212–1746   Eva          Alm\n",
        "950829–1848   Anna         Nyström\n",
        "...           ...          ...\n",
        "\n",
        "department_code  department_name\n",
        "---------------  ----------------------------------------\n",
        "eda              Datavetenskap\n",
        "edi              Informationsteori\n",
        "eem              Elektrisk mätteknik\n",
        "eie              Industriell elektroteknik och automation\n",
        "...              ...\n",
        "\n",
        "course_code  course_name                         department_code  level  credits\n",
        "-----------  ----------------------------------  ---------------  -----  -------\n",
        "ETTN05       Adaptiv signalbehandling            eit              A      7.5\n",
        "FMAN10       Algebraiska strukturer              fma              A      7.5\n",
        "ETIN80       Algoritmer i signalprocessorer...   eit              A      7.5\n",
        "EDAF05       Algoritmer, datastrukturer och...   eda              G2     5.0\n",
        "...          ...                                 ...              ...    ...\n",
        "\n",
        "ssn           course_code   grade\n",
        "---           -----------   -----\n",
        "861103–2438   EDA016        4\n",
        "861103–2438   EDAA01        3\n",
        "911212–1746   EDA016        3\n",
        "...           ...           ...\n",
        "```\n"
      ]
    },
    {
      "cell_type": "markdown",
      "id": "94277573",
      "metadata": {
        "id": "94277573"
      },
      "source": [
        "The tables have been created with the following SQL\n",
        "statements:"
      ]
    },
    {
      "cell_type": "markdown",
      "id": "3ce1751a",
      "metadata": {
        "id": "3ce1751a"
      },
      "source": [
        "```sql\n",
        "CREATE TABLE students (\n",
        "  ssn          CHAR(11),\n",
        "  first_name   TEXT NOT NULL,\n",
        "  last_name    TEXT NOT NULL,\n",
        "  PRIMARY KEY  (ssn)\n",
        ");\n",
        "\n",
        "CREATE TABLE departments (\n",
        "  department_code    TEXT,\n",
        "  department_name    TEXT,\n",
        "  PRIMARY KEY (department_code)\n",
        ");\n",
        "\n",
        "CREATE TABLE courses (\n",
        "  course_code      CHAR(6),\n",
        "  course_name      TEXT NOT NULL,\n",
        "  department_code  TEXT,\n",
        "  level            CHAR(2),\n",
        "  credits          DOUBLE NOT NULL CHECK (credits >= 0),\n",
        "  PRIMARY KEY      (course_code),\n",
        "  FOREIGN KEY      (department_code) REFERENCES departments(department_code)\n",
        ");\n",
        "\n",
        "CREATE TABLE taken_courses (\n",
        "  ssn           CHAR(11),\n",
        "  course_code   CHAR(6),\n",
        "  grade         INTEGER NOT NULL CHECK (grade >= 3 AND grade <= 5),\n",
        "  PRIMARY KEY   (ssn, course_code),\n",
        "  FOREIGN KEY   (ssn) REFERENCES students(ssn),\n",
        "  FOREIGN KEY   (course_code) REFERENCES courses(course_code)\n",
        ");\n",
        "```\n"
      ]
    },
    {
      "cell_type": "markdown",
      "id": "e02782e8",
      "metadata": {
        "id": "e02782e8"
      },
      "source": [
        "All courses offered at the \"Computer Science and Engineering\" program at LTH during the academic year 2013/14 are in the table 'courses`. Also, the database has been filled with made up data. SQL statements like the following have been used to insert the data:"
      ]
    },
    {
      "cell_type": "markdown",
      "id": "de71b97f",
      "metadata": {
        "id": "de71b97f"
      },
      "source": [
        "```sql\n",
        "INTO   students(ssn, first_name, last_name)\n",
        "VALUES ('950705-2308', 'Anna', 'Johansson'),\n",
        "       ('930702-3582', 'Anna', 'Johansson'),\n",
        "       ('911212-1746', 'Eva', 'Alm'),\n",
        "       ('910707-3787', 'Eva', 'Nilsson'),\n",
        "       ...\n",
        "```\n"
      ]
    },
    {
      "cell_type": "markdown",
      "id": "2f000365",
      "metadata": {
        "id": "2f000365"
      },
      "source": [
        "The information about which departments gives which courses is somewhat haphazard (some of the departments in the database no longer exist, and some of them may never have existed).\n",
        "Our database assumes each course is given by a single department, in real life, departments can share courses -- if you want to practice what we're talking about in week 2 and week 3, try to come up with a modification of the database design, which allows departments to share courses (you can ask your TA about it during the lab session).\n",
        "\n",
        "\n",
        "# Assignments\n",
        "\n",
        "To pass this lab, you only need to show your solutions to the problems marked REVIEW below -- that's the only ones we'll be looking at during the lab sessions.\n",
        "You can skip the other problems at your own discretion, but I strongly recommend that you try them out, for practice.\n",
        "\n",
        "As said above, this lab is designed to be run as a jupyter notebook (either using =jupyter lab=, or =jupyter notebook=).\n",
        "If you haven't been able to get =jupyter= up and running on your computer, you can run the sql-commands for the problems below interactively inside =sqlite3=, or as a script file with all your commands, or inside some IDE, like [DB Browser for SQLite](https://sqlitebrowser.org/).\n",
        "\n",
        "If you're running the lab as a notebook (and hopefully you are!), evaluate the following cells before you begin:"
      ]
    },
    {
      "cell_type": "code",
      "execution_count": 10,
      "id": "95ce919f",
      "metadata": {
        "id": "95ce919f",
        "outputId": "4b8317df-f4ca-4c21-cf4b-b5d1473e4850",
        "colab": {
          "base_uri": "https://localhost:8080/"
        }
      },
      "outputs": [
        {
          "output_type": "stream",
          "name": "stdout",
          "text": [
            "The sql extension is already loaded. To reload it, use:\n",
            "  %reload_ext sql\n"
          ]
        }
      ],
      "source": [
        "%load_ext sql"
      ]
    },
    {
      "cell_type": "code",
      "execution_count": 11,
      "id": "cebd7ab3",
      "metadata": {
        "id": "cebd7ab3",
        "outputId": "b1196023-a93f-4101-ef6b-ee80e917ac9e",
        "colab": {
          "base_uri": "https://localhost:8080/",
          "height": 35
        }
      },
      "outputs": [
        {
          "output_type": "execute_result",
          "data": {
            "text/plain": [
              "'Connected: @lab1.sqlite'"
            ],
            "application/vnd.google.colaboratory.intrinsic+json": {
              "type": "string"
            }
          },
          "metadata": {},
          "execution_count": 11
        }
      ],
      "source": [
        "%sql sqlite:///lab1.sqlite"
      ]
    },
    {
      "cell_type": "markdown",
      "id": "6b818832",
      "metadata": {
        "id": "6b818832"
      },
      "source": [
        "The tables `students`, `departments`, `courses` and `taken_courses` are already in your database, you can see some of their contents by running the cells below:"
      ]
    },
    {
      "cell_type": "code",
      "execution_count": 12,
      "id": "75d64375",
      "metadata": {
        "id": "75d64375",
        "outputId": "df5caad4-6327-4c30-9461-447fc66a0ca1",
        "colab": {
          "base_uri": "https://localhost:8080/",
          "height": 162
        }
      },
      "outputs": [
        {
          "output_type": "stream",
          "name": "stdout",
          "text": [
            " * sqlite:///lab1.sqlite\n",
            "Done.\n"
          ]
        },
        {
          "output_type": "execute_result",
          "data": {
            "text/plain": [
              "[('950705-2308', 'Anna', 'Johansson'),\n",
              " ('930702-3582', 'Anna', 'Johansson'),\n",
              " ('911212-1746', 'Eva', 'Alm'),\n",
              " ('910707-3787', 'Eva', 'Nilsson')]"
            ],
            "text/html": [
              "<table>\n",
              "    <thead>\n",
              "        <tr>\n",
              "            <th>ssn</th>\n",
              "            <th>first_name</th>\n",
              "            <th>last_name</th>\n",
              "        </tr>\n",
              "    </thead>\n",
              "    <tbody>\n",
              "        <tr>\n",
              "            <td>950705-2308</td>\n",
              "            <td>Anna</td>\n",
              "            <td>Johansson</td>\n",
              "        </tr>\n",
              "        <tr>\n",
              "            <td>930702-3582</td>\n",
              "            <td>Anna</td>\n",
              "            <td>Johansson</td>\n",
              "        </tr>\n",
              "        <tr>\n",
              "            <td>911212-1746</td>\n",
              "            <td>Eva</td>\n",
              "            <td>Alm</td>\n",
              "        </tr>\n",
              "        <tr>\n",
              "            <td>910707-3787</td>\n",
              "            <td>Eva</td>\n",
              "            <td>Nilsson</td>\n",
              "        </tr>\n",
              "    </tbody>\n",
              "</table>"
            ]
          },
          "metadata": {},
          "execution_count": 12
        }
      ],
      "source": [
        "%%sql\n",
        "SELECT  *\n",
        "FROM    students\n",
        "LIMIT   4"
      ]
    },
    {
      "cell_type": "code",
      "execution_count": 13,
      "id": "73f48884",
      "metadata": {
        "id": "73f48884",
        "outputId": "658a0187-cf2f-44bc-b5e5-9ee7b7676ca7",
        "colab": {
          "base_uri": "https://localhost:8080/",
          "height": 162
        }
      },
      "outputs": [
        {
          "output_type": "stream",
          "name": "stdout",
          "text": [
            " * sqlite:///lab1.sqlite\n",
            "Done.\n"
          ]
        },
        {
          "output_type": "execute_result",
          "data": {
            "text/plain": [
              "[('eda', 'Datavetenskap'),\n",
              " ('edi', 'Informationsteori'),\n",
              " ('eem', 'Elektrisk mätteknik'),\n",
              " ('eie', 'Industriell elektroteknik och automation')]"
            ],
            "text/html": [
              "<table>\n",
              "    <thead>\n",
              "        <tr>\n",
              "            <th>department_code</th>\n",
              "            <th>department_name</th>\n",
              "        </tr>\n",
              "    </thead>\n",
              "    <tbody>\n",
              "        <tr>\n",
              "            <td>eda</td>\n",
              "            <td>Datavetenskap</td>\n",
              "        </tr>\n",
              "        <tr>\n",
              "            <td>edi</td>\n",
              "            <td>Informationsteori</td>\n",
              "        </tr>\n",
              "        <tr>\n",
              "            <td>eem</td>\n",
              "            <td>Elektrisk mätteknik</td>\n",
              "        </tr>\n",
              "        <tr>\n",
              "            <td>eie</td>\n",
              "            <td>Industriell elektroteknik och automation</td>\n",
              "        </tr>\n",
              "    </tbody>\n",
              "</table>"
            ]
          },
          "metadata": {},
          "execution_count": 13
        }
      ],
      "source": [
        "%%sql\n",
        "SELECT  *\n",
        "FROM    departments\n",
        "LIMIT   4"
      ]
    },
    {
      "cell_type": "code",
      "execution_count": 14,
      "id": "a5451069",
      "metadata": {
        "id": "a5451069",
        "outputId": "1f4c22d1-fefe-4fb2-a2d4-f7b4666adf82",
        "colab": {
          "base_uri": "https://localhost:8080/",
          "height": 162
        }
      },
      "outputs": [
        {
          "output_type": "stream",
          "name": "stdout",
          "text": [
            " * sqlite:///lab1.sqlite\n",
            "Done.\n"
          ]
        },
        {
          "output_type": "execute_result",
          "data": {
            "text/plain": [
              "[('EDA016', 'Programmeringsteknik', 'eda', 'G1', 7.5),\n",
              " ('EDA031', 'C++ - programmering', 'eda', 'G2', 7.5),\n",
              " ('EDA040', 'Realtidsprogrammering', 'eda', 'G2', 6.0),\n",
              " ('EDA050', 'Operativsystem', 'eda', 'G2', 4.5)]"
            ],
            "text/html": [
              "<table>\n",
              "    <thead>\n",
              "        <tr>\n",
              "            <th>course_code</th>\n",
              "            <th>course_name</th>\n",
              "            <th>department_code</th>\n",
              "            <th>level</th>\n",
              "            <th>credits</th>\n",
              "        </tr>\n",
              "    </thead>\n",
              "    <tbody>\n",
              "        <tr>\n",
              "            <td>EDA016</td>\n",
              "            <td>Programmeringsteknik</td>\n",
              "            <td>eda</td>\n",
              "            <td>G1</td>\n",
              "            <td>7.5</td>\n",
              "        </tr>\n",
              "        <tr>\n",
              "            <td>EDA031</td>\n",
              "            <td>C++ - programmering</td>\n",
              "            <td>eda</td>\n",
              "            <td>G2</td>\n",
              "            <td>7.5</td>\n",
              "        </tr>\n",
              "        <tr>\n",
              "            <td>EDA040</td>\n",
              "            <td>Realtidsprogrammering</td>\n",
              "            <td>eda</td>\n",
              "            <td>G2</td>\n",
              "            <td>6.0</td>\n",
              "        </tr>\n",
              "        <tr>\n",
              "            <td>EDA050</td>\n",
              "            <td>Operativsystem</td>\n",
              "            <td>eda</td>\n",
              "            <td>G2</td>\n",
              "            <td>4.5</td>\n",
              "        </tr>\n",
              "    </tbody>\n",
              "</table>"
            ]
          },
          "metadata": {},
          "execution_count": 14
        }
      ],
      "source": [
        "%%sql\n",
        "SELECT  *\n",
        "FROM    courses\n",
        "LIMIT   4"
      ]
    },
    {
      "cell_type": "code",
      "execution_count": 15,
      "id": "d7685456",
      "metadata": {
        "id": "d7685456",
        "outputId": "1aede000-8bd5-4750-958d-25486b53ad52",
        "colab": {
          "base_uri": "https://localhost:8080/",
          "height": 162
        }
      },
      "outputs": [
        {
          "output_type": "stream",
          "name": "stdout",
          "text": [
            " * sqlite:///lab1.sqlite\n",
            "Done.\n"
          ]
        },
        {
          "output_type": "execute_result",
          "data": {
            "text/plain": [
              "[('950705-2308', 'EITN35', 5),\n",
              " ('950705-2308', 'ESS050', 3),\n",
              " ('950705-2308', 'ETIN70', 4),\n",
              " ('950705-2308', 'FMA140', 4)]"
            ],
            "text/html": [
              "<table>\n",
              "    <thead>\n",
              "        <tr>\n",
              "            <th>ssn</th>\n",
              "            <th>course_code</th>\n",
              "            <th>grade</th>\n",
              "        </tr>\n",
              "    </thead>\n",
              "    <tbody>\n",
              "        <tr>\n",
              "            <td>950705-2308</td>\n",
              "            <td>EITN35</td>\n",
              "            <td>5</td>\n",
              "        </tr>\n",
              "        <tr>\n",
              "            <td>950705-2308</td>\n",
              "            <td>ESS050</td>\n",
              "            <td>3</td>\n",
              "        </tr>\n",
              "        <tr>\n",
              "            <td>950705-2308</td>\n",
              "            <td>ETIN70</td>\n",
              "            <td>4</td>\n",
              "        </tr>\n",
              "        <tr>\n",
              "            <td>950705-2308</td>\n",
              "            <td>FMA140</td>\n",
              "            <td>4</td>\n",
              "        </tr>\n",
              "    </tbody>\n",
              "</table>"
            ]
          },
          "metadata": {},
          "execution_count": 15
        }
      ],
      "source": [
        "%%sql\n",
        "SELECT  *\n",
        "FROM    taken_courses\n",
        "LIMIT   4"
      ]
    },
    {
      "cell_type": "markdown",
      "id": "96cf6661",
      "metadata": {
        "id": "96cf6661"
      },
      "source": [
        "If you inadvertently change the contents of the tables, you can always recreate the them with the following command (it must be run at the command line):"
      ]
    },
    {
      "cell_type": "markdown",
      "id": "ab0aee21",
      "metadata": {
        "id": "ab0aee21"
      },
      "source": [
        "```sh\n",
        "$ sqlite3 lab1.sqlite < lab1-setup.sql\n",
        "```\n"
      ]
    },
    {
      "cell_type": "markdown",
      "id": "f2d57110",
      "metadata": {
        "id": "f2d57110"
      },
      "source": [
        "--------------------------------\n",
        "Jump to [next REVIEW problem](#problem_5)\n",
        "--------------------------------\n",
        "\n",
        "<a id='problem_1'></a>\n",
        "\n",
        "## Problem 1 (practice)\n",
        "\n",
        "What are the names (first name and last name) of all the students?"
      ]
    },
    {
      "cell_type": "code",
      "execution_count": 16,
      "id": "8a03fba9",
      "metadata": {
        "id": "8a03fba9",
        "outputId": "a6b71069-7dc5-469b-e876-4305c29e5cb0",
        "colab": {
          "base_uri": "https://localhost:8080/",
          "height": 1000
        }
      },
      "outputs": [
        {
          "output_type": "stream",
          "name": "stdout",
          "text": [
            " * sqlite:///lab1.sqlite\n",
            "Done.\n"
          ]
        },
        {
          "output_type": "execute_result",
          "data": {
            "text/plain": [
              "[('Anna', 'Johansson'),\n",
              " ('Anna', 'Johansson'),\n",
              " ('Eva', 'Alm'),\n",
              " ('Eva', 'Nilsson'),\n",
              " ('Elaine', 'Robertson'),\n",
              " ('Maria', 'Nordman'),\n",
              " ('Helena', 'Troberg'),\n",
              " ('Lotta', 'Emanuelsson'),\n",
              " ('Anna', 'Nyström'),\n",
              " ('Maria', 'Andersson'),\n",
              " ('Marie', 'Persson'),\n",
              " ('Märit', 'Aspegren'),\n",
              " ('Ylva', 'Jacobsson'),\n",
              " ('Frida', 'Weidel'),\n",
              " ('Caroline', 'Olsson'),\n",
              " ('Karolin', 'Ek'),\n",
              " ('Eva', 'Hjort'),\n",
              " ('Sofia', 'Kjellberg'),\n",
              " ('Tina', 'Lööf'),\n",
              " ('Lisa', 'Berg'),\n",
              " ('Lotta', 'Bergman'),\n",
              " ('Susanne', 'Dahl'),\n",
              " ('Birgit', 'Ewesson'),\n",
              " ('Ulrika', 'Jonsson'),\n",
              " ('Jenny', 'Lundin'),\n",
              " ('Karin', 'Östberg'),\n",
              " ('Bo', 'Ek'),\n",
              " ('Bo', 'Ek'),\n",
              " ('Bo', 'Ek'),\n",
              " ('Erik', 'Andersson'),\n",
              " ('Erik', 'Andersson'),\n",
              " ('Filip', 'Gustavsson'),\n",
              " ('Niklas', 'Andersson'),\n",
              " ('David', 'Carlsson'),\n",
              " ('Tobias', 'Enberg'),\n",
              " ('Johan', 'Lind'),\n",
              " ('Magnus', 'Pettersson'),\n",
              " ('Filip', 'Persson'),\n",
              " ('Ola', 'Nilsson'),\n",
              " ('Jakob', 'Malmberg'),\n",
              " ('Henrik', 'Berg'),\n",
              " ('John', 'Lind'),\n",
              " ('Patrik', 'Lundh'),\n",
              " ('Mikael', 'Nilsson'),\n",
              " ('Joakim', 'Nilsson'),\n",
              " ('Conny', 'Modig'),\n",
              " ('Christian', 'Wallman'),\n",
              " ('Magnus', 'Strömgren'),\n",
              " ('Daniel', 'Ahlman'),\n",
              " ('Lars', 'Molin'),\n",
              " ('Magnus', 'Nilsson'),\n",
              " ('Anders', 'Olsson'),\n",
              " ('Martin', 'Alm'),\n",
              " ('Håkan', 'Mossgren'),\n",
              " ('Fredrik', 'Ryd'),\n",
              " ('Mats', 'Wikström'),\n",
              " ('Anders', 'Magnusson'),\n",
              " ('Andreas', 'Molin'),\n",
              " ('Johan', 'Brattberg'),\n",
              " ('Johan', 'Olsson'),\n",
              " ('Jonathan', 'Jönsson'),\n",
              " ('Magnus', 'Hultgren'),\n",
              " ('Axel', 'Nord'),\n",
              " ('Henrik', 'Hult'),\n",
              " ('Joakim', 'Hall'),\n",
              " ('Henrik', 'Gustavsson'),\n",
              " ('Torbjörn', 'Modig'),\n",
              " ('Daniel', 'Axelsson'),\n",
              " ('Per-Erik', 'Pettersson'),\n",
              " ('Roger', 'Brorsson'),\n",
              " ('Patrik', 'Ohlsson'),\n",
              " ('Peter', 'Solberg')]"
            ],
            "text/html": [
              "<table>\n",
              "    <thead>\n",
              "        <tr>\n",
              "            <th>name</th>\n",
              "            <th>surname</th>\n",
              "        </tr>\n",
              "    </thead>\n",
              "    <tbody>\n",
              "        <tr>\n",
              "            <td>Anna</td>\n",
              "            <td>Johansson</td>\n",
              "        </tr>\n",
              "        <tr>\n",
              "            <td>Anna</td>\n",
              "            <td>Johansson</td>\n",
              "        </tr>\n",
              "        <tr>\n",
              "            <td>Eva</td>\n",
              "            <td>Alm</td>\n",
              "        </tr>\n",
              "        <tr>\n",
              "            <td>Eva</td>\n",
              "            <td>Nilsson</td>\n",
              "        </tr>\n",
              "        <tr>\n",
              "            <td>Elaine</td>\n",
              "            <td>Robertson</td>\n",
              "        </tr>\n",
              "        <tr>\n",
              "            <td>Maria</td>\n",
              "            <td>Nordman</td>\n",
              "        </tr>\n",
              "        <tr>\n",
              "            <td>Helena</td>\n",
              "            <td>Troberg</td>\n",
              "        </tr>\n",
              "        <tr>\n",
              "            <td>Lotta</td>\n",
              "            <td>Emanuelsson</td>\n",
              "        </tr>\n",
              "        <tr>\n",
              "            <td>Anna</td>\n",
              "            <td>Nyström</td>\n",
              "        </tr>\n",
              "        <tr>\n",
              "            <td>Maria</td>\n",
              "            <td>Andersson</td>\n",
              "        </tr>\n",
              "        <tr>\n",
              "            <td>Marie</td>\n",
              "            <td>Persson</td>\n",
              "        </tr>\n",
              "        <tr>\n",
              "            <td>Märit</td>\n",
              "            <td>Aspegren</td>\n",
              "        </tr>\n",
              "        <tr>\n",
              "            <td>Ylva</td>\n",
              "            <td>Jacobsson</td>\n",
              "        </tr>\n",
              "        <tr>\n",
              "            <td>Frida</td>\n",
              "            <td>Weidel</td>\n",
              "        </tr>\n",
              "        <tr>\n",
              "            <td>Caroline</td>\n",
              "            <td>Olsson</td>\n",
              "        </tr>\n",
              "        <tr>\n",
              "            <td>Karolin</td>\n",
              "            <td>Ek</td>\n",
              "        </tr>\n",
              "        <tr>\n",
              "            <td>Eva</td>\n",
              "            <td>Hjort</td>\n",
              "        </tr>\n",
              "        <tr>\n",
              "            <td>Sofia</td>\n",
              "            <td>Kjellberg</td>\n",
              "        </tr>\n",
              "        <tr>\n",
              "            <td>Tina</td>\n",
              "            <td>Lööf</td>\n",
              "        </tr>\n",
              "        <tr>\n",
              "            <td>Lisa</td>\n",
              "            <td>Berg</td>\n",
              "        </tr>\n",
              "        <tr>\n",
              "            <td>Lotta</td>\n",
              "            <td>Bergman</td>\n",
              "        </tr>\n",
              "        <tr>\n",
              "            <td>Susanne</td>\n",
              "            <td>Dahl</td>\n",
              "        </tr>\n",
              "        <tr>\n",
              "            <td>Birgit</td>\n",
              "            <td>Ewesson</td>\n",
              "        </tr>\n",
              "        <tr>\n",
              "            <td>Ulrika</td>\n",
              "            <td>Jonsson</td>\n",
              "        </tr>\n",
              "        <tr>\n",
              "            <td>Jenny</td>\n",
              "            <td>Lundin</td>\n",
              "        </tr>\n",
              "        <tr>\n",
              "            <td>Karin</td>\n",
              "            <td>Östberg</td>\n",
              "        </tr>\n",
              "        <tr>\n",
              "            <td>Bo</td>\n",
              "            <td>Ek</td>\n",
              "        </tr>\n",
              "        <tr>\n",
              "            <td>Bo</td>\n",
              "            <td>Ek</td>\n",
              "        </tr>\n",
              "        <tr>\n",
              "            <td>Bo</td>\n",
              "            <td>Ek</td>\n",
              "        </tr>\n",
              "        <tr>\n",
              "            <td>Erik</td>\n",
              "            <td>Andersson</td>\n",
              "        </tr>\n",
              "        <tr>\n",
              "            <td>Erik</td>\n",
              "            <td>Andersson</td>\n",
              "        </tr>\n",
              "        <tr>\n",
              "            <td>Filip</td>\n",
              "            <td>Gustavsson</td>\n",
              "        </tr>\n",
              "        <tr>\n",
              "            <td>Niklas</td>\n",
              "            <td>Andersson</td>\n",
              "        </tr>\n",
              "        <tr>\n",
              "            <td>David</td>\n",
              "            <td>Carlsson</td>\n",
              "        </tr>\n",
              "        <tr>\n",
              "            <td>Tobias</td>\n",
              "            <td>Enberg</td>\n",
              "        </tr>\n",
              "        <tr>\n",
              "            <td>Johan</td>\n",
              "            <td>Lind</td>\n",
              "        </tr>\n",
              "        <tr>\n",
              "            <td>Magnus</td>\n",
              "            <td>Pettersson</td>\n",
              "        </tr>\n",
              "        <tr>\n",
              "            <td>Filip</td>\n",
              "            <td>Persson</td>\n",
              "        </tr>\n",
              "        <tr>\n",
              "            <td>Ola</td>\n",
              "            <td>Nilsson</td>\n",
              "        </tr>\n",
              "        <tr>\n",
              "            <td>Jakob</td>\n",
              "            <td>Malmberg</td>\n",
              "        </tr>\n",
              "        <tr>\n",
              "            <td>Henrik</td>\n",
              "            <td>Berg</td>\n",
              "        </tr>\n",
              "        <tr>\n",
              "            <td>John</td>\n",
              "            <td>Lind</td>\n",
              "        </tr>\n",
              "        <tr>\n",
              "            <td>Patrik</td>\n",
              "            <td>Lundh</td>\n",
              "        </tr>\n",
              "        <tr>\n",
              "            <td>Mikael</td>\n",
              "            <td>Nilsson</td>\n",
              "        </tr>\n",
              "        <tr>\n",
              "            <td>Joakim</td>\n",
              "            <td>Nilsson</td>\n",
              "        </tr>\n",
              "        <tr>\n",
              "            <td>Conny</td>\n",
              "            <td>Modig</td>\n",
              "        </tr>\n",
              "        <tr>\n",
              "            <td>Christian</td>\n",
              "            <td>Wallman</td>\n",
              "        </tr>\n",
              "        <tr>\n",
              "            <td>Magnus</td>\n",
              "            <td>Strömgren</td>\n",
              "        </tr>\n",
              "        <tr>\n",
              "            <td>Daniel</td>\n",
              "            <td>Ahlman</td>\n",
              "        </tr>\n",
              "        <tr>\n",
              "            <td>Lars</td>\n",
              "            <td>Molin</td>\n",
              "        </tr>\n",
              "        <tr>\n",
              "            <td>Magnus</td>\n",
              "            <td>Nilsson</td>\n",
              "        </tr>\n",
              "        <tr>\n",
              "            <td>Anders</td>\n",
              "            <td>Olsson</td>\n",
              "        </tr>\n",
              "        <tr>\n",
              "            <td>Martin</td>\n",
              "            <td>Alm</td>\n",
              "        </tr>\n",
              "        <tr>\n",
              "            <td>Håkan</td>\n",
              "            <td>Mossgren</td>\n",
              "        </tr>\n",
              "        <tr>\n",
              "            <td>Fredrik</td>\n",
              "            <td>Ryd</td>\n",
              "        </tr>\n",
              "        <tr>\n",
              "            <td>Mats</td>\n",
              "            <td>Wikström</td>\n",
              "        </tr>\n",
              "        <tr>\n",
              "            <td>Anders</td>\n",
              "            <td>Magnusson</td>\n",
              "        </tr>\n",
              "        <tr>\n",
              "            <td>Andreas</td>\n",
              "            <td>Molin</td>\n",
              "        </tr>\n",
              "        <tr>\n",
              "            <td>Johan</td>\n",
              "            <td>Brattberg</td>\n",
              "        </tr>\n",
              "        <tr>\n",
              "            <td>Johan</td>\n",
              "            <td>Olsson</td>\n",
              "        </tr>\n",
              "        <tr>\n",
              "            <td>Jonathan</td>\n",
              "            <td>Jönsson</td>\n",
              "        </tr>\n",
              "        <tr>\n",
              "            <td>Magnus</td>\n",
              "            <td>Hultgren</td>\n",
              "        </tr>\n",
              "        <tr>\n",
              "            <td>Axel</td>\n",
              "            <td>Nord</td>\n",
              "        </tr>\n",
              "        <tr>\n",
              "            <td>Henrik</td>\n",
              "            <td>Hult</td>\n",
              "        </tr>\n",
              "        <tr>\n",
              "            <td>Joakim</td>\n",
              "            <td>Hall</td>\n",
              "        </tr>\n",
              "        <tr>\n",
              "            <td>Henrik</td>\n",
              "            <td>Gustavsson</td>\n",
              "        </tr>\n",
              "        <tr>\n",
              "            <td>Torbjörn</td>\n",
              "            <td>Modig</td>\n",
              "        </tr>\n",
              "        <tr>\n",
              "            <td>Daniel</td>\n",
              "            <td>Axelsson</td>\n",
              "        </tr>\n",
              "        <tr>\n",
              "            <td>Per-Erik</td>\n",
              "            <td>Pettersson</td>\n",
              "        </tr>\n",
              "        <tr>\n",
              "            <td>Roger</td>\n",
              "            <td>Brorsson</td>\n",
              "        </tr>\n",
              "        <tr>\n",
              "            <td>Patrik</td>\n",
              "            <td>Ohlsson</td>\n",
              "        </tr>\n",
              "        <tr>\n",
              "            <td>Peter</td>\n",
              "            <td>Solberg</td>\n",
              "        </tr>\n",
              "    </tbody>\n",
              "</table>"
            ]
          },
          "metadata": {},
          "execution_count": 16
        }
      ],
      "source": [
        "%%sql\n",
        "SELECT first_name AS name, last_name AS surname\n",
        "FROM students"
      ]
    },
    {
      "cell_type": "markdown",
      "id": "c408eb4a",
      "metadata": {
        "id": "c408eb4a"
      },
      "source": [
        "Now sort the names, first by last name and then by first name:"
      ]
    },
    {
      "cell_type": "code",
      "execution_count": 17,
      "id": "5812456c",
      "metadata": {
        "attributes": {
          "classes": [
            "clear"
          ],
          "id": ""
        },
        "id": "5812456c",
        "outputId": "4dac8e41-cc25-48c8-b3c0-58c646cfe29f",
        "colab": {
          "base_uri": "https://localhost:8080/",
          "height": 1000
        }
      },
      "outputs": [
        {
          "output_type": "stream",
          "name": "stdout",
          "text": [
            " * sqlite:///lab1.sqlite\n",
            "Done.\n"
          ]
        },
        {
          "output_type": "execute_result",
          "data": {
            "text/plain": [
              "[('Daniel', 'Ahlman'),\n",
              " ('Eva', 'Alm'),\n",
              " ('Martin', 'Alm'),\n",
              " ('Erik', 'Andersson'),\n",
              " ('Erik', 'Andersson'),\n",
              " ('Maria', 'Andersson'),\n",
              " ('Niklas', 'Andersson'),\n",
              " ('Märit', 'Aspegren'),\n",
              " ('Daniel', 'Axelsson'),\n",
              " ('Henrik', 'Berg'),\n",
              " ('Lisa', 'Berg'),\n",
              " ('Lotta', 'Bergman'),\n",
              " ('Johan', 'Brattberg'),\n",
              " ('Roger', 'Brorsson'),\n",
              " ('David', 'Carlsson'),\n",
              " ('Susanne', 'Dahl'),\n",
              " ('Bo', 'Ek'),\n",
              " ('Bo', 'Ek'),\n",
              " ('Bo', 'Ek'),\n",
              " ('Karolin', 'Ek'),\n",
              " ('Lotta', 'Emanuelsson'),\n",
              " ('Tobias', 'Enberg'),\n",
              " ('Birgit', 'Ewesson'),\n",
              " ('Filip', 'Gustavsson'),\n",
              " ('Henrik', 'Gustavsson'),\n",
              " ('Joakim', 'Hall'),\n",
              " ('Eva', 'Hjort'),\n",
              " ('Henrik', 'Hult'),\n",
              " ('Magnus', 'Hultgren'),\n",
              " ('Ylva', 'Jacobsson'),\n",
              " ('Anna', 'Johansson'),\n",
              " ('Anna', 'Johansson'),\n",
              " ('Ulrika', 'Jonsson'),\n",
              " ('Jonathan', 'Jönsson'),\n",
              " ('Sofia', 'Kjellberg'),\n",
              " ('Johan', 'Lind'),\n",
              " ('John', 'Lind'),\n",
              " ('Patrik', 'Lundh'),\n",
              " ('Jenny', 'Lundin'),\n",
              " ('Tina', 'Lööf'),\n",
              " ('Anders', 'Magnusson'),\n",
              " ('Jakob', 'Malmberg'),\n",
              " ('Conny', 'Modig'),\n",
              " ('Torbjörn', 'Modig'),\n",
              " ('Andreas', 'Molin'),\n",
              " ('Lars', 'Molin'),\n",
              " ('Håkan', 'Mossgren'),\n",
              " ('Eva', 'Nilsson'),\n",
              " ('Joakim', 'Nilsson'),\n",
              " ('Magnus', 'Nilsson'),\n",
              " ('Mikael', 'Nilsson'),\n",
              " ('Ola', 'Nilsson'),\n",
              " ('Axel', 'Nord'),\n",
              " ('Maria', 'Nordman'),\n",
              " ('Anna', 'Nyström'),\n",
              " ('Patrik', 'Ohlsson'),\n",
              " ('Anders', 'Olsson'),\n",
              " ('Caroline', 'Olsson'),\n",
              " ('Johan', 'Olsson'),\n",
              " ('Filip', 'Persson'),\n",
              " ('Marie', 'Persson'),\n",
              " ('Magnus', 'Pettersson'),\n",
              " ('Per-Erik', 'Pettersson'),\n",
              " ('Elaine', 'Robertson'),\n",
              " ('Fredrik', 'Ryd'),\n",
              " ('Peter', 'Solberg'),\n",
              " ('Magnus', 'Strömgren'),\n",
              " ('Helena', 'Troberg'),\n",
              " ('Christian', 'Wallman'),\n",
              " ('Frida', 'Weidel'),\n",
              " ('Mats', 'Wikström'),\n",
              " ('Karin', 'Östberg')]"
            ],
            "text/html": [
              "<table>\n",
              "    <thead>\n",
              "        <tr>\n",
              "            <th>name</th>\n",
              "            <th>surname</th>\n",
              "        </tr>\n",
              "    </thead>\n",
              "    <tbody>\n",
              "        <tr>\n",
              "            <td>Daniel</td>\n",
              "            <td>Ahlman</td>\n",
              "        </tr>\n",
              "        <tr>\n",
              "            <td>Eva</td>\n",
              "            <td>Alm</td>\n",
              "        </tr>\n",
              "        <tr>\n",
              "            <td>Martin</td>\n",
              "            <td>Alm</td>\n",
              "        </tr>\n",
              "        <tr>\n",
              "            <td>Erik</td>\n",
              "            <td>Andersson</td>\n",
              "        </tr>\n",
              "        <tr>\n",
              "            <td>Erik</td>\n",
              "            <td>Andersson</td>\n",
              "        </tr>\n",
              "        <tr>\n",
              "            <td>Maria</td>\n",
              "            <td>Andersson</td>\n",
              "        </tr>\n",
              "        <tr>\n",
              "            <td>Niklas</td>\n",
              "            <td>Andersson</td>\n",
              "        </tr>\n",
              "        <tr>\n",
              "            <td>Märit</td>\n",
              "            <td>Aspegren</td>\n",
              "        </tr>\n",
              "        <tr>\n",
              "            <td>Daniel</td>\n",
              "            <td>Axelsson</td>\n",
              "        </tr>\n",
              "        <tr>\n",
              "            <td>Henrik</td>\n",
              "            <td>Berg</td>\n",
              "        </tr>\n",
              "        <tr>\n",
              "            <td>Lisa</td>\n",
              "            <td>Berg</td>\n",
              "        </tr>\n",
              "        <tr>\n",
              "            <td>Lotta</td>\n",
              "            <td>Bergman</td>\n",
              "        </tr>\n",
              "        <tr>\n",
              "            <td>Johan</td>\n",
              "            <td>Brattberg</td>\n",
              "        </tr>\n",
              "        <tr>\n",
              "            <td>Roger</td>\n",
              "            <td>Brorsson</td>\n",
              "        </tr>\n",
              "        <tr>\n",
              "            <td>David</td>\n",
              "            <td>Carlsson</td>\n",
              "        </tr>\n",
              "        <tr>\n",
              "            <td>Susanne</td>\n",
              "            <td>Dahl</td>\n",
              "        </tr>\n",
              "        <tr>\n",
              "            <td>Bo</td>\n",
              "            <td>Ek</td>\n",
              "        </tr>\n",
              "        <tr>\n",
              "            <td>Bo</td>\n",
              "            <td>Ek</td>\n",
              "        </tr>\n",
              "        <tr>\n",
              "            <td>Bo</td>\n",
              "            <td>Ek</td>\n",
              "        </tr>\n",
              "        <tr>\n",
              "            <td>Karolin</td>\n",
              "            <td>Ek</td>\n",
              "        </tr>\n",
              "        <tr>\n",
              "            <td>Lotta</td>\n",
              "            <td>Emanuelsson</td>\n",
              "        </tr>\n",
              "        <tr>\n",
              "            <td>Tobias</td>\n",
              "            <td>Enberg</td>\n",
              "        </tr>\n",
              "        <tr>\n",
              "            <td>Birgit</td>\n",
              "            <td>Ewesson</td>\n",
              "        </tr>\n",
              "        <tr>\n",
              "            <td>Filip</td>\n",
              "            <td>Gustavsson</td>\n",
              "        </tr>\n",
              "        <tr>\n",
              "            <td>Henrik</td>\n",
              "            <td>Gustavsson</td>\n",
              "        </tr>\n",
              "        <tr>\n",
              "            <td>Joakim</td>\n",
              "            <td>Hall</td>\n",
              "        </tr>\n",
              "        <tr>\n",
              "            <td>Eva</td>\n",
              "            <td>Hjort</td>\n",
              "        </tr>\n",
              "        <tr>\n",
              "            <td>Henrik</td>\n",
              "            <td>Hult</td>\n",
              "        </tr>\n",
              "        <tr>\n",
              "            <td>Magnus</td>\n",
              "            <td>Hultgren</td>\n",
              "        </tr>\n",
              "        <tr>\n",
              "            <td>Ylva</td>\n",
              "            <td>Jacobsson</td>\n",
              "        </tr>\n",
              "        <tr>\n",
              "            <td>Anna</td>\n",
              "            <td>Johansson</td>\n",
              "        </tr>\n",
              "        <tr>\n",
              "            <td>Anna</td>\n",
              "            <td>Johansson</td>\n",
              "        </tr>\n",
              "        <tr>\n",
              "            <td>Ulrika</td>\n",
              "            <td>Jonsson</td>\n",
              "        </tr>\n",
              "        <tr>\n",
              "            <td>Jonathan</td>\n",
              "            <td>Jönsson</td>\n",
              "        </tr>\n",
              "        <tr>\n",
              "            <td>Sofia</td>\n",
              "            <td>Kjellberg</td>\n",
              "        </tr>\n",
              "        <tr>\n",
              "            <td>Johan</td>\n",
              "            <td>Lind</td>\n",
              "        </tr>\n",
              "        <tr>\n",
              "            <td>John</td>\n",
              "            <td>Lind</td>\n",
              "        </tr>\n",
              "        <tr>\n",
              "            <td>Patrik</td>\n",
              "            <td>Lundh</td>\n",
              "        </tr>\n",
              "        <tr>\n",
              "            <td>Jenny</td>\n",
              "            <td>Lundin</td>\n",
              "        </tr>\n",
              "        <tr>\n",
              "            <td>Tina</td>\n",
              "            <td>Lööf</td>\n",
              "        </tr>\n",
              "        <tr>\n",
              "            <td>Anders</td>\n",
              "            <td>Magnusson</td>\n",
              "        </tr>\n",
              "        <tr>\n",
              "            <td>Jakob</td>\n",
              "            <td>Malmberg</td>\n",
              "        </tr>\n",
              "        <tr>\n",
              "            <td>Conny</td>\n",
              "            <td>Modig</td>\n",
              "        </tr>\n",
              "        <tr>\n",
              "            <td>Torbjörn</td>\n",
              "            <td>Modig</td>\n",
              "        </tr>\n",
              "        <tr>\n",
              "            <td>Andreas</td>\n",
              "            <td>Molin</td>\n",
              "        </tr>\n",
              "        <tr>\n",
              "            <td>Lars</td>\n",
              "            <td>Molin</td>\n",
              "        </tr>\n",
              "        <tr>\n",
              "            <td>Håkan</td>\n",
              "            <td>Mossgren</td>\n",
              "        </tr>\n",
              "        <tr>\n",
              "            <td>Eva</td>\n",
              "            <td>Nilsson</td>\n",
              "        </tr>\n",
              "        <tr>\n",
              "            <td>Joakim</td>\n",
              "            <td>Nilsson</td>\n",
              "        </tr>\n",
              "        <tr>\n",
              "            <td>Magnus</td>\n",
              "            <td>Nilsson</td>\n",
              "        </tr>\n",
              "        <tr>\n",
              "            <td>Mikael</td>\n",
              "            <td>Nilsson</td>\n",
              "        </tr>\n",
              "        <tr>\n",
              "            <td>Ola</td>\n",
              "            <td>Nilsson</td>\n",
              "        </tr>\n",
              "        <tr>\n",
              "            <td>Axel</td>\n",
              "            <td>Nord</td>\n",
              "        </tr>\n",
              "        <tr>\n",
              "            <td>Maria</td>\n",
              "            <td>Nordman</td>\n",
              "        </tr>\n",
              "        <tr>\n",
              "            <td>Anna</td>\n",
              "            <td>Nyström</td>\n",
              "        </tr>\n",
              "        <tr>\n",
              "            <td>Patrik</td>\n",
              "            <td>Ohlsson</td>\n",
              "        </tr>\n",
              "        <tr>\n",
              "            <td>Anders</td>\n",
              "            <td>Olsson</td>\n",
              "        </tr>\n",
              "        <tr>\n",
              "            <td>Caroline</td>\n",
              "            <td>Olsson</td>\n",
              "        </tr>\n",
              "        <tr>\n",
              "            <td>Johan</td>\n",
              "            <td>Olsson</td>\n",
              "        </tr>\n",
              "        <tr>\n",
              "            <td>Filip</td>\n",
              "            <td>Persson</td>\n",
              "        </tr>\n",
              "        <tr>\n",
              "            <td>Marie</td>\n",
              "            <td>Persson</td>\n",
              "        </tr>\n",
              "        <tr>\n",
              "            <td>Magnus</td>\n",
              "            <td>Pettersson</td>\n",
              "        </tr>\n",
              "        <tr>\n",
              "            <td>Per-Erik</td>\n",
              "            <td>Pettersson</td>\n",
              "        </tr>\n",
              "        <tr>\n",
              "            <td>Elaine</td>\n",
              "            <td>Robertson</td>\n",
              "        </tr>\n",
              "        <tr>\n",
              "            <td>Fredrik</td>\n",
              "            <td>Ryd</td>\n",
              "        </tr>\n",
              "        <tr>\n",
              "            <td>Peter</td>\n",
              "            <td>Solberg</td>\n",
              "        </tr>\n",
              "        <tr>\n",
              "            <td>Magnus</td>\n",
              "            <td>Strömgren</td>\n",
              "        </tr>\n",
              "        <tr>\n",
              "            <td>Helena</td>\n",
              "            <td>Troberg</td>\n",
              "        </tr>\n",
              "        <tr>\n",
              "            <td>Christian</td>\n",
              "            <td>Wallman</td>\n",
              "        </tr>\n",
              "        <tr>\n",
              "            <td>Frida</td>\n",
              "            <td>Weidel</td>\n",
              "        </tr>\n",
              "        <tr>\n",
              "            <td>Mats</td>\n",
              "            <td>Wikström</td>\n",
              "        </tr>\n",
              "        <tr>\n",
              "            <td>Karin</td>\n",
              "            <td>Östberg</td>\n",
              "        </tr>\n",
              "    </tbody>\n",
              "</table>"
            ]
          },
          "metadata": {},
          "execution_count": 17
        }
      ],
      "source": [
        "%%sql\n",
        "SELECT first_name AS name, last_name AS surname\n",
        "FROM students\n",
        "ORDER BY last_name, first_name"
      ]
    },
    {
      "cell_type": "markdown",
      "id": "29c7ee70",
      "metadata": {
        "id": "29c7ee70"
      },
      "source": [
        "When you get it to work, experiment by listing only the 10 first students (alphabetically), then try to list only students 11-20, etc.:"
      ]
    },
    {
      "cell_type": "code",
      "execution_count": 24,
      "id": "0aa202a1",
      "metadata": {
        "attributes": {
          "classes": [
            "clear"
          ],
          "id": ""
        },
        "id": "0aa202a1",
        "outputId": "cd2c65ab-d9c5-4795-d18b-0ee23a710256",
        "colab": {
          "base_uri": "https://localhost:8080/",
          "height": 290
        }
      },
      "outputs": [
        {
          "output_type": "stream",
          "name": "stdout",
          "text": [
            " * sqlite:///lab1.sqlite\n",
            "Done.\n"
          ]
        },
        {
          "output_type": "execute_result",
          "data": {
            "text/plain": [
              "[('Lisa', 'Berg'),\n",
              " ('Lotta', 'Bergman'),\n",
              " ('Johan', 'Brattberg'),\n",
              " ('Roger', 'Brorsson'),\n",
              " ('David', 'Carlsson'),\n",
              " ('Susanne', 'Dahl'),\n",
              " ('Bo', 'Ek'),\n",
              " ('Bo', 'Ek'),\n",
              " ('Bo', 'Ek'),\n",
              " ('Karolin', 'Ek')]"
            ],
            "text/html": [
              "<table>\n",
              "    <thead>\n",
              "        <tr>\n",
              "            <th>name</th>\n",
              "            <th>surname</th>\n",
              "        </tr>\n",
              "    </thead>\n",
              "    <tbody>\n",
              "        <tr>\n",
              "            <td>Lisa</td>\n",
              "            <td>Berg</td>\n",
              "        </tr>\n",
              "        <tr>\n",
              "            <td>Lotta</td>\n",
              "            <td>Bergman</td>\n",
              "        </tr>\n",
              "        <tr>\n",
              "            <td>Johan</td>\n",
              "            <td>Brattberg</td>\n",
              "        </tr>\n",
              "        <tr>\n",
              "            <td>Roger</td>\n",
              "            <td>Brorsson</td>\n",
              "        </tr>\n",
              "        <tr>\n",
              "            <td>David</td>\n",
              "            <td>Carlsson</td>\n",
              "        </tr>\n",
              "        <tr>\n",
              "            <td>Susanne</td>\n",
              "            <td>Dahl</td>\n",
              "        </tr>\n",
              "        <tr>\n",
              "            <td>Bo</td>\n",
              "            <td>Ek</td>\n",
              "        </tr>\n",
              "        <tr>\n",
              "            <td>Bo</td>\n",
              "            <td>Ek</td>\n",
              "        </tr>\n",
              "        <tr>\n",
              "            <td>Bo</td>\n",
              "            <td>Ek</td>\n",
              "        </tr>\n",
              "        <tr>\n",
              "            <td>Karolin</td>\n",
              "            <td>Ek</td>\n",
              "        </tr>\n",
              "    </tbody>\n",
              "</table>"
            ]
          },
          "metadata": {},
          "execution_count": 24
        }
      ],
      "source": [
        "%%sql\n",
        "SELECT    first_name AS name, last_name AS surname\n",
        "FROM      students\n",
        "ORDER BY  last_name, first_name\n",
        "LIMIT     10\n",
        "OFFSET    10"
      ]
    },
    {
      "cell_type": "markdown",
      "id": "b591b9b9",
      "metadata": {
        "id": "b591b9b9"
      },
      "source": [
        "<a id='problem_2'></a>\n",
        "\n",
        "## Problem 2 (practice)\n",
        "\n",
        "What are the names of the students who were born in 1985?"
      ]
    },
    {
      "cell_type": "code",
      "execution_count": 41,
      "id": "68ae4a32",
      "metadata": {
        "attributes": {
          "classes": [
            "clear"
          ],
          "id": ""
        },
        "id": "68ae4a32",
        "outputId": "0aa2e86b-06db-4520-86cd-ed7d9ffc5b5d",
        "colab": {
          "base_uri": "https://localhost:8080/",
          "height": 162
        }
      },
      "outputs": [
        {
          "output_type": "stream",
          "name": "stdout",
          "text": [
            " * sqlite:///lab1.sqlite\n",
            "Done.\n"
          ]
        },
        {
          "output_type": "execute_result",
          "data": {
            "text/plain": [
              "[('Henrik', 'Berg'), ('Bo', 'Ek'), ('Ulrika', 'Jonsson'), ('Filip', 'Persson')]"
            ],
            "text/html": [
              "<table>\n",
              "    <thead>\n",
              "        <tr>\n",
              "            <th>name</th>\n",
              "            <th>surname</th>\n",
              "        </tr>\n",
              "    </thead>\n",
              "    <tbody>\n",
              "        <tr>\n",
              "            <td>Henrik</td>\n",
              "            <td>Berg</td>\n",
              "        </tr>\n",
              "        <tr>\n",
              "            <td>Bo</td>\n",
              "            <td>Ek</td>\n",
              "        </tr>\n",
              "        <tr>\n",
              "            <td>Ulrika</td>\n",
              "            <td>Jonsson</td>\n",
              "        </tr>\n",
              "        <tr>\n",
              "            <td>Filip</td>\n",
              "            <td>Persson</td>\n",
              "        </tr>\n",
              "    </tbody>\n",
              "</table>"
            ]
          },
          "metadata": {},
          "execution_count": 41
        }
      ],
      "source": [
        "%%sql\n",
        "SELECT    first_name AS name, last_name AS surname\n",
        "FROM      students\n",
        "WHERE     substr(ssn, 1, 2) = '85'\n",
        "ORDER     BY last_name, first_name"
      ]
    },
    {
      "cell_type": "markdown",
      "id": "878aa427",
      "metadata": {
        "id": "878aa427"
      },
      "source": [
        "Hint: the `substr` function can be useful (it also goes by the name `substring`).\n",
        "\n",
        "\n",
        "<a id='problem_3'></a>\n",
        "\n",
        "## Problem 3 (practice)\n",
        "\n",
        "The penultimate digit in the social security number is even for females, and odd for males.\n",
        "List the first names of all female students in our database alphabetically."
      ]
    },
    {
      "cell_type": "code",
      "execution_count": 43,
      "id": "8191d501",
      "metadata": {
        "attributes": {
          "classes": [
            "clear"
          ],
          "id": ""
        },
        "id": "8191d501",
        "outputId": "d6afe1cb-44c9-42f6-8a0f-190072c7725b",
        "colab": {
          "base_uri": "https://localhost:8080/",
          "height": 632
        }
      },
      "outputs": [
        {
          "output_type": "stream",
          "name": "stdout",
          "text": [
            " * sqlite:///lab1.sqlite\n",
            "Done.\n"
          ]
        },
        {
          "output_type": "execute_result",
          "data": {
            "text/plain": [
              "[('Anna',),\n",
              " ('Anna',),\n",
              " ('Anna',),\n",
              " ('Birgit',),\n",
              " ('Caroline',),\n",
              " ('Elaine',),\n",
              " ('Eva',),\n",
              " ('Eva',),\n",
              " ('Eva',),\n",
              " ('Frida',),\n",
              " ('Helena',),\n",
              " ('Jenny',),\n",
              " ('Karin',),\n",
              " ('Karolin',),\n",
              " ('Lisa',),\n",
              " ('Lotta',),\n",
              " ('Lotta',),\n",
              " ('Maria',),\n",
              " ('Maria',),\n",
              " ('Marie',),\n",
              " ('Märit',),\n",
              " ('Sofia',),\n",
              " ('Susanne',),\n",
              " ('Tina',),\n",
              " ('Ulrika',),\n",
              " ('Ylva',)]"
            ],
            "text/html": [
              "<table>\n",
              "    <thead>\n",
              "        <tr>\n",
              "            <th>name</th>\n",
              "        </tr>\n",
              "    </thead>\n",
              "    <tbody>\n",
              "        <tr>\n",
              "            <td>Anna</td>\n",
              "        </tr>\n",
              "        <tr>\n",
              "            <td>Anna</td>\n",
              "        </tr>\n",
              "        <tr>\n",
              "            <td>Anna</td>\n",
              "        </tr>\n",
              "        <tr>\n",
              "            <td>Birgit</td>\n",
              "        </tr>\n",
              "        <tr>\n",
              "            <td>Caroline</td>\n",
              "        </tr>\n",
              "        <tr>\n",
              "            <td>Elaine</td>\n",
              "        </tr>\n",
              "        <tr>\n",
              "            <td>Eva</td>\n",
              "        </tr>\n",
              "        <tr>\n",
              "            <td>Eva</td>\n",
              "        </tr>\n",
              "        <tr>\n",
              "            <td>Eva</td>\n",
              "        </tr>\n",
              "        <tr>\n",
              "            <td>Frida</td>\n",
              "        </tr>\n",
              "        <tr>\n",
              "            <td>Helena</td>\n",
              "        </tr>\n",
              "        <tr>\n",
              "            <td>Jenny</td>\n",
              "        </tr>\n",
              "        <tr>\n",
              "            <td>Karin</td>\n",
              "        </tr>\n",
              "        <tr>\n",
              "            <td>Karolin</td>\n",
              "        </tr>\n",
              "        <tr>\n",
              "            <td>Lisa</td>\n",
              "        </tr>\n",
              "        <tr>\n",
              "            <td>Lotta</td>\n",
              "        </tr>\n",
              "        <tr>\n",
              "            <td>Lotta</td>\n",
              "        </tr>\n",
              "        <tr>\n",
              "            <td>Maria</td>\n",
              "        </tr>\n",
              "        <tr>\n",
              "            <td>Maria</td>\n",
              "        </tr>\n",
              "        <tr>\n",
              "            <td>Marie</td>\n",
              "        </tr>\n",
              "        <tr>\n",
              "            <td>Märit</td>\n",
              "        </tr>\n",
              "        <tr>\n",
              "            <td>Sofia</td>\n",
              "        </tr>\n",
              "        <tr>\n",
              "            <td>Susanne</td>\n",
              "        </tr>\n",
              "        <tr>\n",
              "            <td>Tina</td>\n",
              "        </tr>\n",
              "        <tr>\n",
              "            <td>Ulrika</td>\n",
              "        </tr>\n",
              "        <tr>\n",
              "            <td>Ylva</td>\n",
              "        </tr>\n",
              "    </tbody>\n",
              "</table>"
            ]
          },
          "metadata": {},
          "execution_count": 43
        }
      ],
      "source": [
        "%%sql\n",
        "SELECT    first_name AS name\n",
        "FROM      students\n",
        "WHERE     CAST(substr(ssn, 10, 1) as decimal) % 2 = 0\n",
        "ORDER     BY first_name"
      ]
    },
    {
      "cell_type": "markdown",
      "id": "f6268349",
      "metadata": {
        "id": "f6268349"
      },
      "source": [
        "Now try to output each name only once (so, no duplicates)."
      ]
    },
    {
      "cell_type": "code",
      "execution_count": 44,
      "id": "2fced45c",
      "metadata": {
        "attributes": {
          "classes": [
            "clear"
          ],
          "id": ""
        },
        "id": "2fced45c",
        "outputId": "aefe22a0-16d3-4a56-9c12-21fb9c8fc914",
        "colab": {
          "base_uri": "https://localhost:8080/",
          "height": 503
        }
      },
      "outputs": [
        {
          "output_type": "stream",
          "name": "stdout",
          "text": [
            " * sqlite:///lab1.sqlite\n",
            "Done.\n"
          ]
        },
        {
          "output_type": "execute_result",
          "data": {
            "text/plain": [
              "[('Anna',),\n",
              " ('Birgit',),\n",
              " ('Caroline',),\n",
              " ('Elaine',),\n",
              " ('Eva',),\n",
              " ('Frida',),\n",
              " ('Helena',),\n",
              " ('Jenny',),\n",
              " ('Karin',),\n",
              " ('Karolin',),\n",
              " ('Lisa',),\n",
              " ('Lotta',),\n",
              " ('Maria',),\n",
              " ('Marie',),\n",
              " ('Märit',),\n",
              " ('Sofia',),\n",
              " ('Susanne',),\n",
              " ('Tina',),\n",
              " ('Ulrika',),\n",
              " ('Ylva',)]"
            ],
            "text/html": [
              "<table>\n",
              "    <thead>\n",
              "        <tr>\n",
              "            <th>name</th>\n",
              "        </tr>\n",
              "    </thead>\n",
              "    <tbody>\n",
              "        <tr>\n",
              "            <td>Anna</td>\n",
              "        </tr>\n",
              "        <tr>\n",
              "            <td>Birgit</td>\n",
              "        </tr>\n",
              "        <tr>\n",
              "            <td>Caroline</td>\n",
              "        </tr>\n",
              "        <tr>\n",
              "            <td>Elaine</td>\n",
              "        </tr>\n",
              "        <tr>\n",
              "            <td>Eva</td>\n",
              "        </tr>\n",
              "        <tr>\n",
              "            <td>Frida</td>\n",
              "        </tr>\n",
              "        <tr>\n",
              "            <td>Helena</td>\n",
              "        </tr>\n",
              "        <tr>\n",
              "            <td>Jenny</td>\n",
              "        </tr>\n",
              "        <tr>\n",
              "            <td>Karin</td>\n",
              "        </tr>\n",
              "        <tr>\n",
              "            <td>Karolin</td>\n",
              "        </tr>\n",
              "        <tr>\n",
              "            <td>Lisa</td>\n",
              "        </tr>\n",
              "        <tr>\n",
              "            <td>Lotta</td>\n",
              "        </tr>\n",
              "        <tr>\n",
              "            <td>Maria</td>\n",
              "        </tr>\n",
              "        <tr>\n",
              "            <td>Marie</td>\n",
              "        </tr>\n",
              "        <tr>\n",
              "            <td>Märit</td>\n",
              "        </tr>\n",
              "        <tr>\n",
              "            <td>Sofia</td>\n",
              "        </tr>\n",
              "        <tr>\n",
              "            <td>Susanne</td>\n",
              "        </tr>\n",
              "        <tr>\n",
              "            <td>Tina</td>\n",
              "        </tr>\n",
              "        <tr>\n",
              "            <td>Ulrika</td>\n",
              "        </tr>\n",
              "        <tr>\n",
              "            <td>Ylva</td>\n",
              "        </tr>\n",
              "    </tbody>\n",
              "</table>"
            ]
          },
          "metadata": {},
          "execution_count": 44
        }
      ],
      "source": [
        "%%sql\n",
        "SELECT    DISTINCT first_name AS name\n",
        "FROM      students\n",
        "WHERE     CAST(substr(ssn, 10, 1) as decimal) % 2 = 0\n",
        "ORDER     BY first_name"
      ]
    },
    {
      "cell_type": "markdown",
      "id": "f436b716",
      "metadata": {
        "id": "f436b716"
      },
      "source": [
        "<a id='problem_4'></a>\n",
        "\n",
        "## Problem 4 (practice)\n",
        "\n",
        "How many students are registered in the database?"
      ]
    },
    {
      "cell_type": "code",
      "execution_count": 45,
      "id": "cf7af790",
      "metadata": {
        "attributes": {
          "classes": [
            "clear"
          ],
          "id": ""
        },
        "id": "cf7af790",
        "outputId": "cf60e894-a68b-4b8b-c438-5988102af2b6",
        "colab": {
          "base_uri": "https://localhost:8080/",
          "height": 97
        }
      },
      "outputs": [
        {
          "output_type": "stream",
          "name": "stdout",
          "text": [
            " * sqlite:///lab1.sqlite\n",
            "Done.\n"
          ]
        },
        {
          "output_type": "execute_result",
          "data": {
            "text/plain": [
              "[(72,)]"
            ],
            "text/html": [
              "<table>\n",
              "    <thead>\n",
              "        <tr>\n",
              "            <th>count()</th>\n",
              "        </tr>\n",
              "    </thead>\n",
              "    <tbody>\n",
              "        <tr>\n",
              "            <td>72</td>\n",
              "        </tr>\n",
              "    </tbody>\n",
              "</table>"
            ]
          },
          "metadata": {},
          "execution_count": 45
        }
      ],
      "source": [
        "%%sql\n",
        "SELECT    count()\n",
        "FROM      students"
      ]
    },
    {
      "cell_type": "markdown",
      "id": "01169d61",
      "metadata": {
        "id": "01169d61"
      },
      "source": [
        "How many male students are there?"
      ]
    },
    {
      "cell_type": "code",
      "execution_count": 46,
      "id": "4b683c32",
      "metadata": {
        "attributes": {
          "classes": [
            "clear"
          ],
          "id": ""
        },
        "id": "4b683c32",
        "outputId": "25104e11-80ae-4dc5-f8c4-125e75712b4c",
        "colab": {
          "base_uri": "https://localhost:8080/",
          "height": 97
        }
      },
      "outputs": [
        {
          "output_type": "stream",
          "name": "stdout",
          "text": [
            " * sqlite:///lab1.sqlite\n",
            "Done.\n"
          ]
        },
        {
          "output_type": "execute_result",
          "data": {
            "text/plain": [
              "[(46,)]"
            ],
            "text/html": [
              "<table>\n",
              "    <thead>\n",
              "        <tr>\n",
              "            <th>count()</th>\n",
              "        </tr>\n",
              "    </thead>\n",
              "    <tbody>\n",
              "        <tr>\n",
              "            <td>46</td>\n",
              "        </tr>\n",
              "    </tbody>\n",
              "</table>"
            ]
          },
          "metadata": {},
          "execution_count": 46
        }
      ],
      "source": [
        "%%sql\n",
        "SELECT    count()\n",
        "FROM      students\n",
        "WHERE     CAST(substr(ssn, 10, 1) as decimal) % 2 != 0"
      ]
    },
    {
      "cell_type": "markdown",
      "id": "6709cc20",
      "metadata": {
        "id": "6709cc20"
      },
      "source": [
        "Now try to output the number of distinct names in the listing of female students above, using `count`.\n",
        "It turns out that this is a bit tricky, we need to make sure we use the word `DISTINCT` in the right place (look carefully in the [documentation](https://sqlite.org/lang_aggfunc.html))."
      ]
    },
    {
      "cell_type": "code",
      "execution_count": 53,
      "id": "4e313e1e",
      "metadata": {
        "attributes": {
          "classes": [
            "clear"
          ],
          "id": ""
        },
        "id": "4e313e1e",
        "outputId": "975151d3-c99c-4dec-cc6c-c5394f504487",
        "colab": {
          "base_uri": "https://localhost:8080/",
          "height": 97
        }
      },
      "outputs": [
        {
          "output_type": "stream",
          "name": "stdout",
          "text": [
            " * sqlite:///lab1.sqlite\n",
            "Done.\n"
          ]
        },
        {
          "output_type": "execute_result",
          "data": {
            "text/plain": [
              "[(20,)]"
            ],
            "text/html": [
              "<table>\n",
              "    <thead>\n",
              "        <tr>\n",
              "            <th>count</th>\n",
              "        </tr>\n",
              "    </thead>\n",
              "    <tbody>\n",
              "        <tr>\n",
              "            <td>20</td>\n",
              "        </tr>\n",
              "    </tbody>\n",
              "</table>"
            ]
          },
          "metadata": {},
          "execution_count": 53
        }
      ],
      "source": [
        "%%sql\n",
        "SELECT    count(DISTINCT first_name) as count\n",
        "FROM      students\n",
        "WHERE     CAST(substr(ssn, 10, 1) as decimal) % 2 = 0"
      ]
    },
    {
      "cell_type": "markdown",
      "id": "30e3df12",
      "metadata": {
        "id": "30e3df12"
      },
      "source": [
        "<a id='problem_5'></a>\n",
        "\n",
        "## Problem 5 -- REVIEW\n",
        "\n",
        "How many courses are there for each level (`G1`, `G2`, and `A`)?"
      ]
    },
    {
      "cell_type": "code",
      "execution_count": 59,
      "id": "895d03ec",
      "metadata": {
        "attributes": {
          "classes": [
            "clear"
          ],
          "id": ""
        },
        "id": "895d03ec",
        "outputId": "24c5a6b3-1318-4704-9ba2-fec5cda1367c",
        "colab": {
          "base_uri": "https://localhost:8080/",
          "height": 140
        }
      },
      "outputs": [
        {
          "output_type": "stream",
          "name": "stdout",
          "text": [
            " * sqlite:///lab1.sqlite\n",
            "Done.\n"
          ]
        },
        {
          "output_type": "execute_result",
          "data": {
            "text/plain": [
              "[('A', 87), ('G1', 31), ('G2', 60)]"
            ],
            "text/html": [
              "<table>\n",
              "    <thead>\n",
              "        <tr>\n",
              "            <th>level</th>\n",
              "            <th>count()</th>\n",
              "        </tr>\n",
              "    </thead>\n",
              "    <tbody>\n",
              "        <tr>\n",
              "            <td>A</td>\n",
              "            <td>87</td>\n",
              "        </tr>\n",
              "        <tr>\n",
              "            <td>G1</td>\n",
              "            <td>31</td>\n",
              "        </tr>\n",
              "        <tr>\n",
              "            <td>G2</td>\n",
              "            <td>60</td>\n",
              "        </tr>\n",
              "    </tbody>\n",
              "</table>"
            ]
          },
          "metadata": {},
          "execution_count": 59
        }
      ],
      "source": [
        "%%sql\n",
        "SELECT level, count()\n",
        "FROM courses\n",
        "GROUP BY level"
      ]
    },
    {
      "cell_type": "markdown",
      "id": "70eef6a5",
      "metadata": {
        "id": "70eef6a5"
      },
      "source": [
        "For each level, how many courses give more than 7.5 HP?"
      ]
    },
    {
      "cell_type": "code",
      "execution_count": 60,
      "id": "ee41f6d9",
      "metadata": {
        "attributes": {
          "classes": [
            "clear"
          ],
          "id": ""
        },
        "id": "ee41f6d9",
        "outputId": "ee985504-bb2f-40e8-c6e8-32835c33389f",
        "colab": {
          "base_uri": "https://localhost:8080/",
          "height": 140
        }
      },
      "outputs": [
        {
          "output_type": "stream",
          "name": "stdout",
          "text": [
            " * sqlite:///lab1.sqlite\n",
            "Done.\n"
          ]
        },
        {
          "output_type": "execute_result",
          "data": {
            "text/plain": [
              "[('A', 3), ('G1', 6), ('G2', 7)]"
            ],
            "text/html": [
              "<table>\n",
              "    <thead>\n",
              "        <tr>\n",
              "            <th>level</th>\n",
              "            <th>count()</th>\n",
              "        </tr>\n",
              "    </thead>\n",
              "    <tbody>\n",
              "        <tr>\n",
              "            <td>A</td>\n",
              "            <td>3</td>\n",
              "        </tr>\n",
              "        <tr>\n",
              "            <td>G1</td>\n",
              "            <td>6</td>\n",
              "        </tr>\n",
              "        <tr>\n",
              "            <td>G2</td>\n",
              "            <td>7</td>\n",
              "        </tr>\n",
              "    </tbody>\n",
              "</table>"
            ]
          },
          "metadata": {},
          "execution_count": 60
        }
      ],
      "source": [
        "%%sql\n",
        "SELECT level, count()\n",
        "FROM courses\n",
        "WHERE credits > 7.5\n",
        "GROUP BY level"
      ]
    },
    {
      "cell_type": "markdown",
      "id": "b5a9c133",
      "metadata": {
        "id": "b5a9c133"
      },
      "source": [
        "Jump to [next REVIEW problem](#problem_7)\n",
        "\n",
        "<a id='problem_6'></a>\n",
        "\n",
        "## Problem 6 (practice)\n",
        "\n",
        "In the next few queries, we'll look at the results of the student with the social security number 910101-1234 -- to make things _a lot_ easier, start by creating a `VIEW` with all his results."
      ]
    },
    {
      "cell_type": "code",
      "execution_count": 90,
      "id": "1bc219a5",
      "metadata": {
        "attributes": {
          "classes": [
            "clear"
          ],
          "id": ""
        },
        "id": "1bc219a5",
        "outputId": "80048ba4-a599-4c7d-ed72-bd575838df98",
        "colab": {
          "base_uri": "https://localhost:8080/"
        }
      },
      "outputs": [
        {
          "output_type": "stream",
          "name": "stdout",
          "text": [
            " * sqlite:///lab1.sqlite\n",
            "Done.\n",
            "Done.\n"
          ]
        },
        {
          "output_type": "execute_result",
          "data": {
            "text/plain": [
              "[]"
            ]
          },
          "metadata": {},
          "execution_count": 90
        }
      ],
      "source": [
        "%%sql\n",
        "DROP VIEW IF EXISTS a_student;\n",
        "CREATE VIEW a_student AS\n",
        "  SELECT course_code, grade, credits\n",
        "  FROM taken_courses\n",
        "  JOIN courses \n",
        "  USING (course_code)\n",
        "  WHERE ssn = '910101-1234'"
      ]
    },
    {
      "cell_type": "markdown",
      "id": "1c9c38f9",
      "metadata": {
        "id": "1c9c38f9"
      },
      "source": [
        "Make sure the view contains all data pertinent to the student in question (it will make the following queries very simple).\n",
        "\n",
        "Which courses (course codes only) have been taken by the student?"
      ]
    },
    {
      "cell_type": "code",
      "execution_count": 92,
      "id": "40a62f94",
      "metadata": {
        "attributes": {
          "classes": [
            "clear"
          ],
          "id": ""
        },
        "id": "40a62f94",
        "outputId": "725a92b2-a24b-4bdb-c3d0-1955052334e4",
        "colab": {
          "base_uri": "https://localhost:8080/",
          "height": 824
        }
      },
      "outputs": [
        {
          "output_type": "stream",
          "name": "stdout",
          "text": [
            " * sqlite:///lab1.sqlite\n",
            "Done.\n"
          ]
        },
        {
          "output_type": "execute_result",
          "data": {
            "text/plain": [
              "[('EDA070',),\n",
              " ('EDA385',),\n",
              " ('EDAA25',),\n",
              " ('EDAF05',),\n",
              " ('EEMN10',),\n",
              " ('EIT020',),\n",
              " ('EIT060',),\n",
              " ('EITF40',),\n",
              " ('EITN40',),\n",
              " ('EITN50',),\n",
              " ('ESS050',),\n",
              " ('ETIF10',),\n",
              " ('ETIF15',),\n",
              " ('ETIN35',),\n",
              " ('ETS052',),\n",
              " ('ETS075',),\n",
              " ('ETS200',),\n",
              " ('ETSA01',),\n",
              " ('EXTA10',),\n",
              " ('EXTA35',),\n",
              " ('FAFF20',),\n",
              " ('FAFF25',),\n",
              " ('FMA145',),\n",
              " ('FMA420',),\n",
              " ('FMAA01',),\n",
              " ('FMAF05',),\n",
              " ('FMS012',),\n",
              " ('FMSF15',),\n",
              " ('FMSN30',),\n",
              " ('FMSN35',),\n",
              " ('FRTN10',),\n",
              " ('GEMA45',),\n",
              " ('GEMA70',),\n",
              " ('MAMF15',),\n",
              " ('TEK210',)]"
            ],
            "text/html": [
              "<table>\n",
              "    <thead>\n",
              "        <tr>\n",
              "            <th>course_code</th>\n",
              "        </tr>\n",
              "    </thead>\n",
              "    <tbody>\n",
              "        <tr>\n",
              "            <td>EDA070</td>\n",
              "        </tr>\n",
              "        <tr>\n",
              "            <td>EDA385</td>\n",
              "        </tr>\n",
              "        <tr>\n",
              "            <td>EDAA25</td>\n",
              "        </tr>\n",
              "        <tr>\n",
              "            <td>EDAF05</td>\n",
              "        </tr>\n",
              "        <tr>\n",
              "            <td>EEMN10</td>\n",
              "        </tr>\n",
              "        <tr>\n",
              "            <td>EIT020</td>\n",
              "        </tr>\n",
              "        <tr>\n",
              "            <td>EIT060</td>\n",
              "        </tr>\n",
              "        <tr>\n",
              "            <td>EITF40</td>\n",
              "        </tr>\n",
              "        <tr>\n",
              "            <td>EITN40</td>\n",
              "        </tr>\n",
              "        <tr>\n",
              "            <td>EITN50</td>\n",
              "        </tr>\n",
              "        <tr>\n",
              "            <td>ESS050</td>\n",
              "        </tr>\n",
              "        <tr>\n",
              "            <td>ETIF10</td>\n",
              "        </tr>\n",
              "        <tr>\n",
              "            <td>ETIF15</td>\n",
              "        </tr>\n",
              "        <tr>\n",
              "            <td>ETIN35</td>\n",
              "        </tr>\n",
              "        <tr>\n",
              "            <td>ETS052</td>\n",
              "        </tr>\n",
              "        <tr>\n",
              "            <td>ETS075</td>\n",
              "        </tr>\n",
              "        <tr>\n",
              "            <td>ETS200</td>\n",
              "        </tr>\n",
              "        <tr>\n",
              "            <td>ETSA01</td>\n",
              "        </tr>\n",
              "        <tr>\n",
              "            <td>EXTA10</td>\n",
              "        </tr>\n",
              "        <tr>\n",
              "            <td>EXTA35</td>\n",
              "        </tr>\n",
              "        <tr>\n",
              "            <td>FAFF20</td>\n",
              "        </tr>\n",
              "        <tr>\n",
              "            <td>FAFF25</td>\n",
              "        </tr>\n",
              "        <tr>\n",
              "            <td>FMA145</td>\n",
              "        </tr>\n",
              "        <tr>\n",
              "            <td>FMA420</td>\n",
              "        </tr>\n",
              "        <tr>\n",
              "            <td>FMAA01</td>\n",
              "        </tr>\n",
              "        <tr>\n",
              "            <td>FMAF05</td>\n",
              "        </tr>\n",
              "        <tr>\n",
              "            <td>FMS012</td>\n",
              "        </tr>\n",
              "        <tr>\n",
              "            <td>FMSF15</td>\n",
              "        </tr>\n",
              "        <tr>\n",
              "            <td>FMSN30</td>\n",
              "        </tr>\n",
              "        <tr>\n",
              "            <td>FMSN35</td>\n",
              "        </tr>\n",
              "        <tr>\n",
              "            <td>FRTN10</td>\n",
              "        </tr>\n",
              "        <tr>\n",
              "            <td>GEMA45</td>\n",
              "        </tr>\n",
              "        <tr>\n",
              "            <td>GEMA70</td>\n",
              "        </tr>\n",
              "        <tr>\n",
              "            <td>MAMF15</td>\n",
              "        </tr>\n",
              "        <tr>\n",
              "            <td>TEK210</td>\n",
              "        </tr>\n",
              "    </tbody>\n",
              "</table>"
            ]
          },
          "metadata": {},
          "execution_count": 92
        }
      ],
      "source": [
        "%%sql\n",
        "SELECT course_code\n",
        "FROM a_student"
      ]
    },
    {
      "cell_type": "markdown",
      "id": "edc29d0e",
      "metadata": {
        "id": "edc29d0e"
      },
      "source": [
        "What are the names of these courses, and how many credits do they give?"
      ]
    },
    {
      "cell_type": "code",
      "execution_count": 71,
      "id": "14925aa5",
      "metadata": {
        "attributes": {
          "classes": [
            "clear"
          ],
          "id": ""
        },
        "id": "14925aa5",
        "outputId": "3cade01d-eb90-4621-a685-b0b362aa4163",
        "colab": {
          "base_uri": "https://localhost:8080/",
          "height": 824
        }
      },
      "outputs": [
        {
          "output_type": "stream",
          "name": "stdout",
          "text": [
            " * sqlite:///lab1.sqlite\n",
            "Done.\n"
          ]
        },
        {
          "output_type": "execute_result",
          "data": {
            "text/plain": [
              "[('Datorer och datoranvändning', 3.0),\n",
              " ('Konstruktion av inbyggda system, fördjupningskurs', 7.5),\n",
              " ('C-programmering', 3.0),\n",
              " ('Algoritmer, datastrukturer och komplexitet', 5.0),\n",
              " ('Datorbaserade mätsystem', 7.5),\n",
              " ('Digitalteknik', 9.0),\n",
              " ('Datasäkerhet', 7.5),\n",
              " ('Digitala och analoga projekt', 7.5),\n",
              " ('Avancerad webbsäkerhet', 4.0),\n",
              " ('Avancerad datasäkerhet', 7.5),\n",
              " ('Elektromagnetisk fältteori', 9.0),\n",
              " ('Signalbehandling - design och implementering', 7.5),\n",
              " ('Medicinsk signalbehandling', 7.5),\n",
              " ('IC-projekt 1', 7.5),\n",
              " ('Datorkommunikation', 4.5),\n",
              " ('Kösystem', 4.5),\n",
              " ('Programvarutestning', 7.5),\n",
              " ('Ingenjörsprocessen för programvaruutveckling - metodik', 5.0),\n",
              " ('Introduktion till Kinas samhällsliv, kultur och språk', 3.0),\n",
              " ('Introduktionskurs i kinesiska för civilingenjörer', 15.0),\n",
              " ('Multispektral avbildning', 7.5),\n",
              " ('Fysik', 11.0),\n",
              " ('Olinjära dynamiska system, projektdel', 3.0),\n",
              " ('Linjär algebra', 6.0),\n",
              " ('Endimensionell analys', 15.0),\n",
              " ('Matematik - System och transformer', 7.0),\n",
              " ('Matematisk statistik, allmän kurs', 9.0),\n",
              " ('Markovprocesser', 7.5),\n",
              " ('Linjär och logistisk regression', 7.5),\n",
              " ('Stationär och icke-stationär spektralanalys', 7.5),\n",
              " ('Flervariabel reglering', 7.5),\n",
              " ('Förståelse och lärande', 3.0),\n",
              " ('Japanska för tekniker', 15.0),\n",
              " ('Arbetsorganisation och ledarskap', 6.0),\n",
              " ('Kognition', 4.5)]"
            ],
            "text/html": [
              "<table>\n",
              "    <thead>\n",
              "        <tr>\n",
              "            <th>course_name</th>\n",
              "            <th>credits</th>\n",
              "        </tr>\n",
              "    </thead>\n",
              "    <tbody>\n",
              "        <tr>\n",
              "            <td>Datorer och datoranvändning</td>\n",
              "            <td>3.0</td>\n",
              "        </tr>\n",
              "        <tr>\n",
              "            <td>Konstruktion av inbyggda system, fördjupningskurs</td>\n",
              "            <td>7.5</td>\n",
              "        </tr>\n",
              "        <tr>\n",
              "            <td>C-programmering</td>\n",
              "            <td>3.0</td>\n",
              "        </tr>\n",
              "        <tr>\n",
              "            <td>Algoritmer, datastrukturer och komplexitet</td>\n",
              "            <td>5.0</td>\n",
              "        </tr>\n",
              "        <tr>\n",
              "            <td>Datorbaserade mätsystem</td>\n",
              "            <td>7.5</td>\n",
              "        </tr>\n",
              "        <tr>\n",
              "            <td>Digitalteknik</td>\n",
              "            <td>9.0</td>\n",
              "        </tr>\n",
              "        <tr>\n",
              "            <td>Datasäkerhet</td>\n",
              "            <td>7.5</td>\n",
              "        </tr>\n",
              "        <tr>\n",
              "            <td>Digitala och analoga projekt</td>\n",
              "            <td>7.5</td>\n",
              "        </tr>\n",
              "        <tr>\n",
              "            <td>Avancerad webbsäkerhet</td>\n",
              "            <td>4.0</td>\n",
              "        </tr>\n",
              "        <tr>\n",
              "            <td>Avancerad datasäkerhet</td>\n",
              "            <td>7.5</td>\n",
              "        </tr>\n",
              "        <tr>\n",
              "            <td>Elektromagnetisk fältteori</td>\n",
              "            <td>9.0</td>\n",
              "        </tr>\n",
              "        <tr>\n",
              "            <td>Signalbehandling - design och implementering</td>\n",
              "            <td>7.5</td>\n",
              "        </tr>\n",
              "        <tr>\n",
              "            <td>Medicinsk signalbehandling</td>\n",
              "            <td>7.5</td>\n",
              "        </tr>\n",
              "        <tr>\n",
              "            <td>IC-projekt 1</td>\n",
              "            <td>7.5</td>\n",
              "        </tr>\n",
              "        <tr>\n",
              "            <td>Datorkommunikation</td>\n",
              "            <td>4.5</td>\n",
              "        </tr>\n",
              "        <tr>\n",
              "            <td>Kösystem</td>\n",
              "            <td>4.5</td>\n",
              "        </tr>\n",
              "        <tr>\n",
              "            <td>Programvarutestning</td>\n",
              "            <td>7.5</td>\n",
              "        </tr>\n",
              "        <tr>\n",
              "            <td>Ingenjörsprocessen för programvaruutveckling - metodik</td>\n",
              "            <td>5.0</td>\n",
              "        </tr>\n",
              "        <tr>\n",
              "            <td>Introduktion till Kinas samhällsliv, kultur och språk</td>\n",
              "            <td>3.0</td>\n",
              "        </tr>\n",
              "        <tr>\n",
              "            <td>Introduktionskurs i kinesiska för civilingenjörer</td>\n",
              "            <td>15.0</td>\n",
              "        </tr>\n",
              "        <tr>\n",
              "            <td>Multispektral avbildning</td>\n",
              "            <td>7.5</td>\n",
              "        </tr>\n",
              "        <tr>\n",
              "            <td>Fysik</td>\n",
              "            <td>11.0</td>\n",
              "        </tr>\n",
              "        <tr>\n",
              "            <td>Olinjära dynamiska system, projektdel</td>\n",
              "            <td>3.0</td>\n",
              "        </tr>\n",
              "        <tr>\n",
              "            <td>Linjär algebra</td>\n",
              "            <td>6.0</td>\n",
              "        </tr>\n",
              "        <tr>\n",
              "            <td>Endimensionell analys</td>\n",
              "            <td>15.0</td>\n",
              "        </tr>\n",
              "        <tr>\n",
              "            <td>Matematik - System och transformer</td>\n",
              "            <td>7.0</td>\n",
              "        </tr>\n",
              "        <tr>\n",
              "            <td>Matematisk statistik, allmän kurs</td>\n",
              "            <td>9.0</td>\n",
              "        </tr>\n",
              "        <tr>\n",
              "            <td>Markovprocesser</td>\n",
              "            <td>7.5</td>\n",
              "        </tr>\n",
              "        <tr>\n",
              "            <td>Linjär och logistisk regression</td>\n",
              "            <td>7.5</td>\n",
              "        </tr>\n",
              "        <tr>\n",
              "            <td>Stationär och icke-stationär spektralanalys</td>\n",
              "            <td>7.5</td>\n",
              "        </tr>\n",
              "        <tr>\n",
              "            <td>Flervariabel reglering</td>\n",
              "            <td>7.5</td>\n",
              "        </tr>\n",
              "        <tr>\n",
              "            <td>Förståelse och lärande</td>\n",
              "            <td>3.0</td>\n",
              "        </tr>\n",
              "        <tr>\n",
              "            <td>Japanska för tekniker</td>\n",
              "            <td>15.0</td>\n",
              "        </tr>\n",
              "        <tr>\n",
              "            <td>Arbetsorganisation och ledarskap</td>\n",
              "            <td>6.0</td>\n",
              "        </tr>\n",
              "        <tr>\n",
              "            <td>Kognition</td>\n",
              "            <td>4.5</td>\n",
              "        </tr>\n",
              "    </tbody>\n",
              "</table>"
            ]
          },
          "metadata": {},
          "execution_count": 71
        }
      ],
      "source": [
        "%%sql\n",
        "SELECT course_name, credits\n",
        "FROM courses\n",
        "WHERE course_code IN (\n",
        "  SELECT course_code\n",
        "  FROM a_student\n",
        ")"
      ]
    },
    {
      "cell_type": "markdown",
      "id": "7b74b0be",
      "metadata": {
        "id": "7b74b0be"
      },
      "source": [
        "How many credits has the student taken?"
      ]
    },
    {
      "cell_type": "code",
      "execution_count": 94,
      "id": "516b50af",
      "metadata": {
        "attributes": {
          "classes": [
            "clear"
          ],
          "id": ""
        },
        "id": "516b50af",
        "outputId": "3cc3b65a-1ec1-428e-d9e9-c3412469d516",
        "colab": {
          "base_uri": "https://localhost:8080/",
          "height": 97
        }
      },
      "outputs": [
        {
          "output_type": "stream",
          "name": "stdout",
          "text": [
            " * sqlite:///lab1.sqlite\n",
            "Done.\n"
          ]
        },
        {
          "output_type": "execute_result",
          "data": {
            "text/plain": [
              "[(249.5,)]"
            ],
            "text/html": [
              "<table>\n",
              "    <thead>\n",
              "        <tr>\n",
              "            <th>credits</th>\n",
              "        </tr>\n",
              "    </thead>\n",
              "    <tbody>\n",
              "        <tr>\n",
              "            <td>249.5</td>\n",
              "        </tr>\n",
              "    </tbody>\n",
              "</table>"
            ]
          },
          "metadata": {},
          "execution_count": 94
        }
      ],
      "source": [
        "%%sql\n",
        "SELECT SUM(credits) as credits\n",
        "FROM a_student"
      ]
    },
    {
      "cell_type": "markdown",
      "id": "e9d36b66",
      "metadata": {
        "id": "e9d36b66"
      },
      "source": [
        "What is the student’s grade average?\n",
        "It turns out that there are actually (at least) two different averages at play here:\n",
        "\n",
        "+ the unweighted average, i.e., just the average of all the students grades (no matter how many credits each course gives), and\n",
        "\n",
        "+ the [weighted average](https://en.wikipedia.org/wiki/Weighted_arithmetic_mean), where we use the credits for a course as a weight.\n",
        "\n",
        "First the unweighted average:"
      ]
    },
    {
      "cell_type": "code",
      "execution_count": 100,
      "id": "f27d33ac",
      "metadata": {
        "attributes": {
          "classes": [
            "clear"
          ],
          "id": ""
        },
        "id": "f27d33ac",
        "outputId": "c06ed0e1-1823-4fc8-f3ca-a50574f460c1",
        "colab": {
          "base_uri": "https://localhost:8080/",
          "height": 97
        }
      },
      "outputs": [
        {
          "output_type": "stream",
          "name": "stdout",
          "text": [
            " * sqlite:///lab1.sqlite\n",
            "Done.\n"
          ]
        },
        {
          "output_type": "execute_result",
          "data": {
            "text/plain": [
              "[(4.0285714285714285,)]"
            ],
            "text/html": [
              "<table>\n",
              "    <thead>\n",
              "        <tr>\n",
              "            <th>average grade</th>\n",
              "        </tr>\n",
              "    </thead>\n",
              "    <tbody>\n",
              "        <tr>\n",
              "            <td>4.0285714285714285</td>\n",
              "        </tr>\n",
              "    </tbody>\n",
              "</table>"
            ]
          },
          "metadata": {},
          "execution_count": 100
        }
      ],
      "source": [
        "%%sql\n",
        "SELECT avg(grade) AS 'average grade'\n",
        "FROM a_student"
      ]
    },
    {
      "cell_type": "markdown",
      "id": "1181c2de",
      "metadata": {
        "id": "1181c2de"
      },
      "source": [
        "And then the weighted average (feel free to ask me about this during QA sessions, if you get stuck):"
      ]
    },
    {
      "cell_type": "code",
      "execution_count": 101,
      "id": "436f410f",
      "metadata": {
        "attributes": {
          "classes": [
            "clear"
          ],
          "id": ""
        },
        "id": "436f410f",
        "outputId": "85d453af-3ec2-458b-aff1-f1f672569d6f",
        "colab": {
          "base_uri": "https://localhost:8080/",
          "height": 97
        }
      },
      "outputs": [
        {
          "output_type": "stream",
          "name": "stdout",
          "text": [
            " * sqlite:///lab1.sqlite\n",
            "Done.\n"
          ]
        },
        {
          "output_type": "execute_result",
          "data": {
            "text/plain": [
              "[(4.138276553106213,)]"
            ],
            "text/html": [
              "<table>\n",
              "    <thead>\n",
              "        <tr>\n",
              "            <th>average grade</th>\n",
              "        </tr>\n",
              "    </thead>\n",
              "    <tbody>\n",
              "        <tr>\n",
              "            <td>4.138276553106213</td>\n",
              "        </tr>\n",
              "    </tbody>\n",
              "</table>"
            ]
          },
          "metadata": {},
          "execution_count": 101
        }
      ],
      "source": [
        "%%sql\n",
        "SELECT sum(grade * credits) / sum(credits) AS 'average grade'\n",
        "FROM a_student"
      ]
    },
    {
      "cell_type": "markdown",
      "id": "bac9e254",
      "metadata": {
        "id": "bac9e254"
      },
      "source": [
        "Hint: If you've created a proper view above, we'll get a 'table' with one row for each course the student has passed, and each row will contain information about grades and credits for the passed course.\n",
        "If we use arithmetic operations in a select statement, and then use an aggregate function around that operation, we'll apply the aggregate function to each value the operation returns (so, e.g., a `sum` over a product will be a scalar product).\n",
        "\n",
        "Now drop the view:"
      ]
    },
    {
      "cell_type": "code",
      "execution_count": 102,
      "id": "a5b36243",
      "metadata": {
        "attributes": {
          "classes": [
            "clear"
          ],
          "id": ""
        },
        "id": "a5b36243",
        "outputId": "4df13274-78a3-4da9-cbd5-103a0af4e8bb",
        "colab": {
          "base_uri": "https://localhost:8080/"
        }
      },
      "outputs": [
        {
          "output_type": "stream",
          "name": "stdout",
          "text": [
            " * sqlite:///lab1.sqlite\n",
            "Done.\n"
          ]
        },
        {
          "output_type": "execute_result",
          "data": {
            "text/plain": [
              "[]"
            ]
          },
          "metadata": {},
          "execution_count": 102
        }
      ],
      "source": [
        "%%sql\n",
        "DROP VIEW a_student"
      ]
    },
    {
      "cell_type": "markdown",
      "id": "e7491b60",
      "metadata": {
        "id": "e7491b60"
      },
      "source": [
        "<a id='problem_7'></a>\n",
        "\n",
        "## Problem 7 - REVIEW\n",
        "\n",
        "For the five departments which offers the most total credits (for its courses in this database) -- output the name of the department, and the total number of offered credits:"
      ]
    },
    {
      "cell_type": "code",
      "execution_count": 107,
      "id": "378b6e87",
      "metadata": {
        "attributes": {
          "classes": [
            "clear"
          ],
          "id": ""
        },
        "id": "378b6e87",
        "outputId": "8305e6a7-cfbd-4b73-f1fa-901a145fcf56",
        "colab": {
          "base_uri": "https://localhost:8080/",
          "height": 183
        }
      },
      "outputs": [
        {
          "output_type": "stream",
          "name": "stdout",
          "text": [
            " * sqlite:///lab1.sqlite\n",
            "Done.\n"
          ]
        },
        {
          "output_type": "execute_result",
          "data": {
            "text/plain": [
              "[('eit', 332.0), ('eda', 216.0), ('fma', 160.0), ('sol', 106.5), ('fms', 84.0)]"
            ],
            "text/html": [
              "<table>\n",
              "    <thead>\n",
              "        <tr>\n",
              "            <th>department_code</th>\n",
              "            <th>SUM(credits)</th>\n",
              "        </tr>\n",
              "    </thead>\n",
              "    <tbody>\n",
              "        <tr>\n",
              "            <td>eit</td>\n",
              "            <td>332.0</td>\n",
              "        </tr>\n",
              "        <tr>\n",
              "            <td>eda</td>\n",
              "            <td>216.0</td>\n",
              "        </tr>\n",
              "        <tr>\n",
              "            <td>fma</td>\n",
              "            <td>160.0</td>\n",
              "        </tr>\n",
              "        <tr>\n",
              "            <td>sol</td>\n",
              "            <td>106.5</td>\n",
              "        </tr>\n",
              "        <tr>\n",
              "            <td>fms</td>\n",
              "            <td>84.0</td>\n",
              "        </tr>\n",
              "    </tbody>\n",
              "</table>"
            ]
          },
          "metadata": {},
          "execution_count": 107
        }
      ],
      "source": [
        "%%sql\n",
        "SELECT department_code, SUM(credits)\n",
        "FROM courses\n",
        "GROUP BY department_code\n",
        "ORDER BY SUM(credits) DESC\n",
        "LIMIT 5"
      ]
    },
    {
      "cell_type": "markdown",
      "id": "658d7555",
      "metadata": {
        "id": "658d7555"
      },
      "source": [
        "Jump to [next REVIEW problem](#problem_8)\n",
        "\n",
        "<a id='problem_8'></a>\n",
        "\n",
        "## Problem 8 - REVIEW\n",
        "\n",
        "Which students (`ssn` and full name) have taken 0 credits? This problem can be solved in several ways, first do it with an outer join:"
      ]
    },
    {
      "cell_type": "code",
      "execution_count": null,
      "id": "af7d527c",
      "metadata": {
        "attributes": {
          "classes": [
            "clear"
          ],
          "id": ""
        },
        "id": "af7d527c"
      },
      "outputs": [],
      "source": [
        "%%sql\n"
      ]
    },
    {
      "cell_type": "markdown",
      "id": "24d2049d",
      "metadata": {
        "id": "24d2049d"
      },
      "source": [
        "Now do the same thing using a subquery:"
      ]
    },
    {
      "cell_type": "code",
      "execution_count": null,
      "id": "38dc0b6a",
      "metadata": {
        "attributes": {
          "classes": [
            "clear"
          ],
          "id": ""
        },
        "id": "38dc0b6a"
      },
      "outputs": [],
      "source": [
        "%%sql\n"
      ]
    },
    {
      "cell_type": "markdown",
      "id": "7edc8b31",
      "metadata": {
        "id": "7edc8b31"
      },
      "source": [
        "Jump to [next REVIEW problem](#problem_9)\n",
        "\n",
        "<a id='problem_9'></a>\n",
        "\n",
        "## Problem 9 - REVIEW\n",
        "\n",
        "List the names and average grades of the 10 students with the highest grade average? You can use the unweighted average."
      ]
    },
    {
      "cell_type": "code",
      "execution_count": null,
      "id": "71c32c87",
      "metadata": {
        "attributes": {
          "classes": [
            "clear"
          ],
          "id": ""
        },
        "id": "71c32c87"
      },
      "outputs": [],
      "source": [
        "%%sql\n"
      ]
    },
    {
      "cell_type": "markdown",
      "id": "819b300e",
      "metadata": {
        "id": "819b300e"
      },
      "source": [
        "Jump to [next REVIEW problem](#problem_10)\n",
        "\n",
        "<a id='problem_10'></a>\n",
        "\n",
        "## Problem 10 - REVIEW\n",
        "\n",
        "List the social security number and total number of credits for all students -- order by total credits, descending. Students with no credits should be included in the listing, with 0 credits (not `NULL`).\n",
        "\n",
        "Use an outer `JOIN` to solve the problem -- you might want to use the function `coalesce(v1, v2, ...)`; it returns the first value which is not `NULL`, so `coalesce(avg(grade), 0)` would give 0 if the were no grades (i.e., if `grade` were `NULL`), you can also try the `ifnull` function."
      ]
    },
    {
      "cell_type": "code",
      "execution_count": null,
      "id": "985a412b",
      "metadata": {
        "attributes": {
          "classes": [
            "clear"
          ],
          "id": ""
        },
        "id": "985a412b"
      },
      "outputs": [],
      "source": [
        "%%sql\n"
      ]
    },
    {
      "cell_type": "markdown",
      "id": "b6deb92e",
      "metadata": {
        "id": "b6deb92e"
      },
      "source": [
        "Jump to [next REVIEW problem](#problem_11)\n",
        "\n",
        "<a id='problem_11'></a>\n",
        "\n",
        "## Problem 11 - REVIEW\n",
        "\n",
        "Do all students have unique names (first name _and_ last name)? If not, show the full name and social security number for all students who have a namesake.\n",
        "\n",
        "As usual there are several ways of solving this, solve it using a `WITH`-statement where you create a 'table' with all duplicate names, and then:\n",
        "\n",
        "Use a `JOIN`:"
      ]
    },
    {
      "cell_type": "code",
      "execution_count": null,
      "id": "1d804c69",
      "metadata": {
        "attributes": {
          "classes": [
            "clear"
          ],
          "id": ""
        },
        "id": "1d804c69"
      },
      "outputs": [],
      "source": [
        "%%sql\n"
      ]
    },
    {
      "cell_type": "markdown",
      "id": "276c58da",
      "metadata": {
        "id": "276c58da"
      },
      "source": [
        "Use a subquery:"
      ]
    },
    {
      "cell_type": "code",
      "execution_count": null,
      "id": "1e02f4e5",
      "metadata": {
        "attributes": {
          "classes": [
            "clear"
          ],
          "id": ""
        },
        "id": "1e02f4e5"
      },
      "outputs": [],
      "source": [
        "%%sql\n"
      ]
    }
  ],
  "metadata": {
    "colab": {
      "provenance": []
    },
    "language_info": {
      "name": "python"
    },
    "kernelspec": {
      "name": "python3",
      "display_name": "Python 3"
    },
    "gpuClass": "standard"
  },
  "nbformat": 4,
  "nbformat_minor": 5
}